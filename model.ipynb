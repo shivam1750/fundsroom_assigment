{
 "cells": [
  {
   "cell_type": "code",
   "execution_count": 546,
   "metadata": {},
   "outputs": [],
   "source": [
    "import pandas as pd\n",
    "import numpy as np \n",
    "import matplotlib.pyplot as plt\n",
    "import plotly.express as px"
   ]
  },
  {
   "cell_type": "code",
   "execution_count": 547,
   "metadata": {},
   "outputs": [
    {
     "data": {
      "text/html": [
       "<div>\n",
       "<style scoped>\n",
       "    .dataframe tbody tr th:only-of-type {\n",
       "        vertical-align: middle;\n",
       "    }\n",
       "\n",
       "    .dataframe tbody tr th {\n",
       "        vertical-align: top;\n",
       "    }\n",
       "\n",
       "    .dataframe thead th {\n",
       "        text-align: right;\n",
       "    }\n",
       "</style>\n",
       "<table border=\"1\" class=\"dataframe\">\n",
       "  <thead>\n",
       "    <tr style=\"text-align: right;\">\n",
       "      <th></th>\n",
       "      <th>scheme_name</th>\n",
       "      <th>min_sip</th>\n",
       "      <th>min_lumpsum</th>\n",
       "      <th>expense_ratio</th>\n",
       "      <th>fund_size_cr</th>\n",
       "      <th>fund_age_yr</th>\n",
       "      <th>fund_manager</th>\n",
       "      <th>sortino</th>\n",
       "      <th>alpha</th>\n",
       "      <th>sd</th>\n",
       "      <th>beta</th>\n",
       "      <th>sharpe</th>\n",
       "      <th>risk_level</th>\n",
       "      <th>amc_name</th>\n",
       "      <th>rating</th>\n",
       "      <th>category</th>\n",
       "      <th>sub_category</th>\n",
       "      <th>returns_1yr</th>\n",
       "      <th>returns_3yr</th>\n",
       "      <th>returns_5yr</th>\n",
       "    </tr>\n",
       "  </thead>\n",
       "  <tbody>\n",
       "    <tr>\n",
       "      <th>0</th>\n",
       "      <td>Aditya Birla SL Active Debt Multi-Mgr FoF-Dir ...</td>\n",
       "      <td>100</td>\n",
       "      <td>100</td>\n",
       "      <td>0.27</td>\n",
       "      <td>10.0</td>\n",
       "      <td>10</td>\n",
       "      <td>Kaustubh Gupta</td>\n",
       "      <td>0.32</td>\n",
       "      <td>2.24</td>\n",
       "      <td>9.39</td>\n",
       "      <td>0.01</td>\n",
       "      <td>0.24</td>\n",
       "      <td>3</td>\n",
       "      <td>Aditya Birla Sun Life Mutual Fund</td>\n",
       "      <td>3</td>\n",
       "      <td>Other</td>\n",
       "      <td>FoFs Domestic</td>\n",
       "      <td>4.0</td>\n",
       "      <td>6.5</td>\n",
       "      <td>6.9</td>\n",
       "    </tr>\n",
       "    <tr>\n",
       "      <th>1</th>\n",
       "      <td>Aditya Birla SL Arbitrage Fund</td>\n",
       "      <td>1000</td>\n",
       "      <td>1000</td>\n",
       "      <td>0.36</td>\n",
       "      <td>4288.0</td>\n",
       "      <td>10</td>\n",
       "      <td>Lovelish Solanki</td>\n",
       "      <td>1.33</td>\n",
       "      <td>1.53</td>\n",
       "      <td>0.72</td>\n",
       "      <td>0.56</td>\n",
       "      <td>1.1</td>\n",
       "      <td>1</td>\n",
       "      <td>Aditya Birla Sun Life Mutual Fund</td>\n",
       "      <td>3</td>\n",
       "      <td>Hybrid</td>\n",
       "      <td>Arbitrage Mutual Funds</td>\n",
       "      <td>5.6</td>\n",
       "      <td>4.8</td>\n",
       "      <td>5.5</td>\n",
       "    </tr>\n",
       "    <tr>\n",
       "      <th>2</th>\n",
       "      <td>Aditya Birla SL Asset Allocator FoF-Dir Growth</td>\n",
       "      <td>1000</td>\n",
       "      <td>1000</td>\n",
       "      <td>0.53</td>\n",
       "      <td>157.0</td>\n",
       "      <td>10</td>\n",
       "      <td>Vinod Narayan Bhat</td>\n",
       "      <td>3.44</td>\n",
       "      <td>2.67</td>\n",
       "      <td>10.58</td>\n",
       "      <td>0.67</td>\n",
       "      <td>1.42</td>\n",
       "      <td>5</td>\n",
       "      <td>Aditya Birla Sun Life Mutual Fund</td>\n",
       "      <td>3</td>\n",
       "      <td>Other</td>\n",
       "      <td>FoFs Domestic</td>\n",
       "      <td>2.0</td>\n",
       "      <td>18.9</td>\n",
       "      <td>9.7</td>\n",
       "    </tr>\n",
       "    <tr>\n",
       "      <th>3</th>\n",
       "      <td>Aditya Birla SL Bal Bhavishya Yojna – Dir Growth</td>\n",
       "      <td>500</td>\n",
       "      <td>1000</td>\n",
       "      <td>0.76</td>\n",
       "      <td>637.0</td>\n",
       "      <td>4</td>\n",
       "      <td>Atul Penkar</td>\n",
       "      <td>2.18</td>\n",
       "      <td>-6.37</td>\n",
       "      <td>14.99</td>\n",
       "      <td>0.85</td>\n",
       "      <td>0.9</td>\n",
       "      <td>6</td>\n",
       "      <td>Aditya Birla Sun Life Mutual Fund</td>\n",
       "      <td>2</td>\n",
       "      <td>Solution Oriented</td>\n",
       "      <td>Childrens Funds</td>\n",
       "      <td>-0.7</td>\n",
       "      <td>17.1</td>\n",
       "      <td>NaN</td>\n",
       "    </tr>\n",
       "    <tr>\n",
       "      <th>4</th>\n",
       "      <td>Aditya Birla SL Balanced Advantage Fund</td>\n",
       "      <td>100</td>\n",
       "      <td>100</td>\n",
       "      <td>0.61</td>\n",
       "      <td>6386.0</td>\n",
       "      <td>10</td>\n",
       "      <td>Mohit Sharma</td>\n",
       "      <td>3.69</td>\n",
       "      <td>1.99</td>\n",
       "      <td>10.38</td>\n",
       "      <td>0.68</td>\n",
       "      <td>1.39</td>\n",
       "      <td>6</td>\n",
       "      <td>Aditya Birla Sun Life Mutual Fund</td>\n",
       "      <td>4</td>\n",
       "      <td>Hybrid</td>\n",
       "      <td>Dynamic Asset Allocation or Balanced Advantage</td>\n",
       "      <td>4.5</td>\n",
       "      <td>18.6</td>\n",
       "      <td>9.7</td>\n",
       "    </tr>\n",
       "    <tr>\n",
       "      <th>...</th>\n",
       "      <td>...</td>\n",
       "      <td>...</td>\n",
       "      <td>...</td>\n",
       "      <td>...</td>\n",
       "      <td>...</td>\n",
       "      <td>...</td>\n",
       "      <td>...</td>\n",
       "      <td>...</td>\n",
       "      <td>...</td>\n",
       "      <td>...</td>\n",
       "      <td>...</td>\n",
       "      <td>...</td>\n",
       "      <td>...</td>\n",
       "      <td>...</td>\n",
       "      <td>...</td>\n",
       "      <td>...</td>\n",
       "      <td>...</td>\n",
       "      <td>...</td>\n",
       "      <td>...</td>\n",
       "      <td>...</td>\n",
       "    </tr>\n",
       "    <tr>\n",
       "      <th>809</th>\n",
       "      <td>UTI-Unit Linked Insurance Plan – Direct</td>\n",
       "      <td>500</td>\n",
       "      <td>15000</td>\n",
       "      <td>0.96</td>\n",
       "      <td>5068.0</td>\n",
       "      <td>10</td>\n",
       "      <td>Amandeep Chopra</td>\n",
       "      <td>2.47</td>\n",
       "      <td>0.92</td>\n",
       "      <td>7.06</td>\n",
       "      <td>0.44</td>\n",
       "      <td>1.29</td>\n",
       "      <td>4</td>\n",
       "      <td>UTI Mutual Fund</td>\n",
       "      <td>0</td>\n",
       "      <td>Hybrid</td>\n",
       "      <td>Dynamic Asset Allocation or Balanced Advantage</td>\n",
       "      <td>-0.7</td>\n",
       "      <td>13.1</td>\n",
       "      <td>6.2</td>\n",
       "    </tr>\n",
       "    <tr>\n",
       "      <th>810</th>\n",
       "      <td>UTI-Value Opportunities Fund</td>\n",
       "      <td>500</td>\n",
       "      <td>5000</td>\n",
       "      <td>1.16</td>\n",
       "      <td>6740.0</td>\n",
       "      <td>10</td>\n",
       "      <td>Vetri Subramaniam</td>\n",
       "      <td>3.21</td>\n",
       "      <td>2.73</td>\n",
       "      <td>15.62</td>\n",
       "      <td>0.9</td>\n",
       "      <td>1.48</td>\n",
       "      <td>6</td>\n",
       "      <td>UTI Mutual Fund</td>\n",
       "      <td>4</td>\n",
       "      <td>Equity</td>\n",
       "      <td>Value Funds</td>\n",
       "      <td>1.7</td>\n",
       "      <td>27.2</td>\n",
       "      <td>12.2</td>\n",
       "    </tr>\n",
       "    <tr>\n",
       "      <th>811</th>\n",
       "      <td>WhiteOak Capital Liquid Fund</td>\n",
       "      <td>500</td>\n",
       "      <td>500</td>\n",
       "      <td>0.26</td>\n",
       "      <td>197.0</td>\n",
       "      <td>4</td>\n",
       "      <td>Piyush Baranwal</td>\n",
       "      <td>-0.42</td>\n",
       "      <td>0.93</td>\n",
       "      <td>0.39</td>\n",
       "      <td>0.72</td>\n",
       "      <td>-0.07</td>\n",
       "      <td>1</td>\n",
       "      <td>WhiteOak Capital Mutual Fund</td>\n",
       "      <td>1</td>\n",
       "      <td>Debt</td>\n",
       "      <td>Liquid Mutual Funds</td>\n",
       "      <td>5.3</td>\n",
       "      <td>3.8</td>\n",
       "      <td>NaN</td>\n",
       "    </tr>\n",
       "    <tr>\n",
       "      <th>812</th>\n",
       "      <td>WhiteOak Capital Overnight Fund</td>\n",
       "      <td>500</td>\n",
       "      <td>500</td>\n",
       "      <td>0.22</td>\n",
       "      <td>14.0</td>\n",
       "      <td>4</td>\n",
       "      <td>Piyush Baranwal</td>\n",
       "      <td>-0.42</td>\n",
       "      <td>0.93</td>\n",
       "      <td>0.39</td>\n",
       "      <td>0.72</td>\n",
       "      <td>-0.07</td>\n",
       "      <td>1</td>\n",
       "      <td>WhiteOak Capital Mutual Fund</td>\n",
       "      <td>1</td>\n",
       "      <td>Debt</td>\n",
       "      <td>Overnight Mutual Funds</td>\n",
       "      <td>1.7</td>\n",
       "      <td>32.4</td>\n",
       "      <td>13.3</td>\n",
       "    </tr>\n",
       "    <tr>\n",
       "      <th>813</th>\n",
       "      <td>WhiteOak Capital Ultra Short Term Fund</td>\n",
       "      <td>500</td>\n",
       "      <td>500</td>\n",
       "      <td>0.33</td>\n",
       "      <td>141.0</td>\n",
       "      <td>4</td>\n",
       "      <td>Piyush Baranwal</td>\n",
       "      <td>2.81</td>\n",
       "      <td>1.2</td>\n",
       "      <td>0.72</td>\n",
       "      <td>0.47</td>\n",
       "      <td>0.8</td>\n",
       "      <td>1</td>\n",
       "      <td>WhiteOak Capital Mutual Fund</td>\n",
       "      <td>2</td>\n",
       "      <td>Debt</td>\n",
       "      <td>Ultra Short Duration Funds</td>\n",
       "      <td>5.3</td>\n",
       "      <td>4.5</td>\n",
       "      <td>NaN</td>\n",
       "    </tr>\n",
       "  </tbody>\n",
       "</table>\n",
       "<p>814 rows × 20 columns</p>\n",
       "</div>"
      ],
      "text/plain": [
       "                                           scheme_name  min_sip  min_lumpsum  \\\n",
       "0    Aditya Birla SL Active Debt Multi-Mgr FoF-Dir ...      100          100   \n",
       "1                       Aditya Birla SL Arbitrage Fund     1000         1000   \n",
       "2       Aditya Birla SL Asset Allocator FoF-Dir Growth     1000         1000   \n",
       "3     Aditya Birla SL Bal Bhavishya Yojna – Dir Growth      500         1000   \n",
       "4              Aditya Birla SL Balanced Advantage Fund      100          100   \n",
       "..                                                 ...      ...          ...   \n",
       "809            UTI-Unit Linked Insurance Plan – Direct      500        15000   \n",
       "810                       UTI-Value Opportunities Fund      500         5000   \n",
       "811                       WhiteOak Capital Liquid Fund      500          500   \n",
       "812                    WhiteOak Capital Overnight Fund      500          500   \n",
       "813             WhiteOak Capital Ultra Short Term Fund      500          500   \n",
       "\n",
       "     expense_ratio  fund_size_cr  fund_age_yr        fund_manager sortino  \\\n",
       "0             0.27          10.0           10      Kaustubh Gupta    0.32   \n",
       "1             0.36        4288.0           10    Lovelish Solanki    1.33   \n",
       "2             0.53         157.0           10  Vinod Narayan Bhat    3.44   \n",
       "3             0.76         637.0            4         Atul Penkar    2.18   \n",
       "4             0.61        6386.0           10        Mohit Sharma    3.69   \n",
       "..             ...           ...          ...                 ...     ...   \n",
       "809           0.96        5068.0           10     Amandeep Chopra    2.47   \n",
       "810           1.16        6740.0           10   Vetri Subramaniam    3.21   \n",
       "811           0.26         197.0            4     Piyush Baranwal   -0.42   \n",
       "812           0.22          14.0            4     Piyush Baranwal   -0.42   \n",
       "813           0.33         141.0            4     Piyush Baranwal    2.81   \n",
       "\n",
       "     alpha     sd  beta sharpe  risk_level                           amc_name  \\\n",
       "0     2.24   9.39  0.01   0.24           3  Aditya Birla Sun Life Mutual Fund   \n",
       "1     1.53   0.72  0.56    1.1           1  Aditya Birla Sun Life Mutual Fund   \n",
       "2     2.67  10.58  0.67   1.42           5  Aditya Birla Sun Life Mutual Fund   \n",
       "3    -6.37  14.99  0.85    0.9           6  Aditya Birla Sun Life Mutual Fund   \n",
       "4     1.99  10.38  0.68   1.39           6  Aditya Birla Sun Life Mutual Fund   \n",
       "..     ...    ...   ...    ...         ...                                ...   \n",
       "809   0.92   7.06  0.44   1.29           4                    UTI Mutual Fund   \n",
       "810   2.73  15.62   0.9   1.48           6                    UTI Mutual Fund   \n",
       "811   0.93   0.39  0.72  -0.07           1       WhiteOak Capital Mutual Fund   \n",
       "812   0.93   0.39  0.72  -0.07           1       WhiteOak Capital Mutual Fund   \n",
       "813    1.2   0.72  0.47    0.8           1       WhiteOak Capital Mutual Fund   \n",
       "\n",
       "     rating           category  \\\n",
       "0         3              Other   \n",
       "1         3             Hybrid   \n",
       "2         3              Other   \n",
       "3         2  Solution Oriented   \n",
       "4         4             Hybrid   \n",
       "..      ...                ...   \n",
       "809       0             Hybrid   \n",
       "810       4             Equity   \n",
       "811       1               Debt   \n",
       "812       1               Debt   \n",
       "813       2               Debt   \n",
       "\n",
       "                                       sub_category  returns_1yr  returns_3yr  \\\n",
       "0                                     FoFs Domestic          4.0          6.5   \n",
       "1                            Arbitrage Mutual Funds          5.6          4.8   \n",
       "2                                     FoFs Domestic          2.0         18.9   \n",
       "3                                   Childrens Funds         -0.7         17.1   \n",
       "4    Dynamic Asset Allocation or Balanced Advantage          4.5         18.6   \n",
       "..                                              ...          ...          ...   \n",
       "809  Dynamic Asset Allocation or Balanced Advantage         -0.7         13.1   \n",
       "810                                     Value Funds          1.7         27.2   \n",
       "811                             Liquid Mutual Funds          5.3          3.8   \n",
       "812                          Overnight Mutual Funds          1.7         32.4   \n",
       "813                      Ultra Short Duration Funds          5.3          4.5   \n",
       "\n",
       "     returns_5yr  \n",
       "0            6.9  \n",
       "1            5.5  \n",
       "2            9.7  \n",
       "3            NaN  \n",
       "4            9.7  \n",
       "..           ...  \n",
       "809          6.2  \n",
       "810         12.2  \n",
       "811          NaN  \n",
       "812         13.3  \n",
       "813          NaN  \n",
       "\n",
       "[814 rows x 20 columns]"
      ]
     },
     "execution_count": 547,
     "metadata": {},
     "output_type": "execute_result"
    }
   ],
   "source": [
    "df = pd.read_csv(\"comprehensive_mutual_funds_data.csv\")\n",
    "df"
   ]
  },
  {
   "cell_type": "code",
   "execution_count": 548,
   "metadata": {},
   "outputs": [
    {
     "data": {
      "text/plain": [
       "scheme_name        0\n",
       "min_sip            0\n",
       "min_lumpsum        0\n",
       "expense_ratio      0\n",
       "fund_size_cr       0\n",
       "fund_age_yr        0\n",
       "fund_manager       0\n",
       "sortino            0\n",
       "alpha              0\n",
       "sd                 0\n",
       "beta               0\n",
       "sharpe             0\n",
       "risk_level         0\n",
       "amc_name           0\n",
       "rating             0\n",
       "category           0\n",
       "sub_category       0\n",
       "returns_1yr        0\n",
       "returns_3yr       21\n",
       "returns_5yr      167\n",
       "dtype: int64"
      ]
     },
     "execution_count": 548,
     "metadata": {},
     "output_type": "execute_result"
    }
   ],
   "source": [
    "df.isna().sum()"
   ]
  },
  {
   "cell_type": "code",
   "execution_count": 549,
   "metadata": {},
   "outputs": [
    {
     "data": {
      "text/plain": [
       "Index(['Scheme_Name', 'Min_Sip', 'Min_Lumpsum', 'Expense_Ratio',\n",
       "       'Fund_Size_Cr', 'Fund_Age_Yr', 'Fund_Manager', 'Sortino', 'Alpha', 'Sd',\n",
       "       'Beta', 'Sharpe', 'Risk_Level', 'Amc_Name', 'Rating', 'Category',\n",
       "       'Sub_Category', 'Returns_1Yr', 'Returns_3Yr', 'Returns_5Yr'],\n",
       "      dtype='object')"
      ]
     },
     "execution_count": 549,
     "metadata": {},
     "output_type": "execute_result"
    }
   ],
   "source": [
    "df.columns = df.columns.str.title()\n",
    "df.columns\n"
   ]
  },
  {
   "cell_type": "code",
   "execution_count": 550,
   "metadata": {},
   "outputs": [],
   "source": [
    "df['Returns_3Yr'] = df['Returns_3Yr'].fillna(0)\n",
    "df['Returns_5Yr'] = df['Returns_5Yr'].fillna(0)"
   ]
  },
  {
   "cell_type": "code",
   "execution_count": 551,
   "metadata": {},
   "outputs": [
    {
     "data": {
      "text/plain": [
       "Scheme_Name      0\n",
       "Min_Sip          0\n",
       "Min_Lumpsum      0\n",
       "Expense_Ratio    0\n",
       "Fund_Size_Cr     0\n",
       "Fund_Age_Yr      0\n",
       "Fund_Manager     0\n",
       "Sortino          0\n",
       "Alpha            0\n",
       "Sd               0\n",
       "Beta             0\n",
       "Sharpe           0\n",
       "Risk_Level       0\n",
       "Amc_Name         0\n",
       "Rating           0\n",
       "Category         0\n",
       "Sub_Category     0\n",
       "Returns_1Yr      0\n",
       "Returns_3Yr      0\n",
       "Returns_5Yr      0\n",
       "dtype: int64"
      ]
     },
     "execution_count": 551,
     "metadata": {},
     "output_type": "execute_result"
    }
   ],
   "source": [
    "df.isna().sum()"
   ]
  },
  {
   "cell_type": "code",
   "execution_count": 552,
   "metadata": {},
   "outputs": [
    {
     "name": "stdout",
     "output_type": "stream",
     "text": [
      "<class 'pandas.core.frame.DataFrame'>\n",
      "RangeIndex: 814 entries, 0 to 813\n",
      "Data columns (total 20 columns):\n",
      " #   Column         Non-Null Count  Dtype  \n",
      "---  ------         --------------  -----  \n",
      " 0   Scheme_Name    814 non-null    object \n",
      " 1   Min_Sip        814 non-null    int64  \n",
      " 2   Min_Lumpsum    814 non-null    int64  \n",
      " 3   Expense_Ratio  814 non-null    float64\n",
      " 4   Fund_Size_Cr   814 non-null    float64\n",
      " 5   Fund_Age_Yr    814 non-null    int64  \n",
      " 6   Fund_Manager   814 non-null    object \n",
      " 7   Sortino        814 non-null    object \n",
      " 8   Alpha          814 non-null    object \n",
      " 9   Sd             814 non-null    object \n",
      " 10  Beta           814 non-null    object \n",
      " 11  Sharpe         814 non-null    object \n",
      " 12  Risk_Level     814 non-null    int64  \n",
      " 13  Amc_Name       814 non-null    object \n",
      " 14  Rating         814 non-null    int64  \n",
      " 15  Category       814 non-null    object \n",
      " 16  Sub_Category   814 non-null    object \n",
      " 17  Returns_1Yr    814 non-null    float64\n",
      " 18  Returns_3Yr    814 non-null    float64\n",
      " 19  Returns_5Yr    814 non-null    float64\n",
      "dtypes: float64(5), int64(5), object(10)\n",
      "memory usage: 127.3+ KB\n"
     ]
    }
   ],
   "source": [
    "df.info()"
   ]
  },
  {
   "cell_type": "code",
   "execution_count": 553,
   "metadata": {},
   "outputs": [
    {
     "data": {
      "text/html": [
       "<div>\n",
       "<style scoped>\n",
       "    .dataframe tbody tr th:only-of-type {\n",
       "        vertical-align: middle;\n",
       "    }\n",
       "\n",
       "    .dataframe tbody tr th {\n",
       "        vertical-align: top;\n",
       "    }\n",
       "\n",
       "    .dataframe thead th {\n",
       "        text-align: right;\n",
       "    }\n",
       "</style>\n",
       "<table border=\"1\" class=\"dataframe\">\n",
       "  <thead>\n",
       "    <tr style=\"text-align: right;\">\n",
       "      <th></th>\n",
       "      <th>Scheme_Name</th>\n",
       "      <th>Min_Sip</th>\n",
       "      <th>Min_Lumpsum</th>\n",
       "      <th>Expense_Ratio</th>\n",
       "      <th>Fund_Size_Cr</th>\n",
       "      <th>Fund_Age_Yr</th>\n",
       "      <th>Fund_Manager</th>\n",
       "      <th>Risk_Level</th>\n",
       "      <th>Amc_Name</th>\n",
       "      <th>Rating</th>\n",
       "      <th>Category</th>\n",
       "      <th>Sub_Category</th>\n",
       "      <th>Returns_1Yr</th>\n",
       "      <th>Returns_3Yr</th>\n",
       "      <th>Returns_5Yr</th>\n",
       "    </tr>\n",
       "  </thead>\n",
       "  <tbody>\n",
       "    <tr>\n",
       "      <th>0</th>\n",
       "      <td>Aditya Birla SL Active Debt Multi-Mgr FoF-Dir ...</td>\n",
       "      <td>100</td>\n",
       "      <td>100</td>\n",
       "      <td>0.27</td>\n",
       "      <td>10.0</td>\n",
       "      <td>10</td>\n",
       "      <td>Kaustubh Gupta</td>\n",
       "      <td>3</td>\n",
       "      <td>Aditya Birla Sun Life Mutual Fund</td>\n",
       "      <td>3</td>\n",
       "      <td>Other</td>\n",
       "      <td>FoFs Domestic</td>\n",
       "      <td>4.0</td>\n",
       "      <td>6.5</td>\n",
       "      <td>6.9</td>\n",
       "    </tr>\n",
       "    <tr>\n",
       "      <th>1</th>\n",
       "      <td>Aditya Birla SL Arbitrage Fund</td>\n",
       "      <td>1000</td>\n",
       "      <td>1000</td>\n",
       "      <td>0.36</td>\n",
       "      <td>4288.0</td>\n",
       "      <td>10</td>\n",
       "      <td>Lovelish Solanki</td>\n",
       "      <td>1</td>\n",
       "      <td>Aditya Birla Sun Life Mutual Fund</td>\n",
       "      <td>3</td>\n",
       "      <td>Hybrid</td>\n",
       "      <td>Arbitrage Mutual Funds</td>\n",
       "      <td>5.6</td>\n",
       "      <td>4.8</td>\n",
       "      <td>5.5</td>\n",
       "    </tr>\n",
       "    <tr>\n",
       "      <th>2</th>\n",
       "      <td>Aditya Birla SL Asset Allocator FoF-Dir Growth</td>\n",
       "      <td>1000</td>\n",
       "      <td>1000</td>\n",
       "      <td>0.53</td>\n",
       "      <td>157.0</td>\n",
       "      <td>10</td>\n",
       "      <td>Vinod Narayan Bhat</td>\n",
       "      <td>5</td>\n",
       "      <td>Aditya Birla Sun Life Mutual Fund</td>\n",
       "      <td>3</td>\n",
       "      <td>Other</td>\n",
       "      <td>FoFs Domestic</td>\n",
       "      <td>2.0</td>\n",
       "      <td>18.9</td>\n",
       "      <td>9.7</td>\n",
       "    </tr>\n",
       "    <tr>\n",
       "      <th>3</th>\n",
       "      <td>Aditya Birla SL Bal Bhavishya Yojna – Dir Growth</td>\n",
       "      <td>500</td>\n",
       "      <td>1000</td>\n",
       "      <td>0.76</td>\n",
       "      <td>637.0</td>\n",
       "      <td>4</td>\n",
       "      <td>Atul Penkar</td>\n",
       "      <td>6</td>\n",
       "      <td>Aditya Birla Sun Life Mutual Fund</td>\n",
       "      <td>2</td>\n",
       "      <td>Solution Oriented</td>\n",
       "      <td>Childrens Funds</td>\n",
       "      <td>-0.7</td>\n",
       "      <td>17.1</td>\n",
       "      <td>0.0</td>\n",
       "    </tr>\n",
       "    <tr>\n",
       "      <th>4</th>\n",
       "      <td>Aditya Birla SL Balanced Advantage Fund</td>\n",
       "      <td>100</td>\n",
       "      <td>100</td>\n",
       "      <td>0.61</td>\n",
       "      <td>6386.0</td>\n",
       "      <td>10</td>\n",
       "      <td>Mohit Sharma</td>\n",
       "      <td>6</td>\n",
       "      <td>Aditya Birla Sun Life Mutual Fund</td>\n",
       "      <td>4</td>\n",
       "      <td>Hybrid</td>\n",
       "      <td>Dynamic Asset Allocation or Balanced Advantage</td>\n",
       "      <td>4.5</td>\n",
       "      <td>18.6</td>\n",
       "      <td>9.7</td>\n",
       "    </tr>\n",
       "    <tr>\n",
       "      <th>...</th>\n",
       "      <td>...</td>\n",
       "      <td>...</td>\n",
       "      <td>...</td>\n",
       "      <td>...</td>\n",
       "      <td>...</td>\n",
       "      <td>...</td>\n",
       "      <td>...</td>\n",
       "      <td>...</td>\n",
       "      <td>...</td>\n",
       "      <td>...</td>\n",
       "      <td>...</td>\n",
       "      <td>...</td>\n",
       "      <td>...</td>\n",
       "      <td>...</td>\n",
       "      <td>...</td>\n",
       "    </tr>\n",
       "    <tr>\n",
       "      <th>809</th>\n",
       "      <td>UTI-Unit Linked Insurance Plan – Direct</td>\n",
       "      <td>500</td>\n",
       "      <td>15000</td>\n",
       "      <td>0.96</td>\n",
       "      <td>5068.0</td>\n",
       "      <td>10</td>\n",
       "      <td>Amandeep Chopra</td>\n",
       "      <td>4</td>\n",
       "      <td>UTI Mutual Fund</td>\n",
       "      <td>0</td>\n",
       "      <td>Hybrid</td>\n",
       "      <td>Dynamic Asset Allocation or Balanced Advantage</td>\n",
       "      <td>-0.7</td>\n",
       "      <td>13.1</td>\n",
       "      <td>6.2</td>\n",
       "    </tr>\n",
       "    <tr>\n",
       "      <th>810</th>\n",
       "      <td>UTI-Value Opportunities Fund</td>\n",
       "      <td>500</td>\n",
       "      <td>5000</td>\n",
       "      <td>1.16</td>\n",
       "      <td>6740.0</td>\n",
       "      <td>10</td>\n",
       "      <td>Vetri Subramaniam</td>\n",
       "      <td>6</td>\n",
       "      <td>UTI Mutual Fund</td>\n",
       "      <td>4</td>\n",
       "      <td>Equity</td>\n",
       "      <td>Value Funds</td>\n",
       "      <td>1.7</td>\n",
       "      <td>27.2</td>\n",
       "      <td>12.2</td>\n",
       "    </tr>\n",
       "    <tr>\n",
       "      <th>811</th>\n",
       "      <td>WhiteOak Capital Liquid Fund</td>\n",
       "      <td>500</td>\n",
       "      <td>500</td>\n",
       "      <td>0.26</td>\n",
       "      <td>197.0</td>\n",
       "      <td>4</td>\n",
       "      <td>Piyush Baranwal</td>\n",
       "      <td>1</td>\n",
       "      <td>WhiteOak Capital Mutual Fund</td>\n",
       "      <td>1</td>\n",
       "      <td>Debt</td>\n",
       "      <td>Liquid Mutual Funds</td>\n",
       "      <td>5.3</td>\n",
       "      <td>3.8</td>\n",
       "      <td>0.0</td>\n",
       "    </tr>\n",
       "    <tr>\n",
       "      <th>812</th>\n",
       "      <td>WhiteOak Capital Overnight Fund</td>\n",
       "      <td>500</td>\n",
       "      <td>500</td>\n",
       "      <td>0.22</td>\n",
       "      <td>14.0</td>\n",
       "      <td>4</td>\n",
       "      <td>Piyush Baranwal</td>\n",
       "      <td>1</td>\n",
       "      <td>WhiteOak Capital Mutual Fund</td>\n",
       "      <td>1</td>\n",
       "      <td>Debt</td>\n",
       "      <td>Overnight Mutual Funds</td>\n",
       "      <td>1.7</td>\n",
       "      <td>32.4</td>\n",
       "      <td>13.3</td>\n",
       "    </tr>\n",
       "    <tr>\n",
       "      <th>813</th>\n",
       "      <td>WhiteOak Capital Ultra Short Term Fund</td>\n",
       "      <td>500</td>\n",
       "      <td>500</td>\n",
       "      <td>0.33</td>\n",
       "      <td>141.0</td>\n",
       "      <td>4</td>\n",
       "      <td>Piyush Baranwal</td>\n",
       "      <td>1</td>\n",
       "      <td>WhiteOak Capital Mutual Fund</td>\n",
       "      <td>2</td>\n",
       "      <td>Debt</td>\n",
       "      <td>Ultra Short Duration Funds</td>\n",
       "      <td>5.3</td>\n",
       "      <td>4.5</td>\n",
       "      <td>0.0</td>\n",
       "    </tr>\n",
       "  </tbody>\n",
       "</table>\n",
       "<p>814 rows × 15 columns</p>\n",
       "</div>"
      ],
      "text/plain": [
       "                                           Scheme_Name  Min_Sip  Min_Lumpsum  \\\n",
       "0    Aditya Birla SL Active Debt Multi-Mgr FoF-Dir ...      100          100   \n",
       "1                       Aditya Birla SL Arbitrage Fund     1000         1000   \n",
       "2       Aditya Birla SL Asset Allocator FoF-Dir Growth     1000         1000   \n",
       "3     Aditya Birla SL Bal Bhavishya Yojna – Dir Growth      500         1000   \n",
       "4              Aditya Birla SL Balanced Advantage Fund      100          100   \n",
       "..                                                 ...      ...          ...   \n",
       "809            UTI-Unit Linked Insurance Plan – Direct      500        15000   \n",
       "810                       UTI-Value Opportunities Fund      500         5000   \n",
       "811                       WhiteOak Capital Liquid Fund      500          500   \n",
       "812                    WhiteOak Capital Overnight Fund      500          500   \n",
       "813             WhiteOak Capital Ultra Short Term Fund      500          500   \n",
       "\n",
       "     Expense_Ratio  Fund_Size_Cr  Fund_Age_Yr        Fund_Manager  Risk_Level  \\\n",
       "0             0.27          10.0           10      Kaustubh Gupta           3   \n",
       "1             0.36        4288.0           10    Lovelish Solanki           1   \n",
       "2             0.53         157.0           10  Vinod Narayan Bhat           5   \n",
       "3             0.76         637.0            4         Atul Penkar           6   \n",
       "4             0.61        6386.0           10        Mohit Sharma           6   \n",
       "..             ...           ...          ...                 ...         ...   \n",
       "809           0.96        5068.0           10     Amandeep Chopra           4   \n",
       "810           1.16        6740.0           10   Vetri Subramaniam           6   \n",
       "811           0.26         197.0            4     Piyush Baranwal           1   \n",
       "812           0.22          14.0            4     Piyush Baranwal           1   \n",
       "813           0.33         141.0            4     Piyush Baranwal           1   \n",
       "\n",
       "                              Amc_Name  Rating           Category  \\\n",
       "0    Aditya Birla Sun Life Mutual Fund       3              Other   \n",
       "1    Aditya Birla Sun Life Mutual Fund       3             Hybrid   \n",
       "2    Aditya Birla Sun Life Mutual Fund       3              Other   \n",
       "3    Aditya Birla Sun Life Mutual Fund       2  Solution Oriented   \n",
       "4    Aditya Birla Sun Life Mutual Fund       4             Hybrid   \n",
       "..                                 ...     ...                ...   \n",
       "809                    UTI Mutual Fund       0             Hybrid   \n",
       "810                    UTI Mutual Fund       4             Equity   \n",
       "811       WhiteOak Capital Mutual Fund       1               Debt   \n",
       "812       WhiteOak Capital Mutual Fund       1               Debt   \n",
       "813       WhiteOak Capital Mutual Fund       2               Debt   \n",
       "\n",
       "                                       Sub_Category  Returns_1Yr  Returns_3Yr  \\\n",
       "0                                     FoFs Domestic          4.0          6.5   \n",
       "1                            Arbitrage Mutual Funds          5.6          4.8   \n",
       "2                                     FoFs Domestic          2.0         18.9   \n",
       "3                                   Childrens Funds         -0.7         17.1   \n",
       "4    Dynamic Asset Allocation or Balanced Advantage          4.5         18.6   \n",
       "..                                              ...          ...          ...   \n",
       "809  Dynamic Asset Allocation or Balanced Advantage         -0.7         13.1   \n",
       "810                                     Value Funds          1.7         27.2   \n",
       "811                             Liquid Mutual Funds          5.3          3.8   \n",
       "812                          Overnight Mutual Funds          1.7         32.4   \n",
       "813                      Ultra Short Duration Funds          5.3          4.5   \n",
       "\n",
       "     Returns_5Yr  \n",
       "0            6.9  \n",
       "1            5.5  \n",
       "2            9.7  \n",
       "3            0.0  \n",
       "4            9.7  \n",
       "..           ...  \n",
       "809          6.2  \n",
       "810         12.2  \n",
       "811          0.0  \n",
       "812         13.3  \n",
       "813          0.0  \n",
       "\n",
       "[814 rows x 15 columns]"
      ]
     },
     "execution_count": 553,
     "metadata": {},
     "output_type": "execute_result"
    }
   ],
   "source": [
    "df = df.drop(columns=['Sortino', 'Alpha', 'Sd','Beta','Sharpe'], axis=1)\n",
    "df"
   ]
  },
  {
   "cell_type": "code",
   "execution_count": 554,
   "metadata": {},
   "outputs": [
    {
     "data": {
      "text/plain": [
       "array(['Other', 'Hybrid', 'Solution Oriented', 'Equity', 'Debt'],\n",
       "      dtype=object)"
      ]
     },
     "execution_count": 554,
     "metadata": {},
     "output_type": "execute_result"
    }
   ],
   "source": [
    "df['Category'].unique()"
   ]
  },
  {
   "cell_type": "markdown",
   "metadata": {},
   "source": [
    "Average Funds"
   ]
  },
  {
   "cell_type": "markdown",
   "metadata": {},
   "source": [
    "Category"
   ]
  },
  {
   "cell_type": "code",
   "execution_count": 555,
   "metadata": {},
   "outputs": [],
   "source": [
    "year_1 = df.groupby('Category')['Returns_1Yr'].mean()\n",
    "year_3 = df.groupby('Category')['Returns_3Yr'].mean()\n",
    "year_5 = df.groupby('Category')['Returns_5Yr'].mean()"
   ]
  },
  {
   "cell_type": "code",
   "execution_count": 556,
   "metadata": {},
   "outputs": [
    {
     "data": {
      "text/plain": [
       "Category\n",
       "Debt                 5.547872\n",
       "Equity               2.842532\n",
       "Hybrid               4.075000\n",
       "Other                2.891250\n",
       "Solution Oriented    1.714286\n",
       "Name: Returns_1Yr, dtype: float64"
      ]
     },
     "execution_count": 556,
     "metadata": {},
     "output_type": "execute_result"
    }
   ],
   "source": [
    "year_1"
   ]
  },
  {
   "cell_type": "code",
   "execution_count": 557,
   "metadata": {},
   "outputs": [
    {
     "data": {
      "text/plain": [
       "Category\n",
       "Debt                  5.808865\n",
       "Equity               29.641558\n",
       "Hybrid               15.272414\n",
       "Other                20.532500\n",
       "Solution Oriented    18.167857\n",
       "Name: Returns_3Yr, dtype: float64"
      ]
     },
     "execution_count": 557,
     "metadata": {},
     "output_type": "execute_result"
    }
   ],
   "source": [
    "year_3"
   ]
  },
  {
   "cell_type": "code",
   "execution_count": 558,
   "metadata": {},
   "outputs": [
    {
     "data": {
      "text/plain": [
       "Category\n",
       "Debt                  4.823050\n",
       "Equity               10.110390\n",
       "Hybrid                7.027586\n",
       "Other                 8.568750\n",
       "Solution Oriented     5.917857\n",
       "Name: Returns_5Yr, dtype: float64"
      ]
     },
     "execution_count": 558,
     "metadata": {},
     "output_type": "execute_result"
    }
   ],
   "source": [
    "year_5"
   ]
  },
  {
   "cell_type": "code",
   "execution_count": 559,
   "metadata": {},
   "outputs": [
    {
     "data": {
      "application/vnd.plotly.v1+json": {
       "config": {
        "plotlyServerURL": "https://plot.ly"
       },
       "data": [
        {
         "alignmentgroup": "True",
         "hovertemplate": "value=%{x}<br>variable=%{y}<extra></extra>",
         "legendgroup": "",
         "marker": {
          "color": "#636efa"
         },
         "name": "",
         "notched": false,
         "offsetgroup": "",
         "orientation": "h",
         "showlegend": false,
         "type": "box",
         "x": [
          5.547872340425532,
          2.8425324675324677,
          4.075,
          2.8912500000000003,
          1.7142857142857142,
          5.80886524822695,
          29.64155844155844,
          15.272413793103448,
          20.5325,
          18.16785714285714,
          4.82304964539007,
          10.11038961038961,
          7.027586206896552,
          8.56875,
          5.917857142857144
         ],
         "x0": " ",
         "xaxis": "x",
         "y": [
          "wide_variable_0",
          "wide_variable_0",
          "wide_variable_0",
          "wide_variable_0",
          "wide_variable_0",
          "wide_variable_1",
          "wide_variable_1",
          "wide_variable_1",
          "wide_variable_1",
          "wide_variable_1",
          "wide_variable_2",
          "wide_variable_2",
          "wide_variable_2",
          "wide_variable_2",
          "wide_variable_2"
         ],
         "y0": " ",
         "yaxis": "y"
        }
       ],
       "layout": {
        "boxmode": "group",
        "legend": {
         "tracegroupgap": 0
        },
        "margin": {
         "t": 60
        },
        "template": {
         "data": {
          "bar": [
           {
            "error_x": {
             "color": "#2a3f5f"
            },
            "error_y": {
             "color": "#2a3f5f"
            },
            "marker": {
             "line": {
              "color": "#E5ECF6",
              "width": 0.5
             },
             "pattern": {
              "fillmode": "overlay",
              "size": 10,
              "solidity": 0.2
             }
            },
            "type": "bar"
           }
          ],
          "barpolar": [
           {
            "marker": {
             "line": {
              "color": "#E5ECF6",
              "width": 0.5
             },
             "pattern": {
              "fillmode": "overlay",
              "size": 10,
              "solidity": 0.2
             }
            },
            "type": "barpolar"
           }
          ],
          "carpet": [
           {
            "aaxis": {
             "endlinecolor": "#2a3f5f",
             "gridcolor": "white",
             "linecolor": "white",
             "minorgridcolor": "white",
             "startlinecolor": "#2a3f5f"
            },
            "baxis": {
             "endlinecolor": "#2a3f5f",
             "gridcolor": "white",
             "linecolor": "white",
             "minorgridcolor": "white",
             "startlinecolor": "#2a3f5f"
            },
            "type": "carpet"
           }
          ],
          "choropleth": [
           {
            "colorbar": {
             "outlinewidth": 0,
             "ticks": ""
            },
            "type": "choropleth"
           }
          ],
          "contour": [
           {
            "colorbar": {
             "outlinewidth": 0,
             "ticks": ""
            },
            "colorscale": [
             [
              0,
              "#0d0887"
             ],
             [
              0.1111111111111111,
              "#46039f"
             ],
             [
              0.2222222222222222,
              "#7201a8"
             ],
             [
              0.3333333333333333,
              "#9c179e"
             ],
             [
              0.4444444444444444,
              "#bd3786"
             ],
             [
              0.5555555555555556,
              "#d8576b"
             ],
             [
              0.6666666666666666,
              "#ed7953"
             ],
             [
              0.7777777777777778,
              "#fb9f3a"
             ],
             [
              0.8888888888888888,
              "#fdca26"
             ],
             [
              1,
              "#f0f921"
             ]
            ],
            "type": "contour"
           }
          ],
          "contourcarpet": [
           {
            "colorbar": {
             "outlinewidth": 0,
             "ticks": ""
            },
            "type": "contourcarpet"
           }
          ],
          "heatmap": [
           {
            "colorbar": {
             "outlinewidth": 0,
             "ticks": ""
            },
            "colorscale": [
             [
              0,
              "#0d0887"
             ],
             [
              0.1111111111111111,
              "#46039f"
             ],
             [
              0.2222222222222222,
              "#7201a8"
             ],
             [
              0.3333333333333333,
              "#9c179e"
             ],
             [
              0.4444444444444444,
              "#bd3786"
             ],
             [
              0.5555555555555556,
              "#d8576b"
             ],
             [
              0.6666666666666666,
              "#ed7953"
             ],
             [
              0.7777777777777778,
              "#fb9f3a"
             ],
             [
              0.8888888888888888,
              "#fdca26"
             ],
             [
              1,
              "#f0f921"
             ]
            ],
            "type": "heatmap"
           }
          ],
          "heatmapgl": [
           {
            "colorbar": {
             "outlinewidth": 0,
             "ticks": ""
            },
            "colorscale": [
             [
              0,
              "#0d0887"
             ],
             [
              0.1111111111111111,
              "#46039f"
             ],
             [
              0.2222222222222222,
              "#7201a8"
             ],
             [
              0.3333333333333333,
              "#9c179e"
             ],
             [
              0.4444444444444444,
              "#bd3786"
             ],
             [
              0.5555555555555556,
              "#d8576b"
             ],
             [
              0.6666666666666666,
              "#ed7953"
             ],
             [
              0.7777777777777778,
              "#fb9f3a"
             ],
             [
              0.8888888888888888,
              "#fdca26"
             ],
             [
              1,
              "#f0f921"
             ]
            ],
            "type": "heatmapgl"
           }
          ],
          "histogram": [
           {
            "marker": {
             "pattern": {
              "fillmode": "overlay",
              "size": 10,
              "solidity": 0.2
             }
            },
            "type": "histogram"
           }
          ],
          "histogram2d": [
           {
            "colorbar": {
             "outlinewidth": 0,
             "ticks": ""
            },
            "colorscale": [
             [
              0,
              "#0d0887"
             ],
             [
              0.1111111111111111,
              "#46039f"
             ],
             [
              0.2222222222222222,
              "#7201a8"
             ],
             [
              0.3333333333333333,
              "#9c179e"
             ],
             [
              0.4444444444444444,
              "#bd3786"
             ],
             [
              0.5555555555555556,
              "#d8576b"
             ],
             [
              0.6666666666666666,
              "#ed7953"
             ],
             [
              0.7777777777777778,
              "#fb9f3a"
             ],
             [
              0.8888888888888888,
              "#fdca26"
             ],
             [
              1,
              "#f0f921"
             ]
            ],
            "type": "histogram2d"
           }
          ],
          "histogram2dcontour": [
           {
            "colorbar": {
             "outlinewidth": 0,
             "ticks": ""
            },
            "colorscale": [
             [
              0,
              "#0d0887"
             ],
             [
              0.1111111111111111,
              "#46039f"
             ],
             [
              0.2222222222222222,
              "#7201a8"
             ],
             [
              0.3333333333333333,
              "#9c179e"
             ],
             [
              0.4444444444444444,
              "#bd3786"
             ],
             [
              0.5555555555555556,
              "#d8576b"
             ],
             [
              0.6666666666666666,
              "#ed7953"
             ],
             [
              0.7777777777777778,
              "#fb9f3a"
             ],
             [
              0.8888888888888888,
              "#fdca26"
             ],
             [
              1,
              "#f0f921"
             ]
            ],
            "type": "histogram2dcontour"
           }
          ],
          "mesh3d": [
           {
            "colorbar": {
             "outlinewidth": 0,
             "ticks": ""
            },
            "type": "mesh3d"
           }
          ],
          "parcoords": [
           {
            "line": {
             "colorbar": {
              "outlinewidth": 0,
              "ticks": ""
             }
            },
            "type": "parcoords"
           }
          ],
          "pie": [
           {
            "automargin": true,
            "type": "pie"
           }
          ],
          "scatter": [
           {
            "fillpattern": {
             "fillmode": "overlay",
             "size": 10,
             "solidity": 0.2
            },
            "type": "scatter"
           }
          ],
          "scatter3d": [
           {
            "line": {
             "colorbar": {
              "outlinewidth": 0,
              "ticks": ""
             }
            },
            "marker": {
             "colorbar": {
              "outlinewidth": 0,
              "ticks": ""
             }
            },
            "type": "scatter3d"
           }
          ],
          "scattercarpet": [
           {
            "marker": {
             "colorbar": {
              "outlinewidth": 0,
              "ticks": ""
             }
            },
            "type": "scattercarpet"
           }
          ],
          "scattergeo": [
           {
            "marker": {
             "colorbar": {
              "outlinewidth": 0,
              "ticks": ""
             }
            },
            "type": "scattergeo"
           }
          ],
          "scattergl": [
           {
            "marker": {
             "colorbar": {
              "outlinewidth": 0,
              "ticks": ""
             }
            },
            "type": "scattergl"
           }
          ],
          "scattermapbox": [
           {
            "marker": {
             "colorbar": {
              "outlinewidth": 0,
              "ticks": ""
             }
            },
            "type": "scattermapbox"
           }
          ],
          "scatterpolar": [
           {
            "marker": {
             "colorbar": {
              "outlinewidth": 0,
              "ticks": ""
             }
            },
            "type": "scatterpolar"
           }
          ],
          "scatterpolargl": [
           {
            "marker": {
             "colorbar": {
              "outlinewidth": 0,
              "ticks": ""
             }
            },
            "type": "scatterpolargl"
           }
          ],
          "scatterternary": [
           {
            "marker": {
             "colorbar": {
              "outlinewidth": 0,
              "ticks": ""
             }
            },
            "type": "scatterternary"
           }
          ],
          "surface": [
           {
            "colorbar": {
             "outlinewidth": 0,
             "ticks": ""
            },
            "colorscale": [
             [
              0,
              "#0d0887"
             ],
             [
              0.1111111111111111,
              "#46039f"
             ],
             [
              0.2222222222222222,
              "#7201a8"
             ],
             [
              0.3333333333333333,
              "#9c179e"
             ],
             [
              0.4444444444444444,
              "#bd3786"
             ],
             [
              0.5555555555555556,
              "#d8576b"
             ],
             [
              0.6666666666666666,
              "#ed7953"
             ],
             [
              0.7777777777777778,
              "#fb9f3a"
             ],
             [
              0.8888888888888888,
              "#fdca26"
             ],
             [
              1,
              "#f0f921"
             ]
            ],
            "type": "surface"
           }
          ],
          "table": [
           {
            "cells": {
             "fill": {
              "color": "#EBF0F8"
             },
             "line": {
              "color": "white"
             }
            },
            "header": {
             "fill": {
              "color": "#C8D4E3"
             },
             "line": {
              "color": "white"
             }
            },
            "type": "table"
           }
          ]
         },
         "layout": {
          "annotationdefaults": {
           "arrowcolor": "#2a3f5f",
           "arrowhead": 0,
           "arrowwidth": 1
          },
          "autotypenumbers": "strict",
          "coloraxis": {
           "colorbar": {
            "outlinewidth": 0,
            "ticks": ""
           }
          },
          "colorscale": {
           "diverging": [
            [
             0,
             "#8e0152"
            ],
            [
             0.1,
             "#c51b7d"
            ],
            [
             0.2,
             "#de77ae"
            ],
            [
             0.3,
             "#f1b6da"
            ],
            [
             0.4,
             "#fde0ef"
            ],
            [
             0.5,
             "#f7f7f7"
            ],
            [
             0.6,
             "#e6f5d0"
            ],
            [
             0.7,
             "#b8e186"
            ],
            [
             0.8,
             "#7fbc41"
            ],
            [
             0.9,
             "#4d9221"
            ],
            [
             1,
             "#276419"
            ]
           ],
           "sequential": [
            [
             0,
             "#0d0887"
            ],
            [
             0.1111111111111111,
             "#46039f"
            ],
            [
             0.2222222222222222,
             "#7201a8"
            ],
            [
             0.3333333333333333,
             "#9c179e"
            ],
            [
             0.4444444444444444,
             "#bd3786"
            ],
            [
             0.5555555555555556,
             "#d8576b"
            ],
            [
             0.6666666666666666,
             "#ed7953"
            ],
            [
             0.7777777777777778,
             "#fb9f3a"
            ],
            [
             0.8888888888888888,
             "#fdca26"
            ],
            [
             1,
             "#f0f921"
            ]
           ],
           "sequentialminus": [
            [
             0,
             "#0d0887"
            ],
            [
             0.1111111111111111,
             "#46039f"
            ],
            [
             0.2222222222222222,
             "#7201a8"
            ],
            [
             0.3333333333333333,
             "#9c179e"
            ],
            [
             0.4444444444444444,
             "#bd3786"
            ],
            [
             0.5555555555555556,
             "#d8576b"
            ],
            [
             0.6666666666666666,
             "#ed7953"
            ],
            [
             0.7777777777777778,
             "#fb9f3a"
            ],
            [
             0.8888888888888888,
             "#fdca26"
            ],
            [
             1,
             "#f0f921"
            ]
           ]
          },
          "colorway": [
           "#636efa",
           "#EF553B",
           "#00cc96",
           "#ab63fa",
           "#FFA15A",
           "#19d3f3",
           "#FF6692",
           "#B6E880",
           "#FF97FF",
           "#FECB52"
          ],
          "font": {
           "color": "#2a3f5f"
          },
          "geo": {
           "bgcolor": "white",
           "lakecolor": "white",
           "landcolor": "#E5ECF6",
           "showlakes": true,
           "showland": true,
           "subunitcolor": "white"
          },
          "hoverlabel": {
           "align": "left"
          },
          "hovermode": "closest",
          "mapbox": {
           "style": "light"
          },
          "paper_bgcolor": "white",
          "plot_bgcolor": "#E5ECF6",
          "polar": {
           "angularaxis": {
            "gridcolor": "white",
            "linecolor": "white",
            "ticks": ""
           },
           "bgcolor": "#E5ECF6",
           "radialaxis": {
            "gridcolor": "white",
            "linecolor": "white",
            "ticks": ""
           }
          },
          "scene": {
           "xaxis": {
            "backgroundcolor": "#E5ECF6",
            "gridcolor": "white",
            "gridwidth": 2,
            "linecolor": "white",
            "showbackground": true,
            "ticks": "",
            "zerolinecolor": "white"
           },
           "yaxis": {
            "backgroundcolor": "#E5ECF6",
            "gridcolor": "white",
            "gridwidth": 2,
            "linecolor": "white",
            "showbackground": true,
            "ticks": "",
            "zerolinecolor": "white"
           },
           "zaxis": {
            "backgroundcolor": "#E5ECF6",
            "gridcolor": "white",
            "gridwidth": 2,
            "linecolor": "white",
            "showbackground": true,
            "ticks": "",
            "zerolinecolor": "white"
           }
          },
          "shapedefaults": {
           "line": {
            "color": "#2a3f5f"
           }
          },
          "ternary": {
           "aaxis": {
            "gridcolor": "white",
            "linecolor": "white",
            "ticks": ""
           },
           "baxis": {
            "gridcolor": "white",
            "linecolor": "white",
            "ticks": ""
           },
           "bgcolor": "#E5ECF6",
           "caxis": {
            "gridcolor": "white",
            "linecolor": "white",
            "ticks": ""
           }
          },
          "title": {
           "x": 0.05
          },
          "xaxis": {
           "automargin": true,
           "gridcolor": "white",
           "linecolor": "white",
           "ticks": "",
           "title": {
            "standoff": 15
           },
           "zerolinecolor": "white",
           "zerolinewidth": 2
          },
          "yaxis": {
           "automargin": true,
           "gridcolor": "white",
           "linecolor": "white",
           "ticks": "",
           "title": {
            "standoff": 15
           },
           "zerolinecolor": "white",
           "zerolinewidth": 2
          }
         }
        },
        "xaxis": {
         "anchor": "y",
         "domain": [
          0,
          1
         ],
         "title": {
          "text": "value"
         }
        },
        "yaxis": {
         "anchor": "x",
         "domain": [
          0,
          1
         ],
         "title": {
          "text": "variable"
         }
        }
       }
      }
     },
     "metadata": {},
     "output_type": "display_data"
    }
   ],
   "source": [
    "px.box(x=[year_1,year_3,year_5],labels='Category')"
   ]
  },
  {
   "cell_type": "markdown",
   "metadata": {},
   "source": [
    "SubCategory"
   ]
  },
  {
   "cell_type": "code",
   "execution_count": 560,
   "metadata": {},
   "outputs": [],
   "source": [
    "year_1df = df.groupby('Sub_Category')['Returns_1Yr'].mean()\n",
    "year_3df = df.groupby('Sub_Category')['Returns_3Yr'].mean()\n",
    "year_5df = df.groupby('Sub_Category')['Returns_5Yr'].mean()"
   ]
  },
  {
   "cell_type": "code",
   "execution_count": 561,
   "metadata": {},
   "outputs": [
    {
     "data": {
      "text/plain": [
       "Sub_Category\n",
       "Aggressive Hybrid Mutual Funds                     2.450000\n",
       "Arbitrage Mutual Funds                             5.363636\n",
       "Banking and PSU Mutual Funds                       4.257143\n",
       "Childrens Funds                                    0.462500\n",
       "Conservative Hybrid Mutual Funds                   5.247059\n",
       "Contra Funds                                       8.366667\n",
       "Corporate Bond Mutual Funds                        3.984211\n",
       "Credit Risk Funds                                 14.421429\n",
       "Dividend Yield Funds                               4.133333\n",
       "Dynamic Asset Allocation or Balanced Advantage     4.342105\n",
       "Dynamic Bond                                       4.727273\n",
       "ELSS Mutual Funds                                  1.426923\n",
       "Equity Savings Mutual Funds                        3.561905\n",
       "Fixed Maturity Plans                               7.900000\n",
       "Flexi Cap Funds                                    0.286364\n",
       "Floater Mutual Funds                               5.318182\n",
       "FoFs Domestic                                      7.420000\n",
       "FoFs Overseas                                     -1.686667\n",
       "Focused Funds                                      0.900000\n",
       "Gilt Mutual Funds                                  4.515789\n",
       "Index Funds                                       -0.103333\n",
       "Large & Mid Cap Funds                              1.891667\n",
       "Large Cap Mutual Funds                             1.385714\n",
       "Liquid Mutual Funds                                5.579412\n",
       "Low Duration Funds                                 5.250000\n",
       "Medium Duration Funds                              5.157143\n",
       "Medium to Long Duration Funds                      4.809091\n",
       "Mid Cap Mutual Funds                               3.291304\n",
       "Money Market Funds                                 5.400000\n",
       "Multi Asset Allocation Mutual Funds                4.957143\n",
       "Multi Cap Funds                                    2.400000\n",
       "Overnight Mutual Funds                             5.223077\n",
       "Retirement Funds                                   2.215000\n",
       "Sectoral / Thematic Mutual Funds                   4.393902\n",
       "Short Duration Funds                               5.543478\n",
       "Small Cap Mutual Funds                             5.232000\n",
       "Ultra Short Duration Funds                         5.276000\n",
       "Value Funds                                        4.007692\n",
       "Name: Returns_1Yr, dtype: float64"
      ]
     },
     "execution_count": 561,
     "metadata": {},
     "output_type": "execute_result"
    }
   ],
   "source": [
    "year_1df"
   ]
  },
  {
   "cell_type": "code",
   "execution_count": 562,
   "metadata": {},
   "outputs": [
    {
     "data": {
      "text/plain": [
       "Sub_Category\n",
       "Aggressive Hybrid Mutual Funds                    23.223333\n",
       "Arbitrage Mutual Funds                             4.418182\n",
       "Banking and PSU Mutual Funds                       5.228571\n",
       "Childrens Funds                                   20.650000\n",
       "Conservative Hybrid Mutual Funds                  11.511765\n",
       "Contra Funds                                      33.566667\n",
       "Corporate Bond Mutual Funds                        7.542105\n",
       "Credit Risk Funds                                  8.328571\n",
       "Dividend Yield Funds                              30.700000\n",
       "Dynamic Asset Allocation or Balanced Advantage    16.036842\n",
       "Dynamic Bond                                       7.045455\n",
       "ELSS Mutual Funds                                 29.517308\n",
       "Equity Savings Mutual Funds                       14.147619\n",
       "Fixed Maturity Plans                              10.350000\n",
       "Flexi Cap Funds                                   26.363636\n",
       "Floater Mutual Funds                               4.118182\n",
       "FoFs Domestic                                     16.145714\n",
       "FoFs Overseas                                     19.953333\n",
       "Focused Funds                                     26.545000\n",
       "Gilt Mutual Funds                                  5.478947\n",
       "Index Funds                                       25.940000\n",
       "Large & Mid Cap Funds                             28.341667\n",
       "Large Cap Mutual Funds                            23.978571\n",
       "Liquid Mutual Funds                                4.135294\n",
       "Low Duration Funds                                 6.065000\n",
       "Medium Duration Funds                              6.250000\n",
       "Medium to Long Duration Funds                      6.227273\n",
       "Mid Cap Mutual Funds                              31.491304\n",
       "Money Market Funds                                 4.615789\n",
       "Multi Asset Allocation Mutual Funds               25.742857\n",
       "Multi Cap Funds                                   31.030000\n",
       "Overnight Mutual Funds                             4.980769\n",
       "Retirement Funds                                  17.175000\n",
       "Sectoral / Thematic Mutual Funds                  28.871951\n",
       "Short Duration Funds                               6.156522\n",
       "Small Cap Mutual Funds                            42.040000\n",
       "Ultra Short Duration Funds                         5.836000\n",
       "Value Funds                                       30.323077\n",
       "Name: Returns_3Yr, dtype: float64"
      ]
     },
     "execution_count": 562,
     "metadata": {},
     "output_type": "execute_result"
    }
   ],
   "source": [
    "year_3df"
   ]
  },
  {
   "cell_type": "code",
   "execution_count": 563,
   "metadata": {},
   "outputs": [
    {
     "data": {
      "text/plain": [
       "Sub_Category\n",
       "Aggressive Hybrid Mutual Funds                     9.126667\n",
       "Arbitrage Mutual Funds                             4.036364\n",
       "Banking and PSU Mutual Funds                       5.300000\n",
       "Childrens Funds                                    8.512500\n",
       "Conservative Hybrid Mutual Funds                   7.341176\n",
       "Contra Funds                                      14.033333\n",
       "Corporate Bond Mutual Funds                        5.447368\n",
       "Credit Risk Funds                                  4.785714\n",
       "Dividend Yield Funds                               9.933333\n",
       "Dynamic Asset Allocation or Balanced Advantage     6.373684\n",
       "Dynamic Bond                                       6.245455\n",
       "ELSS Mutual Funds                                 10.188462\n",
       "Equity Savings Mutual Funds                        5.771429\n",
       "Fixed Maturity Plans                               7.000000\n",
       "Flexi Cap Funds                                   10.363636\n",
       "Floater Mutual Funds                               3.109091\n",
       "FoFs Domestic                                      9.157143\n",
       "FoFs Overseas                                      9.273333\n",
       "Focused Funds                                      9.285000\n",
       "Gilt Mutual Funds                                  7.563158\n",
       "Index Funds                                        7.530000\n",
       "Large & Mid Cap Funds                              9.466667\n",
       "Large Cap Mutual Funds                            10.528571\n",
       "Liquid Mutual Funds                                4.450000\n",
       "Low Duration Funds                                 5.735000\n",
       "Medium Duration Funds                              4.971429\n",
       "Medium to Long Duration Funds                      6.518182\n",
       "Mid Cap Mutual Funds                              12.330435\n",
       "Money Market Funds                                 4.184211\n",
       "Multi Asset Allocation Mutual Funds               12.214286\n",
       "Multi Cap Funds                                   11.060000\n",
       "Overnight Mutual Funds                             1.042308\n",
       "Retirement Funds                                   4.880000\n",
       "Sectoral / Thematic Mutual Funds                  10.240244\n",
       "Short Duration Funds                               5.595652\n",
       "Small Cap Mutual Funds                             7.864000\n",
       "Ultra Short Duration Funds                         3.696000\n",
       "Value Funds                                        8.946154\n",
       "Name: Returns_5Yr, dtype: float64"
      ]
     },
     "execution_count": 563,
     "metadata": {},
     "output_type": "execute_result"
    }
   ],
   "source": [
    "year_5df"
   ]
  },
  {
   "cell_type": "code",
   "execution_count": 564,
   "metadata": {},
   "outputs": [
    {
     "data": {
      "application/vnd.plotly.v1+json": {
       "config": {
        "plotlyServerURL": "https://plot.ly"
       },
       "data": [
        {
         "alignmentgroup": "True",
         "hovertemplate": "value=%{x}<br>variable=%{y}<extra></extra>",
         "legendgroup": "",
         "marker": {
          "color": "#636efa"
         },
         "name": "",
         "notched": false,
         "offsetgroup": "",
         "orientation": "h",
         "showlegend": false,
         "type": "box",
         "x": [
          2.45,
          5.363636363636363,
          4.257142857142857,
          0.4625,
          5.247058823529412,
          8.366666666666667,
          3.9842105263157896,
          14.421428571428573,
          4.133333333333334,
          4.342105263157895,
          4.7272727272727275,
          1.426923076923077,
          3.5619047619047617,
          7.8999999999999995,
          0.2863636363636363,
          5.318181818181818,
          7.42,
          -1.6866666666666668,
          0.9,
          4.515789473684211,
          -0.10333333333333333,
          1.8916666666666666,
          1.3857142857142857,
          5.579411764705882,
          5.25,
          5.1571428571428575,
          4.809090909090909,
          3.2913043478260873,
          5.3999999999999995,
          4.957142857142857,
          2.3999999999999995,
          5.223076923076923,
          2.215,
          4.393902439024391,
          5.543478260869565,
          5.232,
          5.276,
          4.007692307692308,
          23.223333333333336,
          4.418181818181818,
          5.228571428571429,
          20.650000000000002,
          11.511764705882355,
          33.56666666666667,
          7.542105263157896,
          8.32857142857143,
          30.700000000000003,
          16.03684210526316,
          7.045454545454546,
          29.517307692307693,
          14.147619047619049,
          10.35,
          26.363636363636363,
          4.118181818181818,
          16.145714285714288,
          19.953333333333333,
          26.544999999999998,
          5.478947368421053,
          25.94,
          28.34166666666667,
          23.978571428571428,
          4.135294117647058,
          6.0649999999999995,
          6.25,
          6.2272727272727275,
          31.491304347826084,
          4.61578947368421,
          25.74285714285714,
          31.03,
          4.980769230769231,
          17.175,
          28.871951219512194,
          6.156521739130435,
          42.04,
          5.836,
          30.323076923076922,
          9.126666666666667,
          4.036363636363636,
          5.3,
          8.5125,
          7.341176470588235,
          14.033333333333333,
          5.447368421052632,
          4.785714285714286,
          9.933333333333334,
          6.373684210526315,
          6.245454545454546,
          10.188461538461537,
          5.771428571428571,
          7,
          10.363636363636363,
          3.1090909090909093,
          9.157142857142857,
          9.273333333333333,
          9.285,
          7.563157894736843,
          7.53,
          9.466666666666667,
          10.528571428571428,
          4.45,
          5.735,
          4.971428571428571,
          6.5181818181818185,
          12.330434782608696,
          4.184210526315789,
          12.214285714285714,
          11.059999999999999,
          1.0423076923076924,
          4.880000000000001,
          10.240243902439024,
          5.595652173913043,
          7.864,
          3.696,
          8.946153846153846
         ],
         "x0": " ",
         "xaxis": "x",
         "y": [
          "wide_variable_0",
          "wide_variable_0",
          "wide_variable_0",
          "wide_variable_0",
          "wide_variable_0",
          "wide_variable_0",
          "wide_variable_0",
          "wide_variable_0",
          "wide_variable_0",
          "wide_variable_0",
          "wide_variable_0",
          "wide_variable_0",
          "wide_variable_0",
          "wide_variable_0",
          "wide_variable_0",
          "wide_variable_0",
          "wide_variable_0",
          "wide_variable_0",
          "wide_variable_0",
          "wide_variable_0",
          "wide_variable_0",
          "wide_variable_0",
          "wide_variable_0",
          "wide_variable_0",
          "wide_variable_0",
          "wide_variable_0",
          "wide_variable_0",
          "wide_variable_0",
          "wide_variable_0",
          "wide_variable_0",
          "wide_variable_0",
          "wide_variable_0",
          "wide_variable_0",
          "wide_variable_0",
          "wide_variable_0",
          "wide_variable_0",
          "wide_variable_0",
          "wide_variable_0",
          "wide_variable_1",
          "wide_variable_1",
          "wide_variable_1",
          "wide_variable_1",
          "wide_variable_1",
          "wide_variable_1",
          "wide_variable_1",
          "wide_variable_1",
          "wide_variable_1",
          "wide_variable_1",
          "wide_variable_1",
          "wide_variable_1",
          "wide_variable_1",
          "wide_variable_1",
          "wide_variable_1",
          "wide_variable_1",
          "wide_variable_1",
          "wide_variable_1",
          "wide_variable_1",
          "wide_variable_1",
          "wide_variable_1",
          "wide_variable_1",
          "wide_variable_1",
          "wide_variable_1",
          "wide_variable_1",
          "wide_variable_1",
          "wide_variable_1",
          "wide_variable_1",
          "wide_variable_1",
          "wide_variable_1",
          "wide_variable_1",
          "wide_variable_1",
          "wide_variable_1",
          "wide_variable_1",
          "wide_variable_1",
          "wide_variable_1",
          "wide_variable_1",
          "wide_variable_1",
          "wide_variable_2",
          "wide_variable_2",
          "wide_variable_2",
          "wide_variable_2",
          "wide_variable_2",
          "wide_variable_2",
          "wide_variable_2",
          "wide_variable_2",
          "wide_variable_2",
          "wide_variable_2",
          "wide_variable_2",
          "wide_variable_2",
          "wide_variable_2",
          "wide_variable_2",
          "wide_variable_2",
          "wide_variable_2",
          "wide_variable_2",
          "wide_variable_2",
          "wide_variable_2",
          "wide_variable_2",
          "wide_variable_2",
          "wide_variable_2",
          "wide_variable_2",
          "wide_variable_2",
          "wide_variable_2",
          "wide_variable_2",
          "wide_variable_2",
          "wide_variable_2",
          "wide_variable_2",
          "wide_variable_2",
          "wide_variable_2",
          "wide_variable_2",
          "wide_variable_2",
          "wide_variable_2",
          "wide_variable_2",
          "wide_variable_2",
          "wide_variable_2",
          "wide_variable_2"
         ],
         "y0": " ",
         "yaxis": "y"
        }
       ],
       "layout": {
        "boxmode": "group",
        "legend": {
         "tracegroupgap": 0
        },
        "margin": {
         "t": 60
        },
        "template": {
         "data": {
          "bar": [
           {
            "error_x": {
             "color": "#2a3f5f"
            },
            "error_y": {
             "color": "#2a3f5f"
            },
            "marker": {
             "line": {
              "color": "#E5ECF6",
              "width": 0.5
             },
             "pattern": {
              "fillmode": "overlay",
              "size": 10,
              "solidity": 0.2
             }
            },
            "type": "bar"
           }
          ],
          "barpolar": [
           {
            "marker": {
             "line": {
              "color": "#E5ECF6",
              "width": 0.5
             },
             "pattern": {
              "fillmode": "overlay",
              "size": 10,
              "solidity": 0.2
             }
            },
            "type": "barpolar"
           }
          ],
          "carpet": [
           {
            "aaxis": {
             "endlinecolor": "#2a3f5f",
             "gridcolor": "white",
             "linecolor": "white",
             "minorgridcolor": "white",
             "startlinecolor": "#2a3f5f"
            },
            "baxis": {
             "endlinecolor": "#2a3f5f",
             "gridcolor": "white",
             "linecolor": "white",
             "minorgridcolor": "white",
             "startlinecolor": "#2a3f5f"
            },
            "type": "carpet"
           }
          ],
          "choropleth": [
           {
            "colorbar": {
             "outlinewidth": 0,
             "ticks": ""
            },
            "type": "choropleth"
           }
          ],
          "contour": [
           {
            "colorbar": {
             "outlinewidth": 0,
             "ticks": ""
            },
            "colorscale": [
             [
              0,
              "#0d0887"
             ],
             [
              0.1111111111111111,
              "#46039f"
             ],
             [
              0.2222222222222222,
              "#7201a8"
             ],
             [
              0.3333333333333333,
              "#9c179e"
             ],
             [
              0.4444444444444444,
              "#bd3786"
             ],
             [
              0.5555555555555556,
              "#d8576b"
             ],
             [
              0.6666666666666666,
              "#ed7953"
             ],
             [
              0.7777777777777778,
              "#fb9f3a"
             ],
             [
              0.8888888888888888,
              "#fdca26"
             ],
             [
              1,
              "#f0f921"
             ]
            ],
            "type": "contour"
           }
          ],
          "contourcarpet": [
           {
            "colorbar": {
             "outlinewidth": 0,
             "ticks": ""
            },
            "type": "contourcarpet"
           }
          ],
          "heatmap": [
           {
            "colorbar": {
             "outlinewidth": 0,
             "ticks": ""
            },
            "colorscale": [
             [
              0,
              "#0d0887"
             ],
             [
              0.1111111111111111,
              "#46039f"
             ],
             [
              0.2222222222222222,
              "#7201a8"
             ],
             [
              0.3333333333333333,
              "#9c179e"
             ],
             [
              0.4444444444444444,
              "#bd3786"
             ],
             [
              0.5555555555555556,
              "#d8576b"
             ],
             [
              0.6666666666666666,
              "#ed7953"
             ],
             [
              0.7777777777777778,
              "#fb9f3a"
             ],
             [
              0.8888888888888888,
              "#fdca26"
             ],
             [
              1,
              "#f0f921"
             ]
            ],
            "type": "heatmap"
           }
          ],
          "heatmapgl": [
           {
            "colorbar": {
             "outlinewidth": 0,
             "ticks": ""
            },
            "colorscale": [
             [
              0,
              "#0d0887"
             ],
             [
              0.1111111111111111,
              "#46039f"
             ],
             [
              0.2222222222222222,
              "#7201a8"
             ],
             [
              0.3333333333333333,
              "#9c179e"
             ],
             [
              0.4444444444444444,
              "#bd3786"
             ],
             [
              0.5555555555555556,
              "#d8576b"
             ],
             [
              0.6666666666666666,
              "#ed7953"
             ],
             [
              0.7777777777777778,
              "#fb9f3a"
             ],
             [
              0.8888888888888888,
              "#fdca26"
             ],
             [
              1,
              "#f0f921"
             ]
            ],
            "type": "heatmapgl"
           }
          ],
          "histogram": [
           {
            "marker": {
             "pattern": {
              "fillmode": "overlay",
              "size": 10,
              "solidity": 0.2
             }
            },
            "type": "histogram"
           }
          ],
          "histogram2d": [
           {
            "colorbar": {
             "outlinewidth": 0,
             "ticks": ""
            },
            "colorscale": [
             [
              0,
              "#0d0887"
             ],
             [
              0.1111111111111111,
              "#46039f"
             ],
             [
              0.2222222222222222,
              "#7201a8"
             ],
             [
              0.3333333333333333,
              "#9c179e"
             ],
             [
              0.4444444444444444,
              "#bd3786"
             ],
             [
              0.5555555555555556,
              "#d8576b"
             ],
             [
              0.6666666666666666,
              "#ed7953"
             ],
             [
              0.7777777777777778,
              "#fb9f3a"
             ],
             [
              0.8888888888888888,
              "#fdca26"
             ],
             [
              1,
              "#f0f921"
             ]
            ],
            "type": "histogram2d"
           }
          ],
          "histogram2dcontour": [
           {
            "colorbar": {
             "outlinewidth": 0,
             "ticks": ""
            },
            "colorscale": [
             [
              0,
              "#0d0887"
             ],
             [
              0.1111111111111111,
              "#46039f"
             ],
             [
              0.2222222222222222,
              "#7201a8"
             ],
             [
              0.3333333333333333,
              "#9c179e"
             ],
             [
              0.4444444444444444,
              "#bd3786"
             ],
             [
              0.5555555555555556,
              "#d8576b"
             ],
             [
              0.6666666666666666,
              "#ed7953"
             ],
             [
              0.7777777777777778,
              "#fb9f3a"
             ],
             [
              0.8888888888888888,
              "#fdca26"
             ],
             [
              1,
              "#f0f921"
             ]
            ],
            "type": "histogram2dcontour"
           }
          ],
          "mesh3d": [
           {
            "colorbar": {
             "outlinewidth": 0,
             "ticks": ""
            },
            "type": "mesh3d"
           }
          ],
          "parcoords": [
           {
            "line": {
             "colorbar": {
              "outlinewidth": 0,
              "ticks": ""
             }
            },
            "type": "parcoords"
           }
          ],
          "pie": [
           {
            "automargin": true,
            "type": "pie"
           }
          ],
          "scatter": [
           {
            "fillpattern": {
             "fillmode": "overlay",
             "size": 10,
             "solidity": 0.2
            },
            "type": "scatter"
           }
          ],
          "scatter3d": [
           {
            "line": {
             "colorbar": {
              "outlinewidth": 0,
              "ticks": ""
             }
            },
            "marker": {
             "colorbar": {
              "outlinewidth": 0,
              "ticks": ""
             }
            },
            "type": "scatter3d"
           }
          ],
          "scattercarpet": [
           {
            "marker": {
             "colorbar": {
              "outlinewidth": 0,
              "ticks": ""
             }
            },
            "type": "scattercarpet"
           }
          ],
          "scattergeo": [
           {
            "marker": {
             "colorbar": {
              "outlinewidth": 0,
              "ticks": ""
             }
            },
            "type": "scattergeo"
           }
          ],
          "scattergl": [
           {
            "marker": {
             "colorbar": {
              "outlinewidth": 0,
              "ticks": ""
             }
            },
            "type": "scattergl"
           }
          ],
          "scattermapbox": [
           {
            "marker": {
             "colorbar": {
              "outlinewidth": 0,
              "ticks": ""
             }
            },
            "type": "scattermapbox"
           }
          ],
          "scatterpolar": [
           {
            "marker": {
             "colorbar": {
              "outlinewidth": 0,
              "ticks": ""
             }
            },
            "type": "scatterpolar"
           }
          ],
          "scatterpolargl": [
           {
            "marker": {
             "colorbar": {
              "outlinewidth": 0,
              "ticks": ""
             }
            },
            "type": "scatterpolargl"
           }
          ],
          "scatterternary": [
           {
            "marker": {
             "colorbar": {
              "outlinewidth": 0,
              "ticks": ""
             }
            },
            "type": "scatterternary"
           }
          ],
          "surface": [
           {
            "colorbar": {
             "outlinewidth": 0,
             "ticks": ""
            },
            "colorscale": [
             [
              0,
              "#0d0887"
             ],
             [
              0.1111111111111111,
              "#46039f"
             ],
             [
              0.2222222222222222,
              "#7201a8"
             ],
             [
              0.3333333333333333,
              "#9c179e"
             ],
             [
              0.4444444444444444,
              "#bd3786"
             ],
             [
              0.5555555555555556,
              "#d8576b"
             ],
             [
              0.6666666666666666,
              "#ed7953"
             ],
             [
              0.7777777777777778,
              "#fb9f3a"
             ],
             [
              0.8888888888888888,
              "#fdca26"
             ],
             [
              1,
              "#f0f921"
             ]
            ],
            "type": "surface"
           }
          ],
          "table": [
           {
            "cells": {
             "fill": {
              "color": "#EBF0F8"
             },
             "line": {
              "color": "white"
             }
            },
            "header": {
             "fill": {
              "color": "#C8D4E3"
             },
             "line": {
              "color": "white"
             }
            },
            "type": "table"
           }
          ]
         },
         "layout": {
          "annotationdefaults": {
           "arrowcolor": "#2a3f5f",
           "arrowhead": 0,
           "arrowwidth": 1
          },
          "autotypenumbers": "strict",
          "coloraxis": {
           "colorbar": {
            "outlinewidth": 0,
            "ticks": ""
           }
          },
          "colorscale": {
           "diverging": [
            [
             0,
             "#8e0152"
            ],
            [
             0.1,
             "#c51b7d"
            ],
            [
             0.2,
             "#de77ae"
            ],
            [
             0.3,
             "#f1b6da"
            ],
            [
             0.4,
             "#fde0ef"
            ],
            [
             0.5,
             "#f7f7f7"
            ],
            [
             0.6,
             "#e6f5d0"
            ],
            [
             0.7,
             "#b8e186"
            ],
            [
             0.8,
             "#7fbc41"
            ],
            [
             0.9,
             "#4d9221"
            ],
            [
             1,
             "#276419"
            ]
           ],
           "sequential": [
            [
             0,
             "#0d0887"
            ],
            [
             0.1111111111111111,
             "#46039f"
            ],
            [
             0.2222222222222222,
             "#7201a8"
            ],
            [
             0.3333333333333333,
             "#9c179e"
            ],
            [
             0.4444444444444444,
             "#bd3786"
            ],
            [
             0.5555555555555556,
             "#d8576b"
            ],
            [
             0.6666666666666666,
             "#ed7953"
            ],
            [
             0.7777777777777778,
             "#fb9f3a"
            ],
            [
             0.8888888888888888,
             "#fdca26"
            ],
            [
             1,
             "#f0f921"
            ]
           ],
           "sequentialminus": [
            [
             0,
             "#0d0887"
            ],
            [
             0.1111111111111111,
             "#46039f"
            ],
            [
             0.2222222222222222,
             "#7201a8"
            ],
            [
             0.3333333333333333,
             "#9c179e"
            ],
            [
             0.4444444444444444,
             "#bd3786"
            ],
            [
             0.5555555555555556,
             "#d8576b"
            ],
            [
             0.6666666666666666,
             "#ed7953"
            ],
            [
             0.7777777777777778,
             "#fb9f3a"
            ],
            [
             0.8888888888888888,
             "#fdca26"
            ],
            [
             1,
             "#f0f921"
            ]
           ]
          },
          "colorway": [
           "#636efa",
           "#EF553B",
           "#00cc96",
           "#ab63fa",
           "#FFA15A",
           "#19d3f3",
           "#FF6692",
           "#B6E880",
           "#FF97FF",
           "#FECB52"
          ],
          "font": {
           "color": "#2a3f5f"
          },
          "geo": {
           "bgcolor": "white",
           "lakecolor": "white",
           "landcolor": "#E5ECF6",
           "showlakes": true,
           "showland": true,
           "subunitcolor": "white"
          },
          "hoverlabel": {
           "align": "left"
          },
          "hovermode": "closest",
          "mapbox": {
           "style": "light"
          },
          "paper_bgcolor": "white",
          "plot_bgcolor": "#E5ECF6",
          "polar": {
           "angularaxis": {
            "gridcolor": "white",
            "linecolor": "white",
            "ticks": ""
           },
           "bgcolor": "#E5ECF6",
           "radialaxis": {
            "gridcolor": "white",
            "linecolor": "white",
            "ticks": ""
           }
          },
          "scene": {
           "xaxis": {
            "backgroundcolor": "#E5ECF6",
            "gridcolor": "white",
            "gridwidth": 2,
            "linecolor": "white",
            "showbackground": true,
            "ticks": "",
            "zerolinecolor": "white"
           },
           "yaxis": {
            "backgroundcolor": "#E5ECF6",
            "gridcolor": "white",
            "gridwidth": 2,
            "linecolor": "white",
            "showbackground": true,
            "ticks": "",
            "zerolinecolor": "white"
           },
           "zaxis": {
            "backgroundcolor": "#E5ECF6",
            "gridcolor": "white",
            "gridwidth": 2,
            "linecolor": "white",
            "showbackground": true,
            "ticks": "",
            "zerolinecolor": "white"
           }
          },
          "shapedefaults": {
           "line": {
            "color": "#2a3f5f"
           }
          },
          "ternary": {
           "aaxis": {
            "gridcolor": "white",
            "linecolor": "white",
            "ticks": ""
           },
           "baxis": {
            "gridcolor": "white",
            "linecolor": "white",
            "ticks": ""
           },
           "bgcolor": "#E5ECF6",
           "caxis": {
            "gridcolor": "white",
            "linecolor": "white",
            "ticks": ""
           }
          },
          "title": {
           "x": 0.05
          },
          "xaxis": {
           "automargin": true,
           "gridcolor": "white",
           "linecolor": "white",
           "ticks": "",
           "title": {
            "standoff": 15
           },
           "zerolinecolor": "white",
           "zerolinewidth": 2
          },
          "yaxis": {
           "automargin": true,
           "gridcolor": "white",
           "linecolor": "white",
           "ticks": "",
           "title": {
            "standoff": 15
           },
           "zerolinecolor": "white",
           "zerolinewidth": 2
          }
         }
        },
        "xaxis": {
         "anchor": "y",
         "domain": [
          0,
          1
         ],
         "title": {
          "text": "value"
         }
        },
        "yaxis": {
         "anchor": "x",
         "domain": [
          0,
          1
         ],
         "title": {
          "text": "variable"
         }
        }
       }
      }
     },
     "metadata": {},
     "output_type": "display_data"
    }
   ],
   "source": [
    "px.box(x=[year_1df,year_3df,year_5df])"
   ]
  },
  {
   "cell_type": "markdown",
   "metadata": {},
   "source": [
    "Minimum Average Funds"
   ]
  },
  {
   "cell_type": "code",
   "execution_count": 565,
   "metadata": {},
   "outputs": [],
   "source": [
    "min_year_1 = df.groupby('Category')['Returns_1Yr'].min()\n",
    "min_year_3 = df.groupby('Category')['Returns_3Yr'].min()\n",
    "min_year_5 = df.groupby('Category')['Returns_5Yr'].min()"
   ]
  },
  {
   "cell_type": "code",
   "execution_count": 566,
   "metadata": {},
   "outputs": [
    {
     "data": {
      "text/plain": [
       "Category\n",
       "Debt                  1.6\n",
       "Equity              -19.7\n",
       "Hybrid               -5.7\n",
       "Other               -12.1\n",
       "Solution Oriented    -6.5\n",
       "Name: Returns_1Yr, dtype: float64"
      ]
     },
     "execution_count": 566,
     "metadata": {},
     "output_type": "execute_result"
    }
   ],
   "source": [
    "min_year_1"
   ]
  },
  {
   "cell_type": "code",
   "execution_count": 567,
   "metadata": {},
   "outputs": [
    {
     "data": {
      "text/plain": [
       "Category\n",
       "Debt                 0.0\n",
       "Equity               0.0\n",
       "Hybrid               3.3\n",
       "Other                0.0\n",
       "Solution Oriented    4.6\n",
       "Name: Returns_3Yr, dtype: float64"
      ]
     },
     "execution_count": 567,
     "metadata": {},
     "output_type": "execute_result"
    }
   ],
   "source": [
    "min_year_3"
   ]
  },
  {
   "cell_type": "code",
   "execution_count": 568,
   "metadata": {},
   "outputs": [
    {
     "data": {
      "text/plain": [
       "Category\n",
       "Debt                -4.1\n",
       "Equity               0.0\n",
       "Hybrid               0.0\n",
       "Other                0.0\n",
       "Solution Oriented    0.0\n",
       "Name: Returns_5Yr, dtype: float64"
      ]
     },
     "execution_count": 568,
     "metadata": {},
     "output_type": "execute_result"
    }
   ],
   "source": [
    "min_year_5"
   ]
  },
  {
   "cell_type": "code",
   "execution_count": 569,
   "metadata": {},
   "outputs": [
    {
     "data": {
      "application/vnd.plotly.v1+json": {
       "config": {
        "plotlyServerURL": "https://plot.ly"
       },
       "data": [
        {
         "alignmentgroup": "True",
         "hovertemplate": "value=%{x}<br>variable=%{y}<extra></extra>",
         "legendgroup": "",
         "marker": {
          "color": "#636efa"
         },
         "name": "",
         "notched": false,
         "offsetgroup": "",
         "orientation": "h",
         "showlegend": false,
         "type": "box",
         "x": [
          1.6,
          -19.7,
          -5.7,
          -12.1,
          -6.5,
          0,
          0,
          3.3,
          0,
          4.6,
          -4.1,
          0,
          0,
          0,
          0
         ],
         "x0": " ",
         "xaxis": "x",
         "y": [
          "wide_variable_0",
          "wide_variable_0",
          "wide_variable_0",
          "wide_variable_0",
          "wide_variable_0",
          "wide_variable_1",
          "wide_variable_1",
          "wide_variable_1",
          "wide_variable_1",
          "wide_variable_1",
          "wide_variable_2",
          "wide_variable_2",
          "wide_variable_2",
          "wide_variable_2",
          "wide_variable_2"
         ],
         "y0": " ",
         "yaxis": "y"
        }
       ],
       "layout": {
        "boxmode": "group",
        "legend": {
         "tracegroupgap": 0
        },
        "margin": {
         "t": 60
        },
        "template": {
         "data": {
          "bar": [
           {
            "error_x": {
             "color": "#2a3f5f"
            },
            "error_y": {
             "color": "#2a3f5f"
            },
            "marker": {
             "line": {
              "color": "#E5ECF6",
              "width": 0.5
             },
             "pattern": {
              "fillmode": "overlay",
              "size": 10,
              "solidity": 0.2
             }
            },
            "type": "bar"
           }
          ],
          "barpolar": [
           {
            "marker": {
             "line": {
              "color": "#E5ECF6",
              "width": 0.5
             },
             "pattern": {
              "fillmode": "overlay",
              "size": 10,
              "solidity": 0.2
             }
            },
            "type": "barpolar"
           }
          ],
          "carpet": [
           {
            "aaxis": {
             "endlinecolor": "#2a3f5f",
             "gridcolor": "white",
             "linecolor": "white",
             "minorgridcolor": "white",
             "startlinecolor": "#2a3f5f"
            },
            "baxis": {
             "endlinecolor": "#2a3f5f",
             "gridcolor": "white",
             "linecolor": "white",
             "minorgridcolor": "white",
             "startlinecolor": "#2a3f5f"
            },
            "type": "carpet"
           }
          ],
          "choropleth": [
           {
            "colorbar": {
             "outlinewidth": 0,
             "ticks": ""
            },
            "type": "choropleth"
           }
          ],
          "contour": [
           {
            "colorbar": {
             "outlinewidth": 0,
             "ticks": ""
            },
            "colorscale": [
             [
              0,
              "#0d0887"
             ],
             [
              0.1111111111111111,
              "#46039f"
             ],
             [
              0.2222222222222222,
              "#7201a8"
             ],
             [
              0.3333333333333333,
              "#9c179e"
             ],
             [
              0.4444444444444444,
              "#bd3786"
             ],
             [
              0.5555555555555556,
              "#d8576b"
             ],
             [
              0.6666666666666666,
              "#ed7953"
             ],
             [
              0.7777777777777778,
              "#fb9f3a"
             ],
             [
              0.8888888888888888,
              "#fdca26"
             ],
             [
              1,
              "#f0f921"
             ]
            ],
            "type": "contour"
           }
          ],
          "contourcarpet": [
           {
            "colorbar": {
             "outlinewidth": 0,
             "ticks": ""
            },
            "type": "contourcarpet"
           }
          ],
          "heatmap": [
           {
            "colorbar": {
             "outlinewidth": 0,
             "ticks": ""
            },
            "colorscale": [
             [
              0,
              "#0d0887"
             ],
             [
              0.1111111111111111,
              "#46039f"
             ],
             [
              0.2222222222222222,
              "#7201a8"
             ],
             [
              0.3333333333333333,
              "#9c179e"
             ],
             [
              0.4444444444444444,
              "#bd3786"
             ],
             [
              0.5555555555555556,
              "#d8576b"
             ],
             [
              0.6666666666666666,
              "#ed7953"
             ],
             [
              0.7777777777777778,
              "#fb9f3a"
             ],
             [
              0.8888888888888888,
              "#fdca26"
             ],
             [
              1,
              "#f0f921"
             ]
            ],
            "type": "heatmap"
           }
          ],
          "heatmapgl": [
           {
            "colorbar": {
             "outlinewidth": 0,
             "ticks": ""
            },
            "colorscale": [
             [
              0,
              "#0d0887"
             ],
             [
              0.1111111111111111,
              "#46039f"
             ],
             [
              0.2222222222222222,
              "#7201a8"
             ],
             [
              0.3333333333333333,
              "#9c179e"
             ],
             [
              0.4444444444444444,
              "#bd3786"
             ],
             [
              0.5555555555555556,
              "#d8576b"
             ],
             [
              0.6666666666666666,
              "#ed7953"
             ],
             [
              0.7777777777777778,
              "#fb9f3a"
             ],
             [
              0.8888888888888888,
              "#fdca26"
             ],
             [
              1,
              "#f0f921"
             ]
            ],
            "type": "heatmapgl"
           }
          ],
          "histogram": [
           {
            "marker": {
             "pattern": {
              "fillmode": "overlay",
              "size": 10,
              "solidity": 0.2
             }
            },
            "type": "histogram"
           }
          ],
          "histogram2d": [
           {
            "colorbar": {
             "outlinewidth": 0,
             "ticks": ""
            },
            "colorscale": [
             [
              0,
              "#0d0887"
             ],
             [
              0.1111111111111111,
              "#46039f"
             ],
             [
              0.2222222222222222,
              "#7201a8"
             ],
             [
              0.3333333333333333,
              "#9c179e"
             ],
             [
              0.4444444444444444,
              "#bd3786"
             ],
             [
              0.5555555555555556,
              "#d8576b"
             ],
             [
              0.6666666666666666,
              "#ed7953"
             ],
             [
              0.7777777777777778,
              "#fb9f3a"
             ],
             [
              0.8888888888888888,
              "#fdca26"
             ],
             [
              1,
              "#f0f921"
             ]
            ],
            "type": "histogram2d"
           }
          ],
          "histogram2dcontour": [
           {
            "colorbar": {
             "outlinewidth": 0,
             "ticks": ""
            },
            "colorscale": [
             [
              0,
              "#0d0887"
             ],
             [
              0.1111111111111111,
              "#46039f"
             ],
             [
              0.2222222222222222,
              "#7201a8"
             ],
             [
              0.3333333333333333,
              "#9c179e"
             ],
             [
              0.4444444444444444,
              "#bd3786"
             ],
             [
              0.5555555555555556,
              "#d8576b"
             ],
             [
              0.6666666666666666,
              "#ed7953"
             ],
             [
              0.7777777777777778,
              "#fb9f3a"
             ],
             [
              0.8888888888888888,
              "#fdca26"
             ],
             [
              1,
              "#f0f921"
             ]
            ],
            "type": "histogram2dcontour"
           }
          ],
          "mesh3d": [
           {
            "colorbar": {
             "outlinewidth": 0,
             "ticks": ""
            },
            "type": "mesh3d"
           }
          ],
          "parcoords": [
           {
            "line": {
             "colorbar": {
              "outlinewidth": 0,
              "ticks": ""
             }
            },
            "type": "parcoords"
           }
          ],
          "pie": [
           {
            "automargin": true,
            "type": "pie"
           }
          ],
          "scatter": [
           {
            "fillpattern": {
             "fillmode": "overlay",
             "size": 10,
             "solidity": 0.2
            },
            "type": "scatter"
           }
          ],
          "scatter3d": [
           {
            "line": {
             "colorbar": {
              "outlinewidth": 0,
              "ticks": ""
             }
            },
            "marker": {
             "colorbar": {
              "outlinewidth": 0,
              "ticks": ""
             }
            },
            "type": "scatter3d"
           }
          ],
          "scattercarpet": [
           {
            "marker": {
             "colorbar": {
              "outlinewidth": 0,
              "ticks": ""
             }
            },
            "type": "scattercarpet"
           }
          ],
          "scattergeo": [
           {
            "marker": {
             "colorbar": {
              "outlinewidth": 0,
              "ticks": ""
             }
            },
            "type": "scattergeo"
           }
          ],
          "scattergl": [
           {
            "marker": {
             "colorbar": {
              "outlinewidth": 0,
              "ticks": ""
             }
            },
            "type": "scattergl"
           }
          ],
          "scattermapbox": [
           {
            "marker": {
             "colorbar": {
              "outlinewidth": 0,
              "ticks": ""
             }
            },
            "type": "scattermapbox"
           }
          ],
          "scatterpolar": [
           {
            "marker": {
             "colorbar": {
              "outlinewidth": 0,
              "ticks": ""
             }
            },
            "type": "scatterpolar"
           }
          ],
          "scatterpolargl": [
           {
            "marker": {
             "colorbar": {
              "outlinewidth": 0,
              "ticks": ""
             }
            },
            "type": "scatterpolargl"
           }
          ],
          "scatterternary": [
           {
            "marker": {
             "colorbar": {
              "outlinewidth": 0,
              "ticks": ""
             }
            },
            "type": "scatterternary"
           }
          ],
          "surface": [
           {
            "colorbar": {
             "outlinewidth": 0,
             "ticks": ""
            },
            "colorscale": [
             [
              0,
              "#0d0887"
             ],
             [
              0.1111111111111111,
              "#46039f"
             ],
             [
              0.2222222222222222,
              "#7201a8"
             ],
             [
              0.3333333333333333,
              "#9c179e"
             ],
             [
              0.4444444444444444,
              "#bd3786"
             ],
             [
              0.5555555555555556,
              "#d8576b"
             ],
             [
              0.6666666666666666,
              "#ed7953"
             ],
             [
              0.7777777777777778,
              "#fb9f3a"
             ],
             [
              0.8888888888888888,
              "#fdca26"
             ],
             [
              1,
              "#f0f921"
             ]
            ],
            "type": "surface"
           }
          ],
          "table": [
           {
            "cells": {
             "fill": {
              "color": "#EBF0F8"
             },
             "line": {
              "color": "white"
             }
            },
            "header": {
             "fill": {
              "color": "#C8D4E3"
             },
             "line": {
              "color": "white"
             }
            },
            "type": "table"
           }
          ]
         },
         "layout": {
          "annotationdefaults": {
           "arrowcolor": "#2a3f5f",
           "arrowhead": 0,
           "arrowwidth": 1
          },
          "autotypenumbers": "strict",
          "coloraxis": {
           "colorbar": {
            "outlinewidth": 0,
            "ticks": ""
           }
          },
          "colorscale": {
           "diverging": [
            [
             0,
             "#8e0152"
            ],
            [
             0.1,
             "#c51b7d"
            ],
            [
             0.2,
             "#de77ae"
            ],
            [
             0.3,
             "#f1b6da"
            ],
            [
             0.4,
             "#fde0ef"
            ],
            [
             0.5,
             "#f7f7f7"
            ],
            [
             0.6,
             "#e6f5d0"
            ],
            [
             0.7,
             "#b8e186"
            ],
            [
             0.8,
             "#7fbc41"
            ],
            [
             0.9,
             "#4d9221"
            ],
            [
             1,
             "#276419"
            ]
           ],
           "sequential": [
            [
             0,
             "#0d0887"
            ],
            [
             0.1111111111111111,
             "#46039f"
            ],
            [
             0.2222222222222222,
             "#7201a8"
            ],
            [
             0.3333333333333333,
             "#9c179e"
            ],
            [
             0.4444444444444444,
             "#bd3786"
            ],
            [
             0.5555555555555556,
             "#d8576b"
            ],
            [
             0.6666666666666666,
             "#ed7953"
            ],
            [
             0.7777777777777778,
             "#fb9f3a"
            ],
            [
             0.8888888888888888,
             "#fdca26"
            ],
            [
             1,
             "#f0f921"
            ]
           ],
           "sequentialminus": [
            [
             0,
             "#0d0887"
            ],
            [
             0.1111111111111111,
             "#46039f"
            ],
            [
             0.2222222222222222,
             "#7201a8"
            ],
            [
             0.3333333333333333,
             "#9c179e"
            ],
            [
             0.4444444444444444,
             "#bd3786"
            ],
            [
             0.5555555555555556,
             "#d8576b"
            ],
            [
             0.6666666666666666,
             "#ed7953"
            ],
            [
             0.7777777777777778,
             "#fb9f3a"
            ],
            [
             0.8888888888888888,
             "#fdca26"
            ],
            [
             1,
             "#f0f921"
            ]
           ]
          },
          "colorway": [
           "#636efa",
           "#EF553B",
           "#00cc96",
           "#ab63fa",
           "#FFA15A",
           "#19d3f3",
           "#FF6692",
           "#B6E880",
           "#FF97FF",
           "#FECB52"
          ],
          "font": {
           "color": "#2a3f5f"
          },
          "geo": {
           "bgcolor": "white",
           "lakecolor": "white",
           "landcolor": "#E5ECF6",
           "showlakes": true,
           "showland": true,
           "subunitcolor": "white"
          },
          "hoverlabel": {
           "align": "left"
          },
          "hovermode": "closest",
          "mapbox": {
           "style": "light"
          },
          "paper_bgcolor": "white",
          "plot_bgcolor": "#E5ECF6",
          "polar": {
           "angularaxis": {
            "gridcolor": "white",
            "linecolor": "white",
            "ticks": ""
           },
           "bgcolor": "#E5ECF6",
           "radialaxis": {
            "gridcolor": "white",
            "linecolor": "white",
            "ticks": ""
           }
          },
          "scene": {
           "xaxis": {
            "backgroundcolor": "#E5ECF6",
            "gridcolor": "white",
            "gridwidth": 2,
            "linecolor": "white",
            "showbackground": true,
            "ticks": "",
            "zerolinecolor": "white"
           },
           "yaxis": {
            "backgroundcolor": "#E5ECF6",
            "gridcolor": "white",
            "gridwidth": 2,
            "linecolor": "white",
            "showbackground": true,
            "ticks": "",
            "zerolinecolor": "white"
           },
           "zaxis": {
            "backgroundcolor": "#E5ECF6",
            "gridcolor": "white",
            "gridwidth": 2,
            "linecolor": "white",
            "showbackground": true,
            "ticks": "",
            "zerolinecolor": "white"
           }
          },
          "shapedefaults": {
           "line": {
            "color": "#2a3f5f"
           }
          },
          "ternary": {
           "aaxis": {
            "gridcolor": "white",
            "linecolor": "white",
            "ticks": ""
           },
           "baxis": {
            "gridcolor": "white",
            "linecolor": "white",
            "ticks": ""
           },
           "bgcolor": "#E5ECF6",
           "caxis": {
            "gridcolor": "white",
            "linecolor": "white",
            "ticks": ""
           }
          },
          "title": {
           "x": 0.05
          },
          "xaxis": {
           "automargin": true,
           "gridcolor": "white",
           "linecolor": "white",
           "ticks": "",
           "title": {
            "standoff": 15
           },
           "zerolinecolor": "white",
           "zerolinewidth": 2
          },
          "yaxis": {
           "automargin": true,
           "gridcolor": "white",
           "linecolor": "white",
           "ticks": "",
           "title": {
            "standoff": 15
           },
           "zerolinecolor": "white",
           "zerolinewidth": 2
          }
         }
        },
        "xaxis": {
         "anchor": "y",
         "domain": [
          0,
          1
         ],
         "title": {
          "text": "value"
         }
        },
        "yaxis": {
         "anchor": "x",
         "domain": [
          0,
          1
         ],
         "title": {
          "text": "variable"
         }
        }
       }
      }
     },
     "metadata": {},
     "output_type": "display_data"
    }
   ],
   "source": [
    "px.box(x=[min_year_1,min_year_3,min_year_5],labels='Category')"
   ]
  },
  {
   "cell_type": "markdown",
   "metadata": {},
   "source": [
    "Sub_Category"
   ]
  },
  {
   "cell_type": "code",
   "execution_count": 570,
   "metadata": {},
   "outputs": [],
   "source": [
    "min_year_1df = df.groupby('Sub_Category')['Returns_1Yr'].min()\n",
    "min_year_3df = df.groupby('Sub_Category')['Returns_3Yr'].min()\n",
    "min_year_5df = df.groupby('Sub_Category')['Returns_5Yr'].min()"
   ]
  },
  {
   "cell_type": "code",
   "execution_count": 571,
   "metadata": {},
   "outputs": [
    {
     "data": {
      "text/plain": [
       "Sub_Category\n",
       "Aggressive Hybrid Mutual Funds                    -5.7\n",
       "Arbitrage Mutual Funds                             3.9\n",
       "Banking and PSU Mutual Funds                       2.2\n",
       "Childrens Funds                                   -6.5\n",
       "Conservative Hybrid Mutual Funds                   1.8\n",
       "Contra Funds                                       2.8\n",
       "Corporate Bond Mutual Funds                        1.7\n",
       "Credit Risk Funds                                  1.6\n",
       "Dividend Yield Funds                              -1.5\n",
       "Dynamic Asset Allocation or Balanced Advantage    -0.7\n",
       "Dynamic Bond                                       1.7\n",
       "ELSS Mutual Funds                                -11.1\n",
       "Equity Savings Mutual Funds                        0.8\n",
       "Fixed Maturity Plans                               4.4\n",
       "Flexi Cap Funds                                   -9.0\n",
       "Floater Mutual Funds                               4.4\n",
       "FoFs Domestic                                     -5.8\n",
       "FoFs Overseas                                    -12.1\n",
       "Focused Funds                                    -14.7\n",
       "Gilt Mutual Funds                                  3.3\n",
       "Index Funds                                       -6.4\n",
       "Large & Mid Cap Funds                             -9.9\n",
       "Large Cap Mutual Funds                            -6.1\n",
       "Liquid Mutual Funds                                5.2\n",
       "Low Duration Funds                                 4.9\n",
       "Medium Duration Funds                              2.3\n",
       "Medium to Long Duration Funds                      2.5\n",
       "Mid Cap Mutual Funds                              -3.9\n",
       "Money Market Funds                                 4.9\n",
       "Multi Asset Allocation Mutual Funds               -5.1\n",
       "Multi Cap Funds                                   -2.2\n",
       "Overnight Mutual Funds                             1.7\n",
       "Retirement Funds                                  -4.1\n",
       "Sectoral / Thematic Mutual Funds                 -19.7\n",
       "Short Duration Funds                               3.7\n",
       "Small Cap Mutual Funds                            -2.3\n",
       "Ultra Short Duration Funds                         1.7\n",
       "Value Funds                                       -0.7\n",
       "Name: Returns_1Yr, dtype: float64"
      ]
     },
     "execution_count": 571,
     "metadata": {},
     "output_type": "execute_result"
    }
   ],
   "source": [
    "min_year_1df"
   ]
  },
  {
   "cell_type": "code",
   "execution_count": 572,
   "metadata": {},
   "outputs": [
    {
     "data": {
      "text/plain": [
       "Sub_Category\n",
       "Aggressive Hybrid Mutual Funds                    15.1\n",
       "Arbitrage Mutual Funds                             3.3\n",
       "Banking and PSU Mutual Funds                       0.0\n",
       "Childrens Funds                                   15.2\n",
       "Conservative Hybrid Mutual Funds                   8.1\n",
       "Contra Funds                                      27.6\n",
       "Corporate Bond Mutual Funds                        0.0\n",
       "Credit Risk Funds                                  5.7\n",
       "Dividend Yield Funds                              25.2\n",
       "Dynamic Asset Allocation or Balanced Advantage     9.9\n",
       "Dynamic Bond                                       0.0\n",
       "ELSS Mutual Funds                                 15.7\n",
       "Equity Savings Mutual Funds                        9.6\n",
       "Fixed Maturity Plans                               6.2\n",
       "Flexi Cap Funds                                   16.4\n",
       "Floater Mutual Funds                               0.0\n",
       "FoFs Domestic                                      0.0\n",
       "FoFs Overseas                                      9.0\n",
       "Focused Funds                                     14.8\n",
       "Gilt Mutual Funds                                  4.1\n",
       "Index Funds                                       21.8\n",
       "Large & Mid Cap Funds                             22.3\n",
       "Large Cap Mutual Funds                             0.0\n",
       "Liquid Mutual Funds                                0.0\n",
       "Low Duration Funds                                 4.3\n",
       "Medium Duration Funds                              0.0\n",
       "Medium to Long Duration Funds                      4.5\n",
       "Mid Cap Mutual Funds                              21.1\n",
       "Money Market Funds                                 0.0\n",
       "Multi Asset Allocation Mutual Funds               16.1\n",
       "Multi Cap Funds                                   25.0\n",
       "Overnight Mutual Funds                             3.8\n",
       "Retirement Funds                                   4.6\n",
       "Sectoral / Thematic Mutual Funds                  17.1\n",
       "Short Duration Funds                               0.0\n",
       "Small Cap Mutual Funds                            29.4\n",
       "Ultra Short Duration Funds                         0.0\n",
       "Value Funds                                       25.4\n",
       "Name: Returns_3Yr, dtype: float64"
      ]
     },
     "execution_count": 572,
     "metadata": {},
     "output_type": "execute_result"
    }
   ],
   "source": [
    "min_year_3df"
   ]
  },
  {
   "cell_type": "code",
   "execution_count": 573,
   "metadata": {},
   "outputs": [
    {
     "data": {
      "text/plain": [
       "Sub_Category\n",
       "Aggressive Hybrid Mutual Funds                     0.0\n",
       "Arbitrage Mutual Funds                             0.0\n",
       "Banking and PSU Mutual Funds                       0.0\n",
       "Childrens Funds                                    0.0\n",
       "Conservative Hybrid Mutual Funds                   3.4\n",
       "Contra Funds                                      12.3\n",
       "Corporate Bond Mutual Funds                        0.0\n",
       "Credit Risk Funds                                 -4.1\n",
       "Dividend Yield Funds                               0.0\n",
       "Dynamic Asset Allocation or Balanced Advantage     0.0\n",
       "Dynamic Bond                                       0.0\n",
       "ELSS Mutual Funds                                  0.0\n",
       "Equity Savings Mutual Funds                        0.0\n",
       "Fixed Maturity Plans                               0.0\n",
       "Flexi Cap Funds                                    0.0\n",
       "Floater Mutual Funds                               0.0\n",
       "FoFs Domestic                                      0.0\n",
       "FoFs Overseas                                      0.0\n",
       "Focused Funds                                      0.0\n",
       "Gilt Mutual Funds                                  6.3\n",
       "Index Funds                                        0.0\n",
       "Large & Mid Cap Funds                              0.0\n",
       "Large Cap Mutual Funds                             0.0\n",
       "Liquid Mutual Funds                                0.0\n",
       "Low Duration Funds                                 1.8\n",
       "Medium Duration Funds                             -0.9\n",
       "Medium to Long Duration Funds                      3.1\n",
       "Mid Cap Mutual Funds                               0.0\n",
       "Money Market Funds                                 0.0\n",
       "Multi Asset Allocation Mutual Funds                7.5\n",
       "Multi Cap Funds                                    0.0\n",
       "Overnight Mutual Funds                             0.0\n",
       "Retirement Funds                                   0.0\n",
       "Sectoral / Thematic Mutual Funds                   0.0\n",
       "Short Duration Funds                               0.0\n",
       "Small Cap Mutual Funds                             0.0\n",
       "Ultra Short Duration Funds                         0.0\n",
       "Value Funds                                        0.0\n",
       "Name: Returns_5Yr, dtype: float64"
      ]
     },
     "execution_count": 573,
     "metadata": {},
     "output_type": "execute_result"
    }
   ],
   "source": [
    "min_year_5df"
   ]
  },
  {
   "cell_type": "code",
   "execution_count": 574,
   "metadata": {},
   "outputs": [],
   "source": [
    "df['Average_Return_1Yr'] = (df['Returns_1Yr'] + 1).pow(1/1) - 1\n",
    "df['Average_Return_3Yr'] = (df['Returns_3Yr'] + 1).pow(1/3) - 1\n",
    "df['Average_Return_5Yr'] = (df['Returns_5Yr'] + 1).pow(1/5) - 1"
   ]
  },
  {
   "cell_type": "code",
   "execution_count": 575,
   "metadata": {},
   "outputs": [],
   "source": [
    "from sklearn.model_selection import train_test_split\n",
    "from sklearn.linear_model import LinearRegression\n",
    "from sklearn.metrics import mean_squared_error , r2_score"
   ]
  },
  {
   "cell_type": "code",
   "execution_count": 576,
   "metadata": {},
   "outputs": [
    {
     "data": {
      "text/plain": [
       "<bound method DataFrame.info of                                            Scheme_Name  Min_Sip  Min_Lumpsum  \\\n",
       "0    Aditya Birla SL Active Debt Multi-Mgr FoF-Dir ...      100          100   \n",
       "1                       Aditya Birla SL Arbitrage Fund     1000         1000   \n",
       "2       Aditya Birla SL Asset Allocator FoF-Dir Growth     1000         1000   \n",
       "3     Aditya Birla SL Bal Bhavishya Yojna – Dir Growth      500         1000   \n",
       "4              Aditya Birla SL Balanced Advantage Fund      100          100   \n",
       "..                                                 ...      ...          ...   \n",
       "809            UTI-Unit Linked Insurance Plan – Direct      500        15000   \n",
       "810                       UTI-Value Opportunities Fund      500         5000   \n",
       "811                       WhiteOak Capital Liquid Fund      500          500   \n",
       "812                    WhiteOak Capital Overnight Fund      500          500   \n",
       "813             WhiteOak Capital Ultra Short Term Fund      500          500   \n",
       "\n",
       "     Expense_Ratio  Fund_Size_Cr  Fund_Age_Yr        Fund_Manager  Risk_Level  \\\n",
       "0             0.27          10.0           10      Kaustubh Gupta           3   \n",
       "1             0.36        4288.0           10    Lovelish Solanki           1   \n",
       "2             0.53         157.0           10  Vinod Narayan Bhat           5   \n",
       "3             0.76         637.0            4         Atul Penkar           6   \n",
       "4             0.61        6386.0           10        Mohit Sharma           6   \n",
       "..             ...           ...          ...                 ...         ...   \n",
       "809           0.96        5068.0           10     Amandeep Chopra           4   \n",
       "810           1.16        6740.0           10   Vetri Subramaniam           6   \n",
       "811           0.26         197.0            4     Piyush Baranwal           1   \n",
       "812           0.22          14.0            4     Piyush Baranwal           1   \n",
       "813           0.33         141.0            4     Piyush Baranwal           1   \n",
       "\n",
       "                              Amc_Name  Rating           Category  \\\n",
       "0    Aditya Birla Sun Life Mutual Fund       3              Other   \n",
       "1    Aditya Birla Sun Life Mutual Fund       3             Hybrid   \n",
       "2    Aditya Birla Sun Life Mutual Fund       3              Other   \n",
       "3    Aditya Birla Sun Life Mutual Fund       2  Solution Oriented   \n",
       "4    Aditya Birla Sun Life Mutual Fund       4             Hybrid   \n",
       "..                                 ...     ...                ...   \n",
       "809                    UTI Mutual Fund       0             Hybrid   \n",
       "810                    UTI Mutual Fund       4             Equity   \n",
       "811       WhiteOak Capital Mutual Fund       1               Debt   \n",
       "812       WhiteOak Capital Mutual Fund       1               Debt   \n",
       "813       WhiteOak Capital Mutual Fund       2               Debt   \n",
       "\n",
       "                                       Sub_Category  Returns_1Yr  Returns_3Yr  \\\n",
       "0                                     FoFs Domestic          4.0          6.5   \n",
       "1                            Arbitrage Mutual Funds          5.6          4.8   \n",
       "2                                     FoFs Domestic          2.0         18.9   \n",
       "3                                   Childrens Funds         -0.7         17.1   \n",
       "4    Dynamic Asset Allocation or Balanced Advantage          4.5         18.6   \n",
       "..                                              ...          ...          ...   \n",
       "809  Dynamic Asset Allocation or Balanced Advantage         -0.7         13.1   \n",
       "810                                     Value Funds          1.7         27.2   \n",
       "811                             Liquid Mutual Funds          5.3          3.8   \n",
       "812                          Overnight Mutual Funds          1.7         32.4   \n",
       "813                      Ultra Short Duration Funds          5.3          4.5   \n",
       "\n",
       "     Returns_5Yr  Average_Return_1Yr  Average_Return_3Yr  Average_Return_5Yr  \n",
       "0            6.9                 4.0            0.957434            0.511908  \n",
       "1            5.5                 5.6            0.796702            0.454061  \n",
       "2            9.7                 2.0            1.709886            0.606485  \n",
       "3            0.0                -0.7            1.625586            0.000000  \n",
       "4            9.7                 4.5            1.696199            0.606485  \n",
       "..           ...                 ...                 ...                 ...  \n",
       "809          6.2                -0.7            1.415867            0.484111  \n",
       "810         12.2                 1.7            2.043802            0.675386  \n",
       "811          0.0                 5.3            0.686865            0.000000  \n",
       "812         13.3                 1.7            2.220442            0.702422  \n",
       "813          0.0                 5.3            0.765174            0.000000  \n",
       "\n",
       "[814 rows x 18 columns]>"
      ]
     },
     "execution_count": 576,
     "metadata": {},
     "output_type": "execute_result"
    }
   ],
   "source": [
    "df.columns = df.columns.str.title()\n",
    "df.info"
   ]
  },
  {
   "cell_type": "code",
   "execution_count": 577,
   "metadata": {},
   "outputs": [
    {
     "data": {
      "text/html": [
       "<div>\n",
       "<style scoped>\n",
       "    .dataframe tbody tr th:only-of-type {\n",
       "        vertical-align: middle;\n",
       "    }\n",
       "\n",
       "    .dataframe tbody tr th {\n",
       "        vertical-align: top;\n",
       "    }\n",
       "\n",
       "    .dataframe thead th {\n",
       "        text-align: right;\n",
       "    }\n",
       "</style>\n",
       "<table border=\"1\" class=\"dataframe\">\n",
       "  <thead>\n",
       "    <tr style=\"text-align: right;\">\n",
       "      <th></th>\n",
       "      <th>Scheme_Name</th>\n",
       "      <th>Min_Sip</th>\n",
       "      <th>Min_Lumpsum</th>\n",
       "      <th>Expense_Ratio</th>\n",
       "      <th>Fund_Size_Cr</th>\n",
       "      <th>Fund_Age_Yr</th>\n",
       "      <th>Fund_Manager</th>\n",
       "      <th>Risk_Level</th>\n",
       "      <th>Amc_Name</th>\n",
       "      <th>Rating</th>\n",
       "      <th>Category</th>\n",
       "      <th>Sub_Category</th>\n",
       "      <th>Returns_1Yr</th>\n",
       "      <th>Returns_3Yr</th>\n",
       "      <th>Returns_5Yr</th>\n",
       "      <th>Average_Return_1Yr</th>\n",
       "      <th>Average_Return_3Yr</th>\n",
       "      <th>Average_Return_5Yr</th>\n",
       "    </tr>\n",
       "  </thead>\n",
       "  <tbody>\n",
       "    <tr>\n",
       "      <th>0</th>\n",
       "      <td>Aditya Birla SL Active Debt Multi-Mgr FoF-Dir ...</td>\n",
       "      <td>100</td>\n",
       "      <td>100</td>\n",
       "      <td>0.27</td>\n",
       "      <td>10.0</td>\n",
       "      <td>10</td>\n",
       "      <td>Kaustubh Gupta</td>\n",
       "      <td>3</td>\n",
       "      <td>Aditya Birla Sun Life Mutual Fund</td>\n",
       "      <td>3</td>\n",
       "      <td>Other</td>\n",
       "      <td>FoFs Domestic</td>\n",
       "      <td>4.0</td>\n",
       "      <td>6.5</td>\n",
       "      <td>6.9</td>\n",
       "      <td>4.0</td>\n",
       "      <td>0.957434</td>\n",
       "      <td>0.511908</td>\n",
       "    </tr>\n",
       "    <tr>\n",
       "      <th>1</th>\n",
       "      <td>Aditya Birla SL Arbitrage Fund</td>\n",
       "      <td>1000</td>\n",
       "      <td>1000</td>\n",
       "      <td>0.36</td>\n",
       "      <td>4288.0</td>\n",
       "      <td>10</td>\n",
       "      <td>Lovelish Solanki</td>\n",
       "      <td>1</td>\n",
       "      <td>Aditya Birla Sun Life Mutual Fund</td>\n",
       "      <td>3</td>\n",
       "      <td>Hybrid</td>\n",
       "      <td>Arbitrage Mutual Funds</td>\n",
       "      <td>5.6</td>\n",
       "      <td>4.8</td>\n",
       "      <td>5.5</td>\n",
       "      <td>5.6</td>\n",
       "      <td>0.796702</td>\n",
       "      <td>0.454061</td>\n",
       "    </tr>\n",
       "    <tr>\n",
       "      <th>2</th>\n",
       "      <td>Aditya Birla SL Asset Allocator FoF-Dir Growth</td>\n",
       "      <td>1000</td>\n",
       "      <td>1000</td>\n",
       "      <td>0.53</td>\n",
       "      <td>157.0</td>\n",
       "      <td>10</td>\n",
       "      <td>Vinod Narayan Bhat</td>\n",
       "      <td>5</td>\n",
       "      <td>Aditya Birla Sun Life Mutual Fund</td>\n",
       "      <td>3</td>\n",
       "      <td>Other</td>\n",
       "      <td>FoFs Domestic</td>\n",
       "      <td>2.0</td>\n",
       "      <td>18.9</td>\n",
       "      <td>9.7</td>\n",
       "      <td>2.0</td>\n",
       "      <td>1.709886</td>\n",
       "      <td>0.606485</td>\n",
       "    </tr>\n",
       "    <tr>\n",
       "      <th>3</th>\n",
       "      <td>Aditya Birla SL Bal Bhavishya Yojna – Dir Growth</td>\n",
       "      <td>500</td>\n",
       "      <td>1000</td>\n",
       "      <td>0.76</td>\n",
       "      <td>637.0</td>\n",
       "      <td>4</td>\n",
       "      <td>Atul Penkar</td>\n",
       "      <td>6</td>\n",
       "      <td>Aditya Birla Sun Life Mutual Fund</td>\n",
       "      <td>2</td>\n",
       "      <td>Solution Oriented</td>\n",
       "      <td>Childrens Funds</td>\n",
       "      <td>-0.7</td>\n",
       "      <td>17.1</td>\n",
       "      <td>0.0</td>\n",
       "      <td>-0.7</td>\n",
       "      <td>1.625586</td>\n",
       "      <td>0.000000</td>\n",
       "    </tr>\n",
       "    <tr>\n",
       "      <th>4</th>\n",
       "      <td>Aditya Birla SL Balanced Advantage Fund</td>\n",
       "      <td>100</td>\n",
       "      <td>100</td>\n",
       "      <td>0.61</td>\n",
       "      <td>6386.0</td>\n",
       "      <td>10</td>\n",
       "      <td>Mohit Sharma</td>\n",
       "      <td>6</td>\n",
       "      <td>Aditya Birla Sun Life Mutual Fund</td>\n",
       "      <td>4</td>\n",
       "      <td>Hybrid</td>\n",
       "      <td>Dynamic Asset Allocation or Balanced Advantage</td>\n",
       "      <td>4.5</td>\n",
       "      <td>18.6</td>\n",
       "      <td>9.7</td>\n",
       "      <td>4.5</td>\n",
       "      <td>1.696199</td>\n",
       "      <td>0.606485</td>\n",
       "    </tr>\n",
       "  </tbody>\n",
       "</table>\n",
       "</div>"
      ],
      "text/plain": [
       "                                         Scheme_Name  Min_Sip  Min_Lumpsum  \\\n",
       "0  Aditya Birla SL Active Debt Multi-Mgr FoF-Dir ...      100          100   \n",
       "1                     Aditya Birla SL Arbitrage Fund     1000         1000   \n",
       "2     Aditya Birla SL Asset Allocator FoF-Dir Growth     1000         1000   \n",
       "3   Aditya Birla SL Bal Bhavishya Yojna – Dir Growth      500         1000   \n",
       "4            Aditya Birla SL Balanced Advantage Fund      100          100   \n",
       "\n",
       "   Expense_Ratio  Fund_Size_Cr  Fund_Age_Yr        Fund_Manager  Risk_Level  \\\n",
       "0           0.27          10.0           10      Kaustubh Gupta           3   \n",
       "1           0.36        4288.0           10    Lovelish Solanki           1   \n",
       "2           0.53         157.0           10  Vinod Narayan Bhat           5   \n",
       "3           0.76         637.0            4         Atul Penkar           6   \n",
       "4           0.61        6386.0           10        Mohit Sharma           6   \n",
       "\n",
       "                            Amc_Name  Rating           Category  \\\n",
       "0  Aditya Birla Sun Life Mutual Fund       3              Other   \n",
       "1  Aditya Birla Sun Life Mutual Fund       3             Hybrid   \n",
       "2  Aditya Birla Sun Life Mutual Fund       3              Other   \n",
       "3  Aditya Birla Sun Life Mutual Fund       2  Solution Oriented   \n",
       "4  Aditya Birla Sun Life Mutual Fund       4             Hybrid   \n",
       "\n",
       "                                     Sub_Category  Returns_1Yr  Returns_3Yr  \\\n",
       "0                                   FoFs Domestic          4.0          6.5   \n",
       "1                          Arbitrage Mutual Funds          5.6          4.8   \n",
       "2                                   FoFs Domestic          2.0         18.9   \n",
       "3                                 Childrens Funds         -0.7         17.1   \n",
       "4  Dynamic Asset Allocation or Balanced Advantage          4.5         18.6   \n",
       "\n",
       "   Returns_5Yr  Average_Return_1Yr  Average_Return_3Yr  Average_Return_5Yr  \n",
       "0          6.9                 4.0            0.957434            0.511908  \n",
       "1          5.5                 5.6            0.796702            0.454061  \n",
       "2          9.7                 2.0            1.709886            0.606485  \n",
       "3          0.0                -0.7            1.625586            0.000000  \n",
       "4          9.7                 4.5            1.696199            0.606485  "
      ]
     },
     "execution_count": 577,
     "metadata": {},
     "output_type": "execute_result"
    }
   ],
   "source": [
    "df.head()"
   ]
  },
  {
   "cell_type": "code",
   "execution_count": 578,
   "metadata": {},
   "outputs": [],
   "source": [
    "\n",
    "features = ['Min_Sip', 'Min_Lumpsum', 'Expense_Ratio', 'Fund_Size_Cr', 'Fund_Age_Yr', 'Risk_Level']\n",
    "targets = ['Returns_1Yr', 'Returns_3Yr', 'Returns_5Yr']\n",
    "\n",
    "predictions = {}\n",
    "actual_values = {}\n"
   ]
  },
  {
   "cell_type": "code",
   "execution_count": 579,
   "metadata": {},
   "outputs": [],
   "source": [
    "for target in targets:\n",
    "    X = df[features]\n",
    "    y = df[target]\n",
    "\n",
    "    X_train, X_test, y_train, y_test = train_test_split(X, y, test_size=0.2, random_state=42)\n",
    "\n",
    "    model = LinearRegression()\n",
    "    model.fit(X_train, y_train)\n",
    "    actual_values[target] = y_test\n",
    "\n",
    "    predictions[target] = model.predict(X_test)"
   ]
  },
  {
   "cell_type": "code",
   "execution_count": 580,
   "metadata": {},
   "outputs": [
    {
     "data": {
      "text/plain": [
       "dict_keys(['Returns_1Yr', 'Returns_3Yr', 'Returns_5Yr'])"
      ]
     },
     "execution_count": 580,
     "metadata": {},
     "output_type": "execute_result"
    }
   ],
   "source": [
    "predictions.keys()"
   ]
  },
  {
   "cell_type": "code",
   "execution_count": 581,
   "metadata": {},
   "outputs": [],
   "source": [
    "common_indices = X_test.index"
   ]
  },
  {
   "cell_type": "code",
   "execution_count": 582,
   "metadata": {},
   "outputs": [
    {
     "data": {
      "application/vnd.plotly.v1+json": {
       "config": {
        "plotlyServerURL": "https://plot.ly"
       },
       "data": [
        {
         "alignmentgroup": "True",
         "hovertemplate": "x=%{x}<br>y=%{y}<extra></extra>",
         "legendgroup": "",
         "marker": {
          "color": "#636efa",
          "pattern": {
           "shape": ""
          }
         },
         "name": "",
         "offsetgroup": "",
         "orientation": "v",
         "showlegend": false,
         "textposition": "auto",
         "type": "bar",
         "x": [
          "HDFC Medium Term Debt Fund",
          "PGIM India Gilt Fund",
          "HDFC Corporate Bond Fund",
          "HSBC Small Cap Fund",
          "Nippon India Arbitrage Fund",
          "UTI-Nifty 50 Index Fund",
          "Franklin Build India Fund",
          "HSBC Value Fund",
          "Kotak Focused Equity Fund",
          "JM Large Cap Fund",
          "AXIS Gold Fund",
          "HDFC Equity Savings Fund",
          "Kotak Low Duration Fund",
          "UTI-Value Opportunities Fund",
          "HDFC Ultra Short Term Fund",
          "Taurus Largecap Equity Fund",
          "Kotak Infrastructure & Ecoc. Reform-SP-DirGrowth",
          "Baroda BNP Paribas Dynamic Bond Fund",
          "ICICI Pru MidCap Fund",
          "Navi ELSS Tax Saver Fund",
          "Canara Robeco Overnight Fund",
          "AXIS Growth Opportunities Fund",
          "Quant Infrastructure Fund",
          "IDBI Focused 30 Equity Fund",
          "Aditya Birla SL Pure Value Fund",
          "Aditya Birla SL Inter Equity – Plan B-Direct Growth",
          "Tata Money Market Fund",
          "Franklin India Flexi Cap Fund",
          "Franklin India Floating Rate Fund",
          "AXIS Short Term Fund",
          "SBI PSU Fund",
          "SBI Long Term Advantage Fund",
          "Union Small Cap Fund",
          "Tata Infrastructure Fund",
          "Sundaram Services Fund",
          "Aditya Birla SL Global Emerging Oppt Fund",
          "IDBI Banking & Financial Services Fund",
          "Nippon India Consumption Fund",
          "AXIS FTP – Series 104 – 1112Days",
          "Edelweiss Mid Cap Fund",
          "AXIS Gilt Fund",
          "Tata Balanced Advantage Fund",
          "Tata India Pharma & Healthcare Fund",
          "Canara Robeco Infrastructure – Direct Growth",
          "LIC MF Savings Fund",
          "Franklin India G-Sec Fund",
          "Navi 3 In 1 Fund",
          "UTI-MNC Fund",
          "Invesco India Medium Duration Fund",
          "Nippon India Strategic Debt Fund",
          "Sundaram Focused Fund",
          "ITI Banking & PSU Debt Fund",
          "PGIM India Low Duration Fund",
          "Sundaram Debt Oriented Hybrid Fund",
          "Nippon India Short Term Fund",
          "JM Liquid Fund",
          "SBI Equity Savings Fund",
          "Bank of India Arbitrage Fund",
          "PGIM India Banking&PSU Debt Fund",
          "Nippon India Gold Savings Fund",
          "Shriram Long Term Equity Fund",
          "SBI Equity Minimum Variance – Direct Growth",
          "Baroda BNP Paribas Money Market Fund",
          "DSP Top 100 Equity Fund",
          "Union Overnight Fund",
          "DSP Regular Savings Fund",
          "HSBC Medium to Long Duration Fund",
          "AXIS All Seasons Debt Fund",
          "Bank of India Overnight Fund",
          "DSP Focus Fund",
          "Sundaram Balanced Advantage Fund",
          "Mahindra Manulife Short Duration Fund",
          "PGIM India Overnight Fund",
          "UTI-Unit Linked Insurance Plan – Direct",
          "Aditya Birla SL Manufacturing Equity Fund",
          "Aditya Birla SL Liquid Fund",
          "Union Corporate Bond Fund",
          "HSBC Flexi Debt Fund",
          "SBI Magnum Gilt Fund",
          "Invesco India – Invesco GEI Fund",
          "Franklin India Focused Equity Fund",
          "Kotak Bond Fund",
          "UTI-Retirement Benefit Pension Plan – Direct",
          "AXIS Nifty 100 Index Fund",
          "AXIS Retirement Savings Fund",
          "Mahindra Manulife Overnight Fund",
          "Motilal Oswal Equity Hybrid Fund",
          "ICICI Pru Value Discovery Fund",
          "Quant Focused Fund",
          "ICICI Pru Manufacturing Fund",
          "Motilal Oswal Nifty Midcap 150 Index Fund",
          "Invesco India Short Term Fund",
          "ICICI Pru Savings Fund",
          "SBI Infrastructure Fund",
          "IDBI Liquid Fund",
          "Mahindra Manulife ELSS Fund",
          "ICICI Pru Equity Savings Fund",
          "ITI Arbitrage Fund",
          "Quantum Multi Asset Fund",
          "Franklin India Liquid Fund",
          "PGIM India Arbitrage Fund",
          "AXIS Children’s Gift Fund",
          "Union Focused Fund",
          "Invesco India Largecap Fund",
          "HSBC Aggressive Hybrid Fund",
          "Mirae Asset Banking and PSU Debt Fund",
          "Bank of India Short Term Income – Direct Growth",
          "JM Value Fund",
          "AXIS Retirement Savings Fund",
          "Franklin India Equity Advantage Fund",
          "Quantum Dynamic Bond Fund",
          "UTI-CCF Investment Plan – Direct Growth",
          "Franklin India Multi-Asset Solution Fund",
          "PGIM India Elss Tax Saver Fund",
          "UTI-Core Equity Fund",
          "Kotak Overnight Fund",
          "Bandhan Asset Allocation FoF – Moderate – Direct Growth",
          "Aditya Birla SL Digital India Fund",
          "Tata Overnight Fund",
          "Baroda BNP Paribas ELSS Fund",
          "Kotak Debt Hybrid Fund",
          "Mahindra Manulife Dynamic Bond Fund",
          "UTI-Long Term Equity Fund",
          "Navi Flexi Cap Fund",
          "Motilal Oswal Nifty Next 50 Index Fund",
          "Invesco India Gold Fund",
          "Baroda BNP Paribas Medium Duration Fund",
          "Invesco India Dynamic Equity Fund",
          "Franklin India Opportunities Fund",
          "Aditya Birla SL Inter Equity – Plan A-Direct Growth",
          "ICICI Pru Equity & Debt Fund",
          "ICICI Pru Retirement Fund",
          "HDFC Large and Mid Cap Fund",
          "UTI-Corporate Bond Fund",
          "AXIS Treasury Advantage Fund",
          "SBI Multi Asset Allocation Fund",
          "PGIM India Flexi Cap Fund",
          "Motilal Oswal Flexi Cap Fund",
          "Sundaram LT Tax Advantage Fund",
          "ICICI Pru India Equity FOF – Direct Growth",
          "SBI Magnum Medium Duration Fund",
          "SBI Nifty Index Fund",
          "Union Equity Savings Fund",
          "Franklin India Banking & PSU Debt Fund",
          "Quant Flexi Cap Fund",
          "Motilal Oswal Nasdaq 100 FOF – Direct Growth",
          "Aditya Birla SL CEF – Global Agri Plan-Direct Growth",
          "Tata Digital India Fund",
          "Baroda BNP Paribas Aggressive Hybrid Fund",
          "ICICI Pru Money Market Fund",
          "HDFC Gilt Fund",
          "SBI Large & Midcap Fund",
          "ICICI Pru Nifty 50 Index Fund",
          "Aditya Birla SL Asset Allocator FoF-Dir Growth",
          "Tata Young Citizens Fund",
          "Tata Large & Mid Cap Fund",
          "Motilal Oswal Nifty 500 Index Fund",
          "UTI-Mastershare – Direct Growth",
          "Sundaram Diversified Equity – Direct Growth",
          "Kotak Equity Hybrid Fund",
          "Union Arbitrage Fund",
          "Motilal Oswal Focused Fund",
          "SBI Technology Opportunities Fund"
         ],
         "xaxis": "x",
         "y": [
          4.943811801661516,
          4.564678172632076,
          5.368920346331746,
          3.1309091794261543,
          7.763577132414227,
          2.7870283872895185,
          3.8555785170418053,
          3.3812328976672354,
          1.068581927526246,
          4.318189197911161,
          2.692751544570546,
          5.423419315433345,
          4.536883313151074,
          3.6800395427189514,
          4.5787599677656665,
          2.1037256892455147,
          2.6045088027918353,
          5.661989265746409,
          4.495396957102544,
          1.871533809049267,
          6.862666977697724,
          0.4510983933500565,
          2.2778056391765267,
          3.247764314379799,
          2.1166871828812166,
          3.0816099713356992,
          5.961283687388057,
          3.5971839819879072,
          5.6499725735281165,
          4.422055069480281,
          3.9701667281329365,
          5.396502085299879,
          3.1559928031585596,
          4.654726478712336,
          1.4240149766982135,
          3.409801792197533,
          3.148579934338903,
          5.066449126885447,
          5.343212271629083,
          3.1829642308711743,
          4.5646957436615905,
          4.169114011095677,
          3.749047434097255,
          2.898386774064876,
          5.286741505566838,
          6.423093206090231,
          2.4274018605606678,
          3.790882615313471,
          2.56640026986907,
          4.562449638428245,
          3.886389581250996,
          4.731257054139082,
          5.364515900616027,
          7.069154506555657,
          5.548141709222143,
          5.1718018738854274,
          4.018688220597216,
          5.873517024717285,
          5.274383424456058,
          3.7734465677153235,
          1.5141113471039072,
          1.9909632662969177,
          5.1348694235435,
          3.1752914194334387,
          2.910962417527417,
          5.015619154828957,
          5.811536801632224,
          2.318037972987943,
          6.74766214722197,
          3.010518153311308,
          4.210821097334889,
          3.452667495626046,
          4.217360802345942,
          6.608774210325425,
          2.1838619849036944,
          4.499192171094147,
          3.9852695498400674,
          6.046772090844501,
          5.574968623387015,
          2.600907051841431,
          3.668776512800483,
          5.6049051488383475,
          3.802355101032857,
          -0.06435363925577242,
          1.0317000890087389,
          6.310173303392911,
          1.998355351024938,
          3.7697696526917506,
          2.219739977408502,
          3.931939627467697,
          1.1647974066564046,
          4.792829014719491,
          6.297622746886945,
          4.3828468194281545,
          6.14305044047355,
          1.9865808140791632,
          6.905247775724142,
          5.989598067366387,
          3.9896428455972637,
          6.848309063764087,
          6.001954398633636,
          2.120552967838142,
          2.4608603127400457,
          3.6334344754544263,
          3.4360190532207695,
          4.098716364515367,
          5.9350054829833905,
          4.380507048821571,
          1.6550154939592332,
          3.9068881179617008,
          4.748048909081162,
          3.4896402236229376,
          4.399453639244671,
          2.41117776357591,
          4.196721928765301,
          6.758348089944248,
          4.122341862493098,
          3.6738324670461333,
          4.86002766311849,
          3.0566797570546944,
          3.7609161432329716,
          4.190243564026094,
          2.8839436764104125,
          1.468556643841941,
          1.0894441134891046,
          3.0997925220015574,
          6.034489462178931,
          2.974323044987325,
          4.303751773484194,
          2.7193756768329695,
          4.375749540837153,
          6.072075242126138,
          3.6414284295837254,
          4.67473376281947,
          5.270520307173112,
          3.4804502250281186,
          0.9654213301413321,
          2.6738742433726133,
          3.5796178312683864,
          2.374612878219386,
          4.922974474588465,
          2.8229642807979434,
          5.058637707106425,
          5.991108796749256,
          2.221543831614908,
          1.0321549627396482,
          2.3038051511827007,
          3.0602411297583907,
          2.909846146085383,
          5.431818636454118,
          5.686705590085115,
          3.502427501384537,
          2.8974039136713747,
          2.4503244070836043,
          3.6756707137720275,
          4.1509911177365755,
          1.3301213365270046,
          2.779077925707144,
          4.323765108733856,
          1.842905228041225,
          5.618705095045164,
          2.9393416798446235,
          3.451613341914437
         ],
         "yaxis": "y"
        }
       ],
       "layout": {
        "barmode": "relative",
        "legend": {
         "tracegroupgap": 0
        },
        "margin": {
         "t": 60
        },
        "template": {
         "data": {
          "bar": [
           {
            "error_x": {
             "color": "#2a3f5f"
            },
            "error_y": {
             "color": "#2a3f5f"
            },
            "marker": {
             "line": {
              "color": "#E5ECF6",
              "width": 0.5
             },
             "pattern": {
              "fillmode": "overlay",
              "size": 10,
              "solidity": 0.2
             }
            },
            "type": "bar"
           }
          ],
          "barpolar": [
           {
            "marker": {
             "line": {
              "color": "#E5ECF6",
              "width": 0.5
             },
             "pattern": {
              "fillmode": "overlay",
              "size": 10,
              "solidity": 0.2
             }
            },
            "type": "barpolar"
           }
          ],
          "carpet": [
           {
            "aaxis": {
             "endlinecolor": "#2a3f5f",
             "gridcolor": "white",
             "linecolor": "white",
             "minorgridcolor": "white",
             "startlinecolor": "#2a3f5f"
            },
            "baxis": {
             "endlinecolor": "#2a3f5f",
             "gridcolor": "white",
             "linecolor": "white",
             "minorgridcolor": "white",
             "startlinecolor": "#2a3f5f"
            },
            "type": "carpet"
           }
          ],
          "choropleth": [
           {
            "colorbar": {
             "outlinewidth": 0,
             "ticks": ""
            },
            "type": "choropleth"
           }
          ],
          "contour": [
           {
            "colorbar": {
             "outlinewidth": 0,
             "ticks": ""
            },
            "colorscale": [
             [
              0,
              "#0d0887"
             ],
             [
              0.1111111111111111,
              "#46039f"
             ],
             [
              0.2222222222222222,
              "#7201a8"
             ],
             [
              0.3333333333333333,
              "#9c179e"
             ],
             [
              0.4444444444444444,
              "#bd3786"
             ],
             [
              0.5555555555555556,
              "#d8576b"
             ],
             [
              0.6666666666666666,
              "#ed7953"
             ],
             [
              0.7777777777777778,
              "#fb9f3a"
             ],
             [
              0.8888888888888888,
              "#fdca26"
             ],
             [
              1,
              "#f0f921"
             ]
            ],
            "type": "contour"
           }
          ],
          "contourcarpet": [
           {
            "colorbar": {
             "outlinewidth": 0,
             "ticks": ""
            },
            "type": "contourcarpet"
           }
          ],
          "heatmap": [
           {
            "colorbar": {
             "outlinewidth": 0,
             "ticks": ""
            },
            "colorscale": [
             [
              0,
              "#0d0887"
             ],
             [
              0.1111111111111111,
              "#46039f"
             ],
             [
              0.2222222222222222,
              "#7201a8"
             ],
             [
              0.3333333333333333,
              "#9c179e"
             ],
             [
              0.4444444444444444,
              "#bd3786"
             ],
             [
              0.5555555555555556,
              "#d8576b"
             ],
             [
              0.6666666666666666,
              "#ed7953"
             ],
             [
              0.7777777777777778,
              "#fb9f3a"
             ],
             [
              0.8888888888888888,
              "#fdca26"
             ],
             [
              1,
              "#f0f921"
             ]
            ],
            "type": "heatmap"
           }
          ],
          "heatmapgl": [
           {
            "colorbar": {
             "outlinewidth": 0,
             "ticks": ""
            },
            "colorscale": [
             [
              0,
              "#0d0887"
             ],
             [
              0.1111111111111111,
              "#46039f"
             ],
             [
              0.2222222222222222,
              "#7201a8"
             ],
             [
              0.3333333333333333,
              "#9c179e"
             ],
             [
              0.4444444444444444,
              "#bd3786"
             ],
             [
              0.5555555555555556,
              "#d8576b"
             ],
             [
              0.6666666666666666,
              "#ed7953"
             ],
             [
              0.7777777777777778,
              "#fb9f3a"
             ],
             [
              0.8888888888888888,
              "#fdca26"
             ],
             [
              1,
              "#f0f921"
             ]
            ],
            "type": "heatmapgl"
           }
          ],
          "histogram": [
           {
            "marker": {
             "pattern": {
              "fillmode": "overlay",
              "size": 10,
              "solidity": 0.2
             }
            },
            "type": "histogram"
           }
          ],
          "histogram2d": [
           {
            "colorbar": {
             "outlinewidth": 0,
             "ticks": ""
            },
            "colorscale": [
             [
              0,
              "#0d0887"
             ],
             [
              0.1111111111111111,
              "#46039f"
             ],
             [
              0.2222222222222222,
              "#7201a8"
             ],
             [
              0.3333333333333333,
              "#9c179e"
             ],
             [
              0.4444444444444444,
              "#bd3786"
             ],
             [
              0.5555555555555556,
              "#d8576b"
             ],
             [
              0.6666666666666666,
              "#ed7953"
             ],
             [
              0.7777777777777778,
              "#fb9f3a"
             ],
             [
              0.8888888888888888,
              "#fdca26"
             ],
             [
              1,
              "#f0f921"
             ]
            ],
            "type": "histogram2d"
           }
          ],
          "histogram2dcontour": [
           {
            "colorbar": {
             "outlinewidth": 0,
             "ticks": ""
            },
            "colorscale": [
             [
              0,
              "#0d0887"
             ],
             [
              0.1111111111111111,
              "#46039f"
             ],
             [
              0.2222222222222222,
              "#7201a8"
             ],
             [
              0.3333333333333333,
              "#9c179e"
             ],
             [
              0.4444444444444444,
              "#bd3786"
             ],
             [
              0.5555555555555556,
              "#d8576b"
             ],
             [
              0.6666666666666666,
              "#ed7953"
             ],
             [
              0.7777777777777778,
              "#fb9f3a"
             ],
             [
              0.8888888888888888,
              "#fdca26"
             ],
             [
              1,
              "#f0f921"
             ]
            ],
            "type": "histogram2dcontour"
           }
          ],
          "mesh3d": [
           {
            "colorbar": {
             "outlinewidth": 0,
             "ticks": ""
            },
            "type": "mesh3d"
           }
          ],
          "parcoords": [
           {
            "line": {
             "colorbar": {
              "outlinewidth": 0,
              "ticks": ""
             }
            },
            "type": "parcoords"
           }
          ],
          "pie": [
           {
            "automargin": true,
            "type": "pie"
           }
          ],
          "scatter": [
           {
            "fillpattern": {
             "fillmode": "overlay",
             "size": 10,
             "solidity": 0.2
            },
            "type": "scatter"
           }
          ],
          "scatter3d": [
           {
            "line": {
             "colorbar": {
              "outlinewidth": 0,
              "ticks": ""
             }
            },
            "marker": {
             "colorbar": {
              "outlinewidth": 0,
              "ticks": ""
             }
            },
            "type": "scatter3d"
           }
          ],
          "scattercarpet": [
           {
            "marker": {
             "colorbar": {
              "outlinewidth": 0,
              "ticks": ""
             }
            },
            "type": "scattercarpet"
           }
          ],
          "scattergeo": [
           {
            "marker": {
             "colorbar": {
              "outlinewidth": 0,
              "ticks": ""
             }
            },
            "type": "scattergeo"
           }
          ],
          "scattergl": [
           {
            "marker": {
             "colorbar": {
              "outlinewidth": 0,
              "ticks": ""
             }
            },
            "type": "scattergl"
           }
          ],
          "scattermapbox": [
           {
            "marker": {
             "colorbar": {
              "outlinewidth": 0,
              "ticks": ""
             }
            },
            "type": "scattermapbox"
           }
          ],
          "scatterpolar": [
           {
            "marker": {
             "colorbar": {
              "outlinewidth": 0,
              "ticks": ""
             }
            },
            "type": "scatterpolar"
           }
          ],
          "scatterpolargl": [
           {
            "marker": {
             "colorbar": {
              "outlinewidth": 0,
              "ticks": ""
             }
            },
            "type": "scatterpolargl"
           }
          ],
          "scatterternary": [
           {
            "marker": {
             "colorbar": {
              "outlinewidth": 0,
              "ticks": ""
             }
            },
            "type": "scatterternary"
           }
          ],
          "surface": [
           {
            "colorbar": {
             "outlinewidth": 0,
             "ticks": ""
            },
            "colorscale": [
             [
              0,
              "#0d0887"
             ],
             [
              0.1111111111111111,
              "#46039f"
             ],
             [
              0.2222222222222222,
              "#7201a8"
             ],
             [
              0.3333333333333333,
              "#9c179e"
             ],
             [
              0.4444444444444444,
              "#bd3786"
             ],
             [
              0.5555555555555556,
              "#d8576b"
             ],
             [
              0.6666666666666666,
              "#ed7953"
             ],
             [
              0.7777777777777778,
              "#fb9f3a"
             ],
             [
              0.8888888888888888,
              "#fdca26"
             ],
             [
              1,
              "#f0f921"
             ]
            ],
            "type": "surface"
           }
          ],
          "table": [
           {
            "cells": {
             "fill": {
              "color": "#EBF0F8"
             },
             "line": {
              "color": "white"
             }
            },
            "header": {
             "fill": {
              "color": "#C8D4E3"
             },
             "line": {
              "color": "white"
             }
            },
            "type": "table"
           }
          ]
         },
         "layout": {
          "annotationdefaults": {
           "arrowcolor": "#2a3f5f",
           "arrowhead": 0,
           "arrowwidth": 1
          },
          "autotypenumbers": "strict",
          "coloraxis": {
           "colorbar": {
            "outlinewidth": 0,
            "ticks": ""
           }
          },
          "colorscale": {
           "diverging": [
            [
             0,
             "#8e0152"
            ],
            [
             0.1,
             "#c51b7d"
            ],
            [
             0.2,
             "#de77ae"
            ],
            [
             0.3,
             "#f1b6da"
            ],
            [
             0.4,
             "#fde0ef"
            ],
            [
             0.5,
             "#f7f7f7"
            ],
            [
             0.6,
             "#e6f5d0"
            ],
            [
             0.7,
             "#b8e186"
            ],
            [
             0.8,
             "#7fbc41"
            ],
            [
             0.9,
             "#4d9221"
            ],
            [
             1,
             "#276419"
            ]
           ],
           "sequential": [
            [
             0,
             "#0d0887"
            ],
            [
             0.1111111111111111,
             "#46039f"
            ],
            [
             0.2222222222222222,
             "#7201a8"
            ],
            [
             0.3333333333333333,
             "#9c179e"
            ],
            [
             0.4444444444444444,
             "#bd3786"
            ],
            [
             0.5555555555555556,
             "#d8576b"
            ],
            [
             0.6666666666666666,
             "#ed7953"
            ],
            [
             0.7777777777777778,
             "#fb9f3a"
            ],
            [
             0.8888888888888888,
             "#fdca26"
            ],
            [
             1,
             "#f0f921"
            ]
           ],
           "sequentialminus": [
            [
             0,
             "#0d0887"
            ],
            [
             0.1111111111111111,
             "#46039f"
            ],
            [
             0.2222222222222222,
             "#7201a8"
            ],
            [
             0.3333333333333333,
             "#9c179e"
            ],
            [
             0.4444444444444444,
             "#bd3786"
            ],
            [
             0.5555555555555556,
             "#d8576b"
            ],
            [
             0.6666666666666666,
             "#ed7953"
            ],
            [
             0.7777777777777778,
             "#fb9f3a"
            ],
            [
             0.8888888888888888,
             "#fdca26"
            ],
            [
             1,
             "#f0f921"
            ]
           ]
          },
          "colorway": [
           "#636efa",
           "#EF553B",
           "#00cc96",
           "#ab63fa",
           "#FFA15A",
           "#19d3f3",
           "#FF6692",
           "#B6E880",
           "#FF97FF",
           "#FECB52"
          ],
          "font": {
           "color": "#2a3f5f"
          },
          "geo": {
           "bgcolor": "white",
           "lakecolor": "white",
           "landcolor": "#E5ECF6",
           "showlakes": true,
           "showland": true,
           "subunitcolor": "white"
          },
          "hoverlabel": {
           "align": "left"
          },
          "hovermode": "closest",
          "mapbox": {
           "style": "light"
          },
          "paper_bgcolor": "white",
          "plot_bgcolor": "#E5ECF6",
          "polar": {
           "angularaxis": {
            "gridcolor": "white",
            "linecolor": "white",
            "ticks": ""
           },
           "bgcolor": "#E5ECF6",
           "radialaxis": {
            "gridcolor": "white",
            "linecolor": "white",
            "ticks": ""
           }
          },
          "scene": {
           "xaxis": {
            "backgroundcolor": "#E5ECF6",
            "gridcolor": "white",
            "gridwidth": 2,
            "linecolor": "white",
            "showbackground": true,
            "ticks": "",
            "zerolinecolor": "white"
           },
           "yaxis": {
            "backgroundcolor": "#E5ECF6",
            "gridcolor": "white",
            "gridwidth": 2,
            "linecolor": "white",
            "showbackground": true,
            "ticks": "",
            "zerolinecolor": "white"
           },
           "zaxis": {
            "backgroundcolor": "#E5ECF6",
            "gridcolor": "white",
            "gridwidth": 2,
            "linecolor": "white",
            "showbackground": true,
            "ticks": "",
            "zerolinecolor": "white"
           }
          },
          "shapedefaults": {
           "line": {
            "color": "#2a3f5f"
           }
          },
          "ternary": {
           "aaxis": {
            "gridcolor": "white",
            "linecolor": "white",
            "ticks": ""
           },
           "baxis": {
            "gridcolor": "white",
            "linecolor": "white",
            "ticks": ""
           },
           "bgcolor": "#E5ECF6",
           "caxis": {
            "gridcolor": "white",
            "linecolor": "white",
            "ticks": ""
           }
          },
          "title": {
           "x": 0.05
          },
          "xaxis": {
           "automargin": true,
           "gridcolor": "white",
           "linecolor": "white",
           "ticks": "",
           "title": {
            "standoff": 15
           },
           "zerolinecolor": "white",
           "zerolinewidth": 2
          },
          "yaxis": {
           "automargin": true,
           "gridcolor": "white",
           "linecolor": "white",
           "ticks": "",
           "title": {
            "standoff": 15
           },
           "zerolinecolor": "white",
           "zerolinewidth": 2
          }
         }
        },
        "xaxis": {
         "anchor": "y",
         "domain": [
          0,
          1
         ],
         "title": {
          "text": "x"
         }
        },
        "yaxis": {
         "anchor": "x",
         "domain": [
          0,
          1
         ],
         "title": {
          "text": "y"
         }
        }
       }
      }
     },
     "metadata": {},
     "output_type": "display_data"
    }
   ],
   "source": [
    "fig_1yr = px.bar(x=df.loc[common_indices, 'Scheme_Name'], y=predictions['Returns_1Yr'])\n",
    "fig_1yr"
   ]
  },
  {
   "cell_type": "code",
   "execution_count": 583,
   "metadata": {},
   "outputs": [
    {
     "data": {
      "application/vnd.plotly.v1+json": {
       "config": {
        "plotlyServerURL": "https://plot.ly"
       },
       "data": [
        {
         "alignmentgroup": "True",
         "hovertemplate": "x=%{x}<br>y=%{y}<extra></extra>",
         "legendgroup": "",
         "marker": {
          "color": "#636efa",
          "pattern": {
           "shape": ""
          }
         },
         "name": "",
         "offsetgroup": "",
         "orientation": "v",
         "showlegend": false,
         "textposition": "auto",
         "type": "bar",
         "x": [
          "HDFC Medium Term Debt Fund",
          "PGIM India Gilt Fund",
          "HDFC Corporate Bond Fund",
          "HSBC Small Cap Fund",
          "Nippon India Arbitrage Fund",
          "UTI-Nifty 50 Index Fund",
          "Franklin Build India Fund",
          "HSBC Value Fund",
          "Kotak Focused Equity Fund",
          "JM Large Cap Fund",
          "AXIS Gold Fund",
          "HDFC Equity Savings Fund",
          "Kotak Low Duration Fund",
          "UTI-Value Opportunities Fund",
          "HDFC Ultra Short Term Fund",
          "Taurus Largecap Equity Fund",
          "Kotak Infrastructure & Ecoc. Reform-SP-DirGrowth",
          "Baroda BNP Paribas Dynamic Bond Fund",
          "ICICI Pru MidCap Fund",
          "Navi ELSS Tax Saver Fund",
          "Canara Robeco Overnight Fund",
          "AXIS Growth Opportunities Fund",
          "Quant Infrastructure Fund",
          "IDBI Focused 30 Equity Fund",
          "Aditya Birla SL Pure Value Fund",
          "Aditya Birla SL Inter Equity – Plan B-Direct Growth",
          "Tata Money Market Fund",
          "Franklin India Flexi Cap Fund",
          "Franklin India Floating Rate Fund",
          "AXIS Short Term Fund",
          "SBI PSU Fund",
          "SBI Long Term Advantage Fund",
          "Union Small Cap Fund",
          "Tata Infrastructure Fund",
          "Sundaram Services Fund",
          "Aditya Birla SL Global Emerging Oppt Fund",
          "IDBI Banking & Financial Services Fund",
          "Nippon India Consumption Fund",
          "AXIS FTP – Series 104 – 1112Days",
          "Edelweiss Mid Cap Fund",
          "AXIS Gilt Fund",
          "Tata Balanced Advantage Fund",
          "Tata India Pharma & Healthcare Fund",
          "Canara Robeco Infrastructure – Direct Growth",
          "LIC MF Savings Fund",
          "Franklin India G-Sec Fund",
          "Navi 3 In 1 Fund",
          "UTI-MNC Fund",
          "Invesco India Medium Duration Fund",
          "Nippon India Strategic Debt Fund",
          "Sundaram Focused Fund",
          "ITI Banking & PSU Debt Fund",
          "PGIM India Low Duration Fund",
          "Sundaram Debt Oriented Hybrid Fund",
          "Nippon India Short Term Fund",
          "JM Liquid Fund",
          "SBI Equity Savings Fund",
          "Bank of India Arbitrage Fund",
          "PGIM India Banking&PSU Debt Fund",
          "Nippon India Gold Savings Fund",
          "Shriram Long Term Equity Fund",
          "SBI Equity Minimum Variance – Direct Growth",
          "Baroda BNP Paribas Money Market Fund",
          "DSP Top 100 Equity Fund",
          "Union Overnight Fund",
          "DSP Regular Savings Fund",
          "HSBC Medium to Long Duration Fund",
          "AXIS All Seasons Debt Fund",
          "Bank of India Overnight Fund",
          "DSP Focus Fund",
          "Sundaram Balanced Advantage Fund",
          "Mahindra Manulife Short Duration Fund",
          "PGIM India Overnight Fund",
          "UTI-Unit Linked Insurance Plan – Direct",
          "Aditya Birla SL Manufacturing Equity Fund",
          "Aditya Birla SL Liquid Fund",
          "Union Corporate Bond Fund",
          "HSBC Flexi Debt Fund",
          "SBI Magnum Gilt Fund",
          "Invesco India – Invesco GEI Fund",
          "Franklin India Focused Equity Fund",
          "Kotak Bond Fund",
          "UTI-Retirement Benefit Pension Plan – Direct",
          "AXIS Nifty 100 Index Fund",
          "AXIS Retirement Savings Fund",
          "Mahindra Manulife Overnight Fund",
          "Motilal Oswal Equity Hybrid Fund",
          "ICICI Pru Value Discovery Fund",
          "Quant Focused Fund",
          "ICICI Pru Manufacturing Fund",
          "Motilal Oswal Nifty Midcap 150 Index Fund",
          "Invesco India Short Term Fund",
          "ICICI Pru Savings Fund",
          "SBI Infrastructure Fund",
          "IDBI Liquid Fund",
          "Mahindra Manulife ELSS Fund",
          "ICICI Pru Equity Savings Fund",
          "ITI Arbitrage Fund",
          "Quantum Multi Asset Fund",
          "Franklin India Liquid Fund",
          "PGIM India Arbitrage Fund",
          "AXIS Children’s Gift Fund",
          "Union Focused Fund",
          "Invesco India Largecap Fund",
          "HSBC Aggressive Hybrid Fund",
          "Mirae Asset Banking and PSU Debt Fund",
          "Bank of India Short Term Income – Direct Growth",
          "JM Value Fund",
          "AXIS Retirement Savings Fund",
          "Franklin India Equity Advantage Fund",
          "Quantum Dynamic Bond Fund",
          "UTI-CCF Investment Plan – Direct Growth",
          "Franklin India Multi-Asset Solution Fund",
          "PGIM India Elss Tax Saver Fund",
          "UTI-Core Equity Fund",
          "Kotak Overnight Fund",
          "Bandhan Asset Allocation FoF – Moderate – Direct Growth",
          "Aditya Birla SL Digital India Fund",
          "Tata Overnight Fund",
          "Baroda BNP Paribas ELSS Fund",
          "Kotak Debt Hybrid Fund",
          "Mahindra Manulife Dynamic Bond Fund",
          "UTI-Long Term Equity Fund",
          "Navi Flexi Cap Fund",
          "Motilal Oswal Nifty Next 50 Index Fund",
          "Invesco India Gold Fund",
          "Baroda BNP Paribas Medium Duration Fund",
          "Invesco India Dynamic Equity Fund",
          "Franklin India Opportunities Fund",
          "Aditya Birla SL Inter Equity – Plan A-Direct Growth",
          "ICICI Pru Equity & Debt Fund",
          "ICICI Pru Retirement Fund",
          "HDFC Large and Mid Cap Fund",
          "UTI-Corporate Bond Fund",
          "AXIS Treasury Advantage Fund",
          "SBI Multi Asset Allocation Fund",
          "PGIM India Flexi Cap Fund",
          "Motilal Oswal Flexi Cap Fund",
          "Sundaram LT Tax Advantage Fund",
          "ICICI Pru India Equity FOF – Direct Growth",
          "SBI Magnum Medium Duration Fund",
          "SBI Nifty Index Fund",
          "Union Equity Savings Fund",
          "Franklin India Banking & PSU Debt Fund",
          "Quant Flexi Cap Fund",
          "Motilal Oswal Nasdaq 100 FOF – Direct Growth",
          "Aditya Birla SL CEF – Global Agri Plan-Direct Growth",
          "Tata Digital India Fund",
          "Baroda BNP Paribas Aggressive Hybrid Fund",
          "ICICI Pru Money Market Fund",
          "HDFC Gilt Fund",
          "SBI Large & Midcap Fund",
          "ICICI Pru Nifty 50 Index Fund",
          "Aditya Birla SL Asset Allocator FoF-Dir Growth",
          "Tata Young Citizens Fund",
          "Tata Large & Mid Cap Fund",
          "Motilal Oswal Nifty 500 Index Fund",
          "UTI-Mastershare – Direct Growth",
          "Sundaram Diversified Equity – Direct Growth",
          "Kotak Equity Hybrid Fund",
          "Union Arbitrage Fund",
          "Motilal Oswal Focused Fund",
          "SBI Technology Opportunities Fund"
         ],
         "xaxis": "x",
         "y": [
          16.284198491724933,
          8.758279322893499,
          11.398671174465216,
          26.472338829804414,
          0.9237501788345432,
          25.103209725978676,
          27.071853065527968,
          26.35701662307724,
          25.59221105471805,
          28.057743758937303,
          18.39909176343353,
          17.315468831115368,
          9.092653302006852,
          26.977200144240292,
          12.235159963487977,
          23.987095372522347,
          25.15966301447551,
          10.937255978369299,
          27.889599529211715,
          25.572089937069624,
          2.019861311134491,
          25.646527982588488,
          24.42468087348407,
          28.81910605188121,
          25.24197076476077,
          27.225810679398887,
          10.785668446052775,
          26.966696137378655,
          4.362908074582734,
          8.814831809604886,
          27.294424262037055,
          20.02261325688641,
          27.117453325127286,
          28.206631462642328,
          26.527449122407564,
          26.503388237392986,
          28.59199858080817,
          29.009902853963535,
          6.783318723569947,
          25.621423658924694,
          8.758210045291579,
          17.34864091675395,
          28.038634025745488,
          25.799278902977083,
          3.488696697655273,
          10.745762243612392,
          24.79247381849525,
          26.989750657082162,
          10.351672053984235,
          28.495693288353866,
          27.55994089987738,
          6.337305001173291,
          3.631627657310302,
          12.721795083329468,
          10.804445360721278,
          3.267511053184583,
          15.9197966361487,
          1.0255562717344278,
          3.4250277647673357,
          20.455278273271304,
          26.67046905693441,
          26.608656064438662,
          5.9834723362492745,
          26.755623247550307,
          -3.1476939488276496,
          9.983791093075896,
          10.630875816086965,
          15.0613369327262,
          2.3884128699438802,
          26.33754079989082,
          15.271837160630351,
          11.39811144861255,
          -0.8372178424977208,
          17.097919718939856,
          26.493259855881636,
          10.334016397528766,
          4.724894203606283,
          11.164523162281343,
          10.327270380514642,
          25.82180557319273,
          27.02160708707092,
          4.257347753179759,
          21.298630625500913,
          24.727899148877306,
          26.04612247762528,
          1.795185923694918,
          27.1501755600644,
          28.572327805165557,
          24.260240626794726,
          30.2762327540678,
          25.91224146377527,
          3.3702323241296135,
          6.438302653831228,
          28.2523904484255,
          4.484663134199586,
          26.49472573463975,
          6.954207997682634,
          0.977581366535202,
          13.95144952179783,
          4.848271644597048,
          -1.2205931134806054,
          25.970173981298153,
          28.70320754614918,
          26.805795129778534,
          26.30960032964849,
          5.218323727365108,
          4.922739134680907,
          28.20541882596205,
          20.491514897747216,
          27.262930550155495,
          10.644198271922212,
          27.23557608168702,
          15.641417780450492,
          26.81622697525318,
          27.862294743579838,
          2.262571164375303,
          20.93817021899963,
          27.039894005198292,
          -0.45830261471976463,
          26.380325352523517,
          13.956600076024575,
          11.16115454341371,
          26.106031384372276,
          26.064855683101626,
          26.349244926728662,
          19.381556435169742,
          11.393338053085337,
          26.064115473002783,
          28.058469765395667,
          26.406131036613246,
          28.586122172361097,
          14.289226566804366,
          27.444640213015393,
          5.614684410522031,
          3.665045650065851,
          26.19061745671294,
          24.212448523885083,
          26.568412413173125,
          28.49223559774289,
          28.50012818351819,
          15.9387534632071,
          24.849131304214026,
          13.132202881965041,
          4.774059399368357,
          24.309325216116736,
          25.760853003238832,
          25.45956101574061,
          26.82063519866871,
          27.073572499912103,
          10.784057067287096,
          10.932487269410727,
          26.722130710621812,
          25.545204359666197,
          18.86259868016494,
          27.761193004990275,
          27.214293727169053,
          26.271956123455485,
          26.380341235663913,
          28.546309718169773,
          24.84567676510759,
          1.160839280883616,
          26.168596100714886,
          26.248116457944622
         ],
         "yaxis": "y"
        }
       ],
       "layout": {
        "barmode": "relative",
        "legend": {
         "tracegroupgap": 0
        },
        "margin": {
         "t": 60
        },
        "template": {
         "data": {
          "bar": [
           {
            "error_x": {
             "color": "#2a3f5f"
            },
            "error_y": {
             "color": "#2a3f5f"
            },
            "marker": {
             "line": {
              "color": "#E5ECF6",
              "width": 0.5
             },
             "pattern": {
              "fillmode": "overlay",
              "size": 10,
              "solidity": 0.2
             }
            },
            "type": "bar"
           }
          ],
          "barpolar": [
           {
            "marker": {
             "line": {
              "color": "#E5ECF6",
              "width": 0.5
             },
             "pattern": {
              "fillmode": "overlay",
              "size": 10,
              "solidity": 0.2
             }
            },
            "type": "barpolar"
           }
          ],
          "carpet": [
           {
            "aaxis": {
             "endlinecolor": "#2a3f5f",
             "gridcolor": "white",
             "linecolor": "white",
             "minorgridcolor": "white",
             "startlinecolor": "#2a3f5f"
            },
            "baxis": {
             "endlinecolor": "#2a3f5f",
             "gridcolor": "white",
             "linecolor": "white",
             "minorgridcolor": "white",
             "startlinecolor": "#2a3f5f"
            },
            "type": "carpet"
           }
          ],
          "choropleth": [
           {
            "colorbar": {
             "outlinewidth": 0,
             "ticks": ""
            },
            "type": "choropleth"
           }
          ],
          "contour": [
           {
            "colorbar": {
             "outlinewidth": 0,
             "ticks": ""
            },
            "colorscale": [
             [
              0,
              "#0d0887"
             ],
             [
              0.1111111111111111,
              "#46039f"
             ],
             [
              0.2222222222222222,
              "#7201a8"
             ],
             [
              0.3333333333333333,
              "#9c179e"
             ],
             [
              0.4444444444444444,
              "#bd3786"
             ],
             [
              0.5555555555555556,
              "#d8576b"
             ],
             [
              0.6666666666666666,
              "#ed7953"
             ],
             [
              0.7777777777777778,
              "#fb9f3a"
             ],
             [
              0.8888888888888888,
              "#fdca26"
             ],
             [
              1,
              "#f0f921"
             ]
            ],
            "type": "contour"
           }
          ],
          "contourcarpet": [
           {
            "colorbar": {
             "outlinewidth": 0,
             "ticks": ""
            },
            "type": "contourcarpet"
           }
          ],
          "heatmap": [
           {
            "colorbar": {
             "outlinewidth": 0,
             "ticks": ""
            },
            "colorscale": [
             [
              0,
              "#0d0887"
             ],
             [
              0.1111111111111111,
              "#46039f"
             ],
             [
              0.2222222222222222,
              "#7201a8"
             ],
             [
              0.3333333333333333,
              "#9c179e"
             ],
             [
              0.4444444444444444,
              "#bd3786"
             ],
             [
              0.5555555555555556,
              "#d8576b"
             ],
             [
              0.6666666666666666,
              "#ed7953"
             ],
             [
              0.7777777777777778,
              "#fb9f3a"
             ],
             [
              0.8888888888888888,
              "#fdca26"
             ],
             [
              1,
              "#f0f921"
             ]
            ],
            "type": "heatmap"
           }
          ],
          "heatmapgl": [
           {
            "colorbar": {
             "outlinewidth": 0,
             "ticks": ""
            },
            "colorscale": [
             [
              0,
              "#0d0887"
             ],
             [
              0.1111111111111111,
              "#46039f"
             ],
             [
              0.2222222222222222,
              "#7201a8"
             ],
             [
              0.3333333333333333,
              "#9c179e"
             ],
             [
              0.4444444444444444,
              "#bd3786"
             ],
             [
              0.5555555555555556,
              "#d8576b"
             ],
             [
              0.6666666666666666,
              "#ed7953"
             ],
             [
              0.7777777777777778,
              "#fb9f3a"
             ],
             [
              0.8888888888888888,
              "#fdca26"
             ],
             [
              1,
              "#f0f921"
             ]
            ],
            "type": "heatmapgl"
           }
          ],
          "histogram": [
           {
            "marker": {
             "pattern": {
              "fillmode": "overlay",
              "size": 10,
              "solidity": 0.2
             }
            },
            "type": "histogram"
           }
          ],
          "histogram2d": [
           {
            "colorbar": {
             "outlinewidth": 0,
             "ticks": ""
            },
            "colorscale": [
             [
              0,
              "#0d0887"
             ],
             [
              0.1111111111111111,
              "#46039f"
             ],
             [
              0.2222222222222222,
              "#7201a8"
             ],
             [
              0.3333333333333333,
              "#9c179e"
             ],
             [
              0.4444444444444444,
              "#bd3786"
             ],
             [
              0.5555555555555556,
              "#d8576b"
             ],
             [
              0.6666666666666666,
              "#ed7953"
             ],
             [
              0.7777777777777778,
              "#fb9f3a"
             ],
             [
              0.8888888888888888,
              "#fdca26"
             ],
             [
              1,
              "#f0f921"
             ]
            ],
            "type": "histogram2d"
           }
          ],
          "histogram2dcontour": [
           {
            "colorbar": {
             "outlinewidth": 0,
             "ticks": ""
            },
            "colorscale": [
             [
              0,
              "#0d0887"
             ],
             [
              0.1111111111111111,
              "#46039f"
             ],
             [
              0.2222222222222222,
              "#7201a8"
             ],
             [
              0.3333333333333333,
              "#9c179e"
             ],
             [
              0.4444444444444444,
              "#bd3786"
             ],
             [
              0.5555555555555556,
              "#d8576b"
             ],
             [
              0.6666666666666666,
              "#ed7953"
             ],
             [
              0.7777777777777778,
              "#fb9f3a"
             ],
             [
              0.8888888888888888,
              "#fdca26"
             ],
             [
              1,
              "#f0f921"
             ]
            ],
            "type": "histogram2dcontour"
           }
          ],
          "mesh3d": [
           {
            "colorbar": {
             "outlinewidth": 0,
             "ticks": ""
            },
            "type": "mesh3d"
           }
          ],
          "parcoords": [
           {
            "line": {
             "colorbar": {
              "outlinewidth": 0,
              "ticks": ""
             }
            },
            "type": "parcoords"
           }
          ],
          "pie": [
           {
            "automargin": true,
            "type": "pie"
           }
          ],
          "scatter": [
           {
            "fillpattern": {
             "fillmode": "overlay",
             "size": 10,
             "solidity": 0.2
            },
            "type": "scatter"
           }
          ],
          "scatter3d": [
           {
            "line": {
             "colorbar": {
              "outlinewidth": 0,
              "ticks": ""
             }
            },
            "marker": {
             "colorbar": {
              "outlinewidth": 0,
              "ticks": ""
             }
            },
            "type": "scatter3d"
           }
          ],
          "scattercarpet": [
           {
            "marker": {
             "colorbar": {
              "outlinewidth": 0,
              "ticks": ""
             }
            },
            "type": "scattercarpet"
           }
          ],
          "scattergeo": [
           {
            "marker": {
             "colorbar": {
              "outlinewidth": 0,
              "ticks": ""
             }
            },
            "type": "scattergeo"
           }
          ],
          "scattergl": [
           {
            "marker": {
             "colorbar": {
              "outlinewidth": 0,
              "ticks": ""
             }
            },
            "type": "scattergl"
           }
          ],
          "scattermapbox": [
           {
            "marker": {
             "colorbar": {
              "outlinewidth": 0,
              "ticks": ""
             }
            },
            "type": "scattermapbox"
           }
          ],
          "scatterpolar": [
           {
            "marker": {
             "colorbar": {
              "outlinewidth": 0,
              "ticks": ""
             }
            },
            "type": "scatterpolar"
           }
          ],
          "scatterpolargl": [
           {
            "marker": {
             "colorbar": {
              "outlinewidth": 0,
              "ticks": ""
             }
            },
            "type": "scatterpolargl"
           }
          ],
          "scatterternary": [
           {
            "marker": {
             "colorbar": {
              "outlinewidth": 0,
              "ticks": ""
             }
            },
            "type": "scatterternary"
           }
          ],
          "surface": [
           {
            "colorbar": {
             "outlinewidth": 0,
             "ticks": ""
            },
            "colorscale": [
             [
              0,
              "#0d0887"
             ],
             [
              0.1111111111111111,
              "#46039f"
             ],
             [
              0.2222222222222222,
              "#7201a8"
             ],
             [
              0.3333333333333333,
              "#9c179e"
             ],
             [
              0.4444444444444444,
              "#bd3786"
             ],
             [
              0.5555555555555556,
              "#d8576b"
             ],
             [
              0.6666666666666666,
              "#ed7953"
             ],
             [
              0.7777777777777778,
              "#fb9f3a"
             ],
             [
              0.8888888888888888,
              "#fdca26"
             ],
             [
              1,
              "#f0f921"
             ]
            ],
            "type": "surface"
           }
          ],
          "table": [
           {
            "cells": {
             "fill": {
              "color": "#EBF0F8"
             },
             "line": {
              "color": "white"
             }
            },
            "header": {
             "fill": {
              "color": "#C8D4E3"
             },
             "line": {
              "color": "white"
             }
            },
            "type": "table"
           }
          ]
         },
         "layout": {
          "annotationdefaults": {
           "arrowcolor": "#2a3f5f",
           "arrowhead": 0,
           "arrowwidth": 1
          },
          "autotypenumbers": "strict",
          "coloraxis": {
           "colorbar": {
            "outlinewidth": 0,
            "ticks": ""
           }
          },
          "colorscale": {
           "diverging": [
            [
             0,
             "#8e0152"
            ],
            [
             0.1,
             "#c51b7d"
            ],
            [
             0.2,
             "#de77ae"
            ],
            [
             0.3,
             "#f1b6da"
            ],
            [
             0.4,
             "#fde0ef"
            ],
            [
             0.5,
             "#f7f7f7"
            ],
            [
             0.6,
             "#e6f5d0"
            ],
            [
             0.7,
             "#b8e186"
            ],
            [
             0.8,
             "#7fbc41"
            ],
            [
             0.9,
             "#4d9221"
            ],
            [
             1,
             "#276419"
            ]
           ],
           "sequential": [
            [
             0,
             "#0d0887"
            ],
            [
             0.1111111111111111,
             "#46039f"
            ],
            [
             0.2222222222222222,
             "#7201a8"
            ],
            [
             0.3333333333333333,
             "#9c179e"
            ],
            [
             0.4444444444444444,
             "#bd3786"
            ],
            [
             0.5555555555555556,
             "#d8576b"
            ],
            [
             0.6666666666666666,
             "#ed7953"
            ],
            [
             0.7777777777777778,
             "#fb9f3a"
            ],
            [
             0.8888888888888888,
             "#fdca26"
            ],
            [
             1,
             "#f0f921"
            ]
           ],
           "sequentialminus": [
            [
             0,
             "#0d0887"
            ],
            [
             0.1111111111111111,
             "#46039f"
            ],
            [
             0.2222222222222222,
             "#7201a8"
            ],
            [
             0.3333333333333333,
             "#9c179e"
            ],
            [
             0.4444444444444444,
             "#bd3786"
            ],
            [
             0.5555555555555556,
             "#d8576b"
            ],
            [
             0.6666666666666666,
             "#ed7953"
            ],
            [
             0.7777777777777778,
             "#fb9f3a"
            ],
            [
             0.8888888888888888,
             "#fdca26"
            ],
            [
             1,
             "#f0f921"
            ]
           ]
          },
          "colorway": [
           "#636efa",
           "#EF553B",
           "#00cc96",
           "#ab63fa",
           "#FFA15A",
           "#19d3f3",
           "#FF6692",
           "#B6E880",
           "#FF97FF",
           "#FECB52"
          ],
          "font": {
           "color": "#2a3f5f"
          },
          "geo": {
           "bgcolor": "white",
           "lakecolor": "white",
           "landcolor": "#E5ECF6",
           "showlakes": true,
           "showland": true,
           "subunitcolor": "white"
          },
          "hoverlabel": {
           "align": "left"
          },
          "hovermode": "closest",
          "mapbox": {
           "style": "light"
          },
          "paper_bgcolor": "white",
          "plot_bgcolor": "#E5ECF6",
          "polar": {
           "angularaxis": {
            "gridcolor": "white",
            "linecolor": "white",
            "ticks": ""
           },
           "bgcolor": "#E5ECF6",
           "radialaxis": {
            "gridcolor": "white",
            "linecolor": "white",
            "ticks": ""
           }
          },
          "scene": {
           "xaxis": {
            "backgroundcolor": "#E5ECF6",
            "gridcolor": "white",
            "gridwidth": 2,
            "linecolor": "white",
            "showbackground": true,
            "ticks": "",
            "zerolinecolor": "white"
           },
           "yaxis": {
            "backgroundcolor": "#E5ECF6",
            "gridcolor": "white",
            "gridwidth": 2,
            "linecolor": "white",
            "showbackground": true,
            "ticks": "",
            "zerolinecolor": "white"
           },
           "zaxis": {
            "backgroundcolor": "#E5ECF6",
            "gridcolor": "white",
            "gridwidth": 2,
            "linecolor": "white",
            "showbackground": true,
            "ticks": "",
            "zerolinecolor": "white"
           }
          },
          "shapedefaults": {
           "line": {
            "color": "#2a3f5f"
           }
          },
          "ternary": {
           "aaxis": {
            "gridcolor": "white",
            "linecolor": "white",
            "ticks": ""
           },
           "baxis": {
            "gridcolor": "white",
            "linecolor": "white",
            "ticks": ""
           },
           "bgcolor": "#E5ECF6",
           "caxis": {
            "gridcolor": "white",
            "linecolor": "white",
            "ticks": ""
           }
          },
          "title": {
           "x": 0.05
          },
          "xaxis": {
           "automargin": true,
           "gridcolor": "white",
           "linecolor": "white",
           "ticks": "",
           "title": {
            "standoff": 15
           },
           "zerolinecolor": "white",
           "zerolinewidth": 2
          },
          "yaxis": {
           "automargin": true,
           "gridcolor": "white",
           "linecolor": "white",
           "ticks": "",
           "title": {
            "standoff": 15
           },
           "zerolinecolor": "white",
           "zerolinewidth": 2
          }
         }
        },
        "xaxis": {
         "anchor": "y",
         "domain": [
          0,
          1
         ],
         "title": {
          "text": "x"
         }
        },
        "yaxis": {
         "anchor": "x",
         "domain": [
          0,
          1
         ],
         "title": {
          "text": "y"
         }
        }
       }
      }
     },
     "metadata": {},
     "output_type": "display_data"
    }
   ],
   "source": [
    "fig_3yr = px.bar(x=df.loc[common_indices, 'Scheme_Name'], y=predictions['Returns_3Yr'])\n",
    "fig_3yr"
   ]
  },
  {
   "cell_type": "code",
   "execution_count": 584,
   "metadata": {},
   "outputs": [
    {
     "data": {
      "application/vnd.plotly.v1+json": {
       "config": {
        "plotlyServerURL": "https://plot.ly"
       },
       "data": [
        {
         "alignmentgroup": "True",
         "hovertemplate": "x=%{x}<br>y=%{y}<extra></extra>",
         "legendgroup": "",
         "marker": {
          "color": "#636efa",
          "pattern": {
           "shape": ""
          }
         },
         "name": "",
         "offsetgroup": "",
         "orientation": "v",
         "showlegend": false,
         "textposition": "auto",
         "type": "bar",
         "x": [
          "HDFC Medium Term Debt Fund",
          "PGIM India Gilt Fund",
          "HDFC Corporate Bond Fund",
          "HSBC Small Cap Fund",
          "Nippon India Arbitrage Fund",
          "UTI-Nifty 50 Index Fund",
          "Franklin Build India Fund",
          "HSBC Value Fund",
          "Kotak Focused Equity Fund",
          "JM Large Cap Fund",
          "AXIS Gold Fund",
          "HDFC Equity Savings Fund",
          "Kotak Low Duration Fund",
          "UTI-Value Opportunities Fund",
          "HDFC Ultra Short Term Fund",
          "Taurus Largecap Equity Fund",
          "Kotak Infrastructure & Ecoc. Reform-SP-DirGrowth",
          "Baroda BNP Paribas Dynamic Bond Fund",
          "ICICI Pru MidCap Fund",
          "Navi ELSS Tax Saver Fund",
          "Canara Robeco Overnight Fund",
          "AXIS Growth Opportunities Fund",
          "Quant Infrastructure Fund",
          "IDBI Focused 30 Equity Fund",
          "Aditya Birla SL Pure Value Fund",
          "Aditya Birla SL Inter Equity – Plan B-Direct Growth",
          "Tata Money Market Fund",
          "Franklin India Flexi Cap Fund",
          "Franklin India Floating Rate Fund",
          "AXIS Short Term Fund",
          "SBI PSU Fund",
          "SBI Long Term Advantage Fund",
          "Union Small Cap Fund",
          "Tata Infrastructure Fund",
          "Sundaram Services Fund",
          "Aditya Birla SL Global Emerging Oppt Fund",
          "IDBI Banking & Financial Services Fund",
          "Nippon India Consumption Fund",
          "AXIS FTP – Series 104 – 1112Days",
          "Edelweiss Mid Cap Fund",
          "AXIS Gilt Fund",
          "Tata Balanced Advantage Fund",
          "Tata India Pharma & Healthcare Fund",
          "Canara Robeco Infrastructure – Direct Growth",
          "LIC MF Savings Fund",
          "Franklin India G-Sec Fund",
          "Navi 3 In 1 Fund",
          "UTI-MNC Fund",
          "Invesco India Medium Duration Fund",
          "Nippon India Strategic Debt Fund",
          "Sundaram Focused Fund",
          "ITI Banking & PSU Debt Fund",
          "PGIM India Low Duration Fund",
          "Sundaram Debt Oriented Hybrid Fund",
          "Nippon India Short Term Fund",
          "JM Liquid Fund",
          "SBI Equity Savings Fund",
          "Bank of India Arbitrage Fund",
          "PGIM India Banking&PSU Debt Fund",
          "Nippon India Gold Savings Fund",
          "Shriram Long Term Equity Fund",
          "SBI Equity Minimum Variance – Direct Growth",
          "Baroda BNP Paribas Money Market Fund",
          "DSP Top 100 Equity Fund",
          "Union Overnight Fund",
          "DSP Regular Savings Fund",
          "HSBC Medium to Long Duration Fund",
          "AXIS All Seasons Debt Fund",
          "Bank of India Overnight Fund",
          "DSP Focus Fund",
          "Sundaram Balanced Advantage Fund",
          "Mahindra Manulife Short Duration Fund",
          "PGIM India Overnight Fund",
          "UTI-Unit Linked Insurance Plan – Direct",
          "Aditya Birla SL Manufacturing Equity Fund",
          "Aditya Birla SL Liquid Fund",
          "Union Corporate Bond Fund",
          "HSBC Flexi Debt Fund",
          "SBI Magnum Gilt Fund",
          "Invesco India – Invesco GEI Fund",
          "Franklin India Focused Equity Fund",
          "Kotak Bond Fund",
          "UTI-Retirement Benefit Pension Plan – Direct",
          "AXIS Nifty 100 Index Fund",
          "AXIS Retirement Savings Fund",
          "Mahindra Manulife Overnight Fund",
          "Motilal Oswal Equity Hybrid Fund",
          "ICICI Pru Value Discovery Fund",
          "Quant Focused Fund",
          "ICICI Pru Manufacturing Fund",
          "Motilal Oswal Nifty Midcap 150 Index Fund",
          "Invesco India Short Term Fund",
          "ICICI Pru Savings Fund",
          "SBI Infrastructure Fund",
          "IDBI Liquid Fund",
          "Mahindra Manulife ELSS Fund",
          "ICICI Pru Equity Savings Fund",
          "ITI Arbitrage Fund",
          "Quantum Multi Asset Fund",
          "Franklin India Liquid Fund",
          "PGIM India Arbitrage Fund",
          "AXIS Children’s Gift Fund",
          "Union Focused Fund",
          "Invesco India Largecap Fund",
          "HSBC Aggressive Hybrid Fund",
          "Mirae Asset Banking and PSU Debt Fund",
          "Bank of India Short Term Income – Direct Growth",
          "JM Value Fund",
          "AXIS Retirement Savings Fund",
          "Franklin India Equity Advantage Fund",
          "Quantum Dynamic Bond Fund",
          "UTI-CCF Investment Plan – Direct Growth",
          "Franklin India Multi-Asset Solution Fund",
          "PGIM India Elss Tax Saver Fund",
          "UTI-Core Equity Fund",
          "Kotak Overnight Fund",
          "Bandhan Asset Allocation FoF – Moderate – Direct Growth",
          "Aditya Birla SL Digital India Fund",
          "Tata Overnight Fund",
          "Baroda BNP Paribas ELSS Fund",
          "Kotak Debt Hybrid Fund",
          "Mahindra Manulife Dynamic Bond Fund",
          "UTI-Long Term Equity Fund",
          "Navi Flexi Cap Fund",
          "Motilal Oswal Nifty Next 50 Index Fund",
          "Invesco India Gold Fund",
          "Baroda BNP Paribas Medium Duration Fund",
          "Invesco India Dynamic Equity Fund",
          "Franklin India Opportunities Fund",
          "Aditya Birla SL Inter Equity – Plan A-Direct Growth",
          "ICICI Pru Equity & Debt Fund",
          "ICICI Pru Retirement Fund",
          "HDFC Large and Mid Cap Fund",
          "UTI-Corporate Bond Fund",
          "AXIS Treasury Advantage Fund",
          "SBI Multi Asset Allocation Fund",
          "PGIM India Flexi Cap Fund",
          "Motilal Oswal Flexi Cap Fund",
          "Sundaram LT Tax Advantage Fund",
          "ICICI Pru India Equity FOF – Direct Growth",
          "SBI Magnum Medium Duration Fund",
          "SBI Nifty Index Fund",
          "Union Equity Savings Fund",
          "Franklin India Banking & PSU Debt Fund",
          "Quant Flexi Cap Fund",
          "Motilal Oswal Nasdaq 100 FOF – Direct Growth",
          "Aditya Birla SL CEF – Global Agri Plan-Direct Growth",
          "Tata Digital India Fund",
          "Baroda BNP Paribas Aggressive Hybrid Fund",
          "ICICI Pru Money Market Fund",
          "HDFC Gilt Fund",
          "SBI Large & Midcap Fund",
          "ICICI Pru Nifty 50 Index Fund",
          "Aditya Birla SL Asset Allocator FoF-Dir Growth",
          "Tata Young Citizens Fund",
          "Tata Large & Mid Cap Fund",
          "Motilal Oswal Nifty 500 Index Fund",
          "UTI-Mastershare – Direct Growth",
          "Sundaram Diversified Equity – Direct Growth",
          "Kotak Equity Hybrid Fund",
          "Union Arbitrage Fund",
          "Motilal Oswal Focused Fund",
          "SBI Technology Opportunities Fund"
         ],
         "xaxis": "x",
         "y": [
          9.109988572134089,
          7.540223809637575,
          8.466345097004258,
          10.19201575237421,
          5.881274344084223,
          11.537482494265866,
          10.839955231020273,
          11.19371149268959,
          4.709395679408476,
          10.57502158601999,
          9.98034252295091,
          8.837860301152649,
          7.665294513887415,
          11.017979094204144,
          2.992941144328932,
          11.00954006297492,
          10.75195359023926,
          7.71950546816512,
          11.133042515506649,
          8.11998967340556,
          -0.5135134382114543,
          4.805070909133447,
          10.928313658202843,
          5.406924111397795,
          10.775387971657185,
          10.202664652084138,
          8.200319379255863,
          11.111484095591589,
          6.710775196945037,
          7.721875120703937,
          10.768332329795008,
          3.254459594011128,
          9.77466276906365,
          10.934191961223604,
          5.692249816695619,
          11.317269737763706,
          5.459363815147516,
          10.779191323838681,
          0.6609267767233442,
          11.220444681448406,
          7.540184150898427,
          2.950124125209199,
          7.966607385139446,
          10.587345468084688,
          6.444514583814715,
          7.651173143206992,
          11.302741919007737,
          10.892472925498787,
          -0.8593961539108808,
          9.898117402039691,
          11.08401969522302,
          -1.7053354803266885,
          6.393646162184937,
          7.549375831436236,
          8.09300116184389,
          6.51693065982293,
          6.752265471835346,
          -0.34037156073562436,
          6.441239302660935,
          10.422751712534367,
          4.865588807084543,
          4.931485934145459,
          0.37681271265225735,
          10.905956745090087,
          -1.4023164834894368,
          7.73095493718749,
          7.622146031057178,
          1.4218376353417428,
          -1.602454187802092,
          10.981761534870802,
          8.871355389996229,
          -0.5869625650002703,
          -0.9493215353053666,
          8.69959201788975,
          8.394267303217564,
          8.429036024158652,
          1.1098993257160146,
          7.496393167744805,
          7.813243537463268,
          10.06130879207208,
          11.043400345997686,
          6.287428663076816,
          9.868826130487076,
          3.8251734980520355,
          3.5532156460178763,
          -0.49995142934224734,
          5.760083776910842,
          11.599712489484169,
          10.950282491265941,
          4.500727856638968,
          5.061814468186902,
          6.419360139428735,
          7.215921822769018,
          10.553758413163813,
          6.7378134314405225,
          6.916995388551061,
          4.6966061678237265,
          -0.8001522596598134,
          10.144257681629544,
          6.726774366454632,
          4.187179118316698,
          7.564968363619758,
          4.3984570790408055,
          11.268481681848513,
          11.116808435558987,
          -0.9681696075597293,
          6.0878169417009635,
          10.543455338083195,
          2.4933769680788176,
          10.833235183159381,
          5.575513414015467,
          10.744133130322684,
          6.799037909305221,
          7.837028477963734,
          10.6621708836215,
          -0.3248123954240745,
          10.278248071361809,
          11.286389710998215,
          -0.8974552130200957,
          10.939908606048853,
          8.711242872676916,
          2.4639421319330497,
          11.064854008807423,
          6.006165129714634,
          3.9457143526284595,
          10.225642165692282,
          6.654597085992488,
          11.018939692946084,
          10.59202355284242,
          10.396884111685434,
          11.46542927865,
          1.1944859936507966,
          11.308750215795925,
          1.4970263347664527,
          6.51229480419189,
          11.03210900101179,
          9.052062989851645,
          10.112558771698964,
          7.955688977604765,
          3.8575121415555254,
          8.922227590303802,
          11.425205168565206,
          2.000000625416961,
          5.669904772619403,
          10.96179515789056,
          5.174186723886215,
          10.617981890906393,
          8.430395255223267,
          7.0465023188751355,
          8.279417020390802,
          7.967263911051874,
          11.153929797076142,
          11.64782352860713,
          9.823926085685173,
          10.602529531823546,
          11.245193993667314,
          4.969182740735806,
          11.206248309280834,
          10.876937550171451,
          8.901200162888767,
          -0.8847913890925954,
          11.017738099950698,
          11.081611304565588
         ],
         "yaxis": "y"
        }
       ],
       "layout": {
        "barmode": "relative",
        "legend": {
         "tracegroupgap": 0
        },
        "margin": {
         "t": 60
        },
        "template": {
         "data": {
          "bar": [
           {
            "error_x": {
             "color": "#2a3f5f"
            },
            "error_y": {
             "color": "#2a3f5f"
            },
            "marker": {
             "line": {
              "color": "#E5ECF6",
              "width": 0.5
             },
             "pattern": {
              "fillmode": "overlay",
              "size": 10,
              "solidity": 0.2
             }
            },
            "type": "bar"
           }
          ],
          "barpolar": [
           {
            "marker": {
             "line": {
              "color": "#E5ECF6",
              "width": 0.5
             },
             "pattern": {
              "fillmode": "overlay",
              "size": 10,
              "solidity": 0.2
             }
            },
            "type": "barpolar"
           }
          ],
          "carpet": [
           {
            "aaxis": {
             "endlinecolor": "#2a3f5f",
             "gridcolor": "white",
             "linecolor": "white",
             "minorgridcolor": "white",
             "startlinecolor": "#2a3f5f"
            },
            "baxis": {
             "endlinecolor": "#2a3f5f",
             "gridcolor": "white",
             "linecolor": "white",
             "minorgridcolor": "white",
             "startlinecolor": "#2a3f5f"
            },
            "type": "carpet"
           }
          ],
          "choropleth": [
           {
            "colorbar": {
             "outlinewidth": 0,
             "ticks": ""
            },
            "type": "choropleth"
           }
          ],
          "contour": [
           {
            "colorbar": {
             "outlinewidth": 0,
             "ticks": ""
            },
            "colorscale": [
             [
              0,
              "#0d0887"
             ],
             [
              0.1111111111111111,
              "#46039f"
             ],
             [
              0.2222222222222222,
              "#7201a8"
             ],
             [
              0.3333333333333333,
              "#9c179e"
             ],
             [
              0.4444444444444444,
              "#bd3786"
             ],
             [
              0.5555555555555556,
              "#d8576b"
             ],
             [
              0.6666666666666666,
              "#ed7953"
             ],
             [
              0.7777777777777778,
              "#fb9f3a"
             ],
             [
              0.8888888888888888,
              "#fdca26"
             ],
             [
              1,
              "#f0f921"
             ]
            ],
            "type": "contour"
           }
          ],
          "contourcarpet": [
           {
            "colorbar": {
             "outlinewidth": 0,
             "ticks": ""
            },
            "type": "contourcarpet"
           }
          ],
          "heatmap": [
           {
            "colorbar": {
             "outlinewidth": 0,
             "ticks": ""
            },
            "colorscale": [
             [
              0,
              "#0d0887"
             ],
             [
              0.1111111111111111,
              "#46039f"
             ],
             [
              0.2222222222222222,
              "#7201a8"
             ],
             [
              0.3333333333333333,
              "#9c179e"
             ],
             [
              0.4444444444444444,
              "#bd3786"
             ],
             [
              0.5555555555555556,
              "#d8576b"
             ],
             [
              0.6666666666666666,
              "#ed7953"
             ],
             [
              0.7777777777777778,
              "#fb9f3a"
             ],
             [
              0.8888888888888888,
              "#fdca26"
             ],
             [
              1,
              "#f0f921"
             ]
            ],
            "type": "heatmap"
           }
          ],
          "heatmapgl": [
           {
            "colorbar": {
             "outlinewidth": 0,
             "ticks": ""
            },
            "colorscale": [
             [
              0,
              "#0d0887"
             ],
             [
              0.1111111111111111,
              "#46039f"
             ],
             [
              0.2222222222222222,
              "#7201a8"
             ],
             [
              0.3333333333333333,
              "#9c179e"
             ],
             [
              0.4444444444444444,
              "#bd3786"
             ],
             [
              0.5555555555555556,
              "#d8576b"
             ],
             [
              0.6666666666666666,
              "#ed7953"
             ],
             [
              0.7777777777777778,
              "#fb9f3a"
             ],
             [
              0.8888888888888888,
              "#fdca26"
             ],
             [
              1,
              "#f0f921"
             ]
            ],
            "type": "heatmapgl"
           }
          ],
          "histogram": [
           {
            "marker": {
             "pattern": {
              "fillmode": "overlay",
              "size": 10,
              "solidity": 0.2
             }
            },
            "type": "histogram"
           }
          ],
          "histogram2d": [
           {
            "colorbar": {
             "outlinewidth": 0,
             "ticks": ""
            },
            "colorscale": [
             [
              0,
              "#0d0887"
             ],
             [
              0.1111111111111111,
              "#46039f"
             ],
             [
              0.2222222222222222,
              "#7201a8"
             ],
             [
              0.3333333333333333,
              "#9c179e"
             ],
             [
              0.4444444444444444,
              "#bd3786"
             ],
             [
              0.5555555555555556,
              "#d8576b"
             ],
             [
              0.6666666666666666,
              "#ed7953"
             ],
             [
              0.7777777777777778,
              "#fb9f3a"
             ],
             [
              0.8888888888888888,
              "#fdca26"
             ],
             [
              1,
              "#f0f921"
             ]
            ],
            "type": "histogram2d"
           }
          ],
          "histogram2dcontour": [
           {
            "colorbar": {
             "outlinewidth": 0,
             "ticks": ""
            },
            "colorscale": [
             [
              0,
              "#0d0887"
             ],
             [
              0.1111111111111111,
              "#46039f"
             ],
             [
              0.2222222222222222,
              "#7201a8"
             ],
             [
              0.3333333333333333,
              "#9c179e"
             ],
             [
              0.4444444444444444,
              "#bd3786"
             ],
             [
              0.5555555555555556,
              "#d8576b"
             ],
             [
              0.6666666666666666,
              "#ed7953"
             ],
             [
              0.7777777777777778,
              "#fb9f3a"
             ],
             [
              0.8888888888888888,
              "#fdca26"
             ],
             [
              1,
              "#f0f921"
             ]
            ],
            "type": "histogram2dcontour"
           }
          ],
          "mesh3d": [
           {
            "colorbar": {
             "outlinewidth": 0,
             "ticks": ""
            },
            "type": "mesh3d"
           }
          ],
          "parcoords": [
           {
            "line": {
             "colorbar": {
              "outlinewidth": 0,
              "ticks": ""
             }
            },
            "type": "parcoords"
           }
          ],
          "pie": [
           {
            "automargin": true,
            "type": "pie"
           }
          ],
          "scatter": [
           {
            "fillpattern": {
             "fillmode": "overlay",
             "size": 10,
             "solidity": 0.2
            },
            "type": "scatter"
           }
          ],
          "scatter3d": [
           {
            "line": {
             "colorbar": {
              "outlinewidth": 0,
              "ticks": ""
             }
            },
            "marker": {
             "colorbar": {
              "outlinewidth": 0,
              "ticks": ""
             }
            },
            "type": "scatter3d"
           }
          ],
          "scattercarpet": [
           {
            "marker": {
             "colorbar": {
              "outlinewidth": 0,
              "ticks": ""
             }
            },
            "type": "scattercarpet"
           }
          ],
          "scattergeo": [
           {
            "marker": {
             "colorbar": {
              "outlinewidth": 0,
              "ticks": ""
             }
            },
            "type": "scattergeo"
           }
          ],
          "scattergl": [
           {
            "marker": {
             "colorbar": {
              "outlinewidth": 0,
              "ticks": ""
             }
            },
            "type": "scattergl"
           }
          ],
          "scattermapbox": [
           {
            "marker": {
             "colorbar": {
              "outlinewidth": 0,
              "ticks": ""
             }
            },
            "type": "scattermapbox"
           }
          ],
          "scatterpolar": [
           {
            "marker": {
             "colorbar": {
              "outlinewidth": 0,
              "ticks": ""
             }
            },
            "type": "scatterpolar"
           }
          ],
          "scatterpolargl": [
           {
            "marker": {
             "colorbar": {
              "outlinewidth": 0,
              "ticks": ""
             }
            },
            "type": "scatterpolargl"
           }
          ],
          "scatterternary": [
           {
            "marker": {
             "colorbar": {
              "outlinewidth": 0,
              "ticks": ""
             }
            },
            "type": "scatterternary"
           }
          ],
          "surface": [
           {
            "colorbar": {
             "outlinewidth": 0,
             "ticks": ""
            },
            "colorscale": [
             [
              0,
              "#0d0887"
             ],
             [
              0.1111111111111111,
              "#46039f"
             ],
             [
              0.2222222222222222,
              "#7201a8"
             ],
             [
              0.3333333333333333,
              "#9c179e"
             ],
             [
              0.4444444444444444,
              "#bd3786"
             ],
             [
              0.5555555555555556,
              "#d8576b"
             ],
             [
              0.6666666666666666,
              "#ed7953"
             ],
             [
              0.7777777777777778,
              "#fb9f3a"
             ],
             [
              0.8888888888888888,
              "#fdca26"
             ],
             [
              1,
              "#f0f921"
             ]
            ],
            "type": "surface"
           }
          ],
          "table": [
           {
            "cells": {
             "fill": {
              "color": "#EBF0F8"
             },
             "line": {
              "color": "white"
             }
            },
            "header": {
             "fill": {
              "color": "#C8D4E3"
             },
             "line": {
              "color": "white"
             }
            },
            "type": "table"
           }
          ]
         },
         "layout": {
          "annotationdefaults": {
           "arrowcolor": "#2a3f5f",
           "arrowhead": 0,
           "arrowwidth": 1
          },
          "autotypenumbers": "strict",
          "coloraxis": {
           "colorbar": {
            "outlinewidth": 0,
            "ticks": ""
           }
          },
          "colorscale": {
           "diverging": [
            [
             0,
             "#8e0152"
            ],
            [
             0.1,
             "#c51b7d"
            ],
            [
             0.2,
             "#de77ae"
            ],
            [
             0.3,
             "#f1b6da"
            ],
            [
             0.4,
             "#fde0ef"
            ],
            [
             0.5,
             "#f7f7f7"
            ],
            [
             0.6,
             "#e6f5d0"
            ],
            [
             0.7,
             "#b8e186"
            ],
            [
             0.8,
             "#7fbc41"
            ],
            [
             0.9,
             "#4d9221"
            ],
            [
             1,
             "#276419"
            ]
           ],
           "sequential": [
            [
             0,
             "#0d0887"
            ],
            [
             0.1111111111111111,
             "#46039f"
            ],
            [
             0.2222222222222222,
             "#7201a8"
            ],
            [
             0.3333333333333333,
             "#9c179e"
            ],
            [
             0.4444444444444444,
             "#bd3786"
            ],
            [
             0.5555555555555556,
             "#d8576b"
            ],
            [
             0.6666666666666666,
             "#ed7953"
            ],
            [
             0.7777777777777778,
             "#fb9f3a"
            ],
            [
             0.8888888888888888,
             "#fdca26"
            ],
            [
             1,
             "#f0f921"
            ]
           ],
           "sequentialminus": [
            [
             0,
             "#0d0887"
            ],
            [
             0.1111111111111111,
             "#46039f"
            ],
            [
             0.2222222222222222,
             "#7201a8"
            ],
            [
             0.3333333333333333,
             "#9c179e"
            ],
            [
             0.4444444444444444,
             "#bd3786"
            ],
            [
             0.5555555555555556,
             "#d8576b"
            ],
            [
             0.6666666666666666,
             "#ed7953"
            ],
            [
             0.7777777777777778,
             "#fb9f3a"
            ],
            [
             0.8888888888888888,
             "#fdca26"
            ],
            [
             1,
             "#f0f921"
            ]
           ]
          },
          "colorway": [
           "#636efa",
           "#EF553B",
           "#00cc96",
           "#ab63fa",
           "#FFA15A",
           "#19d3f3",
           "#FF6692",
           "#B6E880",
           "#FF97FF",
           "#FECB52"
          ],
          "font": {
           "color": "#2a3f5f"
          },
          "geo": {
           "bgcolor": "white",
           "lakecolor": "white",
           "landcolor": "#E5ECF6",
           "showlakes": true,
           "showland": true,
           "subunitcolor": "white"
          },
          "hoverlabel": {
           "align": "left"
          },
          "hovermode": "closest",
          "mapbox": {
           "style": "light"
          },
          "paper_bgcolor": "white",
          "plot_bgcolor": "#E5ECF6",
          "polar": {
           "angularaxis": {
            "gridcolor": "white",
            "linecolor": "white",
            "ticks": ""
           },
           "bgcolor": "#E5ECF6",
           "radialaxis": {
            "gridcolor": "white",
            "linecolor": "white",
            "ticks": ""
           }
          },
          "scene": {
           "xaxis": {
            "backgroundcolor": "#E5ECF6",
            "gridcolor": "white",
            "gridwidth": 2,
            "linecolor": "white",
            "showbackground": true,
            "ticks": "",
            "zerolinecolor": "white"
           },
           "yaxis": {
            "backgroundcolor": "#E5ECF6",
            "gridcolor": "white",
            "gridwidth": 2,
            "linecolor": "white",
            "showbackground": true,
            "ticks": "",
            "zerolinecolor": "white"
           },
           "zaxis": {
            "backgroundcolor": "#E5ECF6",
            "gridcolor": "white",
            "gridwidth": 2,
            "linecolor": "white",
            "showbackground": true,
            "ticks": "",
            "zerolinecolor": "white"
           }
          },
          "shapedefaults": {
           "line": {
            "color": "#2a3f5f"
           }
          },
          "ternary": {
           "aaxis": {
            "gridcolor": "white",
            "linecolor": "white",
            "ticks": ""
           },
           "baxis": {
            "gridcolor": "white",
            "linecolor": "white",
            "ticks": ""
           },
           "bgcolor": "#E5ECF6",
           "caxis": {
            "gridcolor": "white",
            "linecolor": "white",
            "ticks": ""
           }
          },
          "title": {
           "x": 0.05
          },
          "xaxis": {
           "automargin": true,
           "gridcolor": "white",
           "linecolor": "white",
           "ticks": "",
           "title": {
            "standoff": 15
           },
           "zerolinecolor": "white",
           "zerolinewidth": 2
          },
          "yaxis": {
           "automargin": true,
           "gridcolor": "white",
           "linecolor": "white",
           "ticks": "",
           "title": {
            "standoff": 15
           },
           "zerolinecolor": "white",
           "zerolinewidth": 2
          }
         }
        },
        "xaxis": {
         "anchor": "y",
         "domain": [
          0,
          1
         ],
         "title": {
          "text": "x"
         }
        },
        "yaxis": {
         "anchor": "x",
         "domain": [
          0,
          1
         ],
         "title": {
          "text": "y"
         }
        }
       }
      }
     },
     "metadata": {},
     "output_type": "display_data"
    }
   ],
   "source": [
    "fig_5yr = px.bar(x=df.loc[common_indices, 'Scheme_Name'], y=predictions['Returns_5Yr'])\n",
    "fig_5yr"
   ]
  },
  {
   "cell_type": "code",
   "execution_count": 588,
   "metadata": {},
   "outputs": [],
   "source": [
    "# r2_scores = {target: r2_score(actual_values[target], predictions[target]) for target in targets}\n",
    "# for target, r2_score_value in r2_scores.items():\n",
    "#     print(f'R-squared for {target}: {r2_score_value}')\n"
   ]
  },
  {
   "cell_type": "code",
   "execution_count": 586,
   "metadata": {},
   "outputs": [],
   "source": [
    "top_scheme_indices_1yr = predictions['Returns_1Yr'].argsort()[-5:][::-1]  \n",
    "top_schemes_1yr = df.loc[top_scheme_indices_1yr, 'Scheme_Name']"
   ]
  },
  {
   "cell_type": "code",
   "execution_count": 587,
   "metadata": {},
   "outputs": [
    {
     "name": "stdout",
     "output_type": "stream",
     "text": [
      "[ 4 53 96 20 99]\n",
      "4               Aditya Birla SL Balanced Advantage Fund\n",
      "53                                   AXIS Bluechip Fund\n",
      "96                         Bank of India Overnight Fund\n",
      "20    Aditya Birla SL FP FoF – Conservative – Direct...\n",
      "99                     Bank of India Tax Advantage Fund\n",
      "Name: Scheme_Name, dtype: object\n"
     ]
    }
   ],
   "source": [
    "print(top_scheme_indices_1yr)\n",
    "print(top_schemes_1yr)"
   ]
  },
  {
   "cell_type": "code",
   "execution_count": null,
   "metadata": {},
   "outputs": [],
   "source": []
  }
 ],
 "metadata": {
  "kernelspec": {
   "display_name": "Python 3",
   "language": "python",
   "name": "python3"
  },
  "language_info": {
   "codemirror_mode": {
    "name": "ipython",
    "version": 3
   },
   "file_extension": ".py",
   "mimetype": "text/x-python",
   "name": "python",
   "nbconvert_exporter": "python",
   "pygments_lexer": "ipython3",
   "version": "3.9.16"
  }
 },
 "nbformat": 4,
 "nbformat_minor": 2
}
